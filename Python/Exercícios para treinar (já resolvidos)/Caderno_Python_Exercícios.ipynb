{
 "cells": [
  {
   "cell_type": "markdown",
   "metadata": {},
   "source": [
    " # ============================================================ \n",
    " # CADERNO DE EXERCÍCIOS PYTHON\n",
    "# ============================================================\n",
    "\n",
    "\n"
   ]
  },
  {
   "cell_type": "markdown",
   "metadata": {},
   "source": [
    "\n",
    "\n",
    " # SECAO_01: VARIAVEIS, INPUT/OUTPUT E OPERADORES"
   ]
  },
  {
   "cell_type": "markdown",
   "metadata": {},
   "source": [
    " ### EX_01: INPUT_PRINT_NOME\n",
    "\n",
    " **Exercício:** Escreva um programa que peça ao usuário para digitar seu nome e, em seguida, imprima uma mensagem de boas-vindas com o nome fornecido."
   ]
  },
  {
   "cell_type": "code",
   "execution_count": null,
   "metadata": {},
   "outputs": [],
   "source": [
    "# Solução\n",
    "nome = input(\"Digite o seu nome: \")\n",
    "print(f'Bem vindo(a), {nome}')\n"
   ]
  },
  {
   "cell_type": "markdown",
   "metadata": {},
   "source": [
    " ---\n",
    "\n",
    " ### EX_02: OPERADORES_ARITMETICOS\n",
    "\n",
    " **Exercício:** Crie duas variáveis, `numero1` e `numero2`, e atribua a elas valores inteiros. Calcule a soma, subtração, multiplicação e divisão dessas variáveis e imprima os resultados."
   ]
  },
  {
   "cell_type": "code",
   "execution_count": null,
   "metadata": {},
   "outputs": [],
   "source": [
    "# Solução\n",
    "numero1 = 10\n",
    "numero2 = 3\n",
    "\n",
    "soma = numero1 + numero2\n",
    "print(f'Soma: {soma}.')\n",
    "\n",
    "subtracao = numero1 - numero2\n",
    "print(f'Subtração: {subtracao}.')\n",
    "\n",
    "multiplicacao = numero1 * numero2\n",
    "print(f'Multiplicação: {multiplicacao}.')\n",
    "\n",
    "divisao = numero1 / numero2\n",
    "print(f'Divisão: {divisao: .2f}.')\n",
    "\n",
    "# Também é possível executar a operação diretamente no print:\n",
    "print(f'A soma (direto no print) é {numero1 + numero2}.')\n"
   ]
  },
  {
   "cell_type": "markdown",
   "metadata": {},
   "source": [
    " ---\n",
    "\n",
    " ### EX_03: CONCEITO_ESCOPO\n",
    "\n",
    " **Exercício:** Qual é a principal diferença entre uma variável de escopo local e uma de escopo global?"
   ]
  },
  {
   "cell_type": "code",
   "execution_count": null,
   "metadata": {},
   "outputs": [],
   "source": [
    "# Solução (Conceitual)\n",
    "print(\"\"\"\n",
    "A variável de escopo global pode ser acessada de qualquer lugar do código\n",
    "(dentro ou fora de funções).\n",
    "A de escopo local só pode ser acessada dentro do bloco (função)\n",
    "onde ela foi criada.\n",
    "\"\"\")\n"
   ]
  },
  {
   "cell_type": "markdown",
   "metadata": {},
   "source": [
    " ---\n",
    "\n",
    " ### EX_04: FLOAT_FORMATACAO\n",
    "\n",
    " **Exercício:** Crie uma variável chamada `saldo` com o valor 500.50 (float). Em seguida, crie uma variável `saque` com o valor 200.25 (float). Subtraia o saque do saldo e imprima o saldo final formatado para duas casas decimais."
   ]
  },
  {
   "cell_type": "code",
   "execution_count": null,
   "metadata": {},
   "outputs": [],
   "source": [
    "# Solução\n",
    "saldo = 500.50\n",
    "saque = 200.25\n",
    "saldo_final = saldo - saque\n",
    "\n",
    "print(f'Seu saldo atual é de R${saldo_final: .2f}')\n"
   ]
  },
  {
   "cell_type": "markdown",
   "metadata": {},
   "source": [
    " ---\n",
    "\n",
    " ### EX_05: TYPE_CASTING_INT\n",
    "\n",
    " **Exercício:** Converta a string \"2026\" para um tipo inteiro e armazene-a em uma variável chamada `ano`. Em seguida, some 1 a essa variável e imprima o novo ano."
   ]
  },
  {
   "cell_type": "code",
   "execution_count": null,
   "metadata": {},
   "outputs": [],
   "source": [
    "# Solução\n",
    "ano_str = \"2026\"\n",
    "ano_int = int(ano_str)\n",
    "novo_ano = ano_int + 1\n",
    "print(f'O novo ano é {novo_ano}')\n"
   ]
  },
  {
   "cell_type": "markdown",
   "metadata": {},
   "source": [
    " ---\n",
    "\n",
    " ### EX_06: TYPE_CASTING_VARIOS\n",
    "\n",
    " **Exercício:** Peça ao usuário um número decimal e exiba: o número convertido para inteiro, para string e o tipo de cada conversão."
   ]
  },
  {
   "cell_type": "code",
   "execution_count": null,
   "metadata": {},
   "outputs": [],
   "source": [
    "# Solução\n",
    "numero_decimal = float(input(\"Insira um número decimal (ex: 10.5): \"))\n",
    "\n",
    "numero_int = int(numero_decimal)\n",
    "numero_str = str(numero_decimal)\n",
    "\n",
    "print(f'O número como Inteiro: {numero_int}')\n",
    "print(f'Ele é do tipo {type(numero_int)}')\n",
    "\n",
    "print(f'O número como String: {numero_str}')\n",
    "print(f'Ele é do tipo {type(numero_str)}')\n"
   ]
  },
  {
   "cell_type": "markdown",
   "metadata": {},
   "source": [
    " ---\n",
    "\n",
    " ### EX_07: TYPE_CASTING_FLOAT_INT\n",
    "\n",
    " **Exercício:** Crie um programa que leia um número real qualquer pelo teclado e mostre na tela a sua porção inteira. (Exercício original 39)"
   ]
  },
  {
   "cell_type": "code",
   "execution_count": null,
   "metadata": {},
   "outputs": [],
   "source": [
    "# Solução\n",
    "numero_real = float(input('Digite um número real (ex: 6.127): '))\n",
    "porcao_inteira = int(numero_real)\n",
    "print (f'A porção inteira do número {numero_real} é {porcao_inteira}')\n"
   ]
  },
  {
   "cell_type": "markdown",
   "metadata": {},
   "source": [
    " ---\n",
    "\n",
    " ### EX_08: OPERADOR_POTENCIA\n",
    "\n",
    " **Exercício:** Calcule a potência de 2 elevado a 10 e imprima o resultado."
   ]
  },
  {
   "cell_type": "code",
   "execution_count": null,
   "metadata": {},
   "outputs": [],
   "source": [
    "# Solução\n",
    "a = 2\n",
    "b = 10\n",
    "\n",
    "potencia = a ** b  # O operador de potência é **\n",
    "print(f'O resultado de 2 elevado a 10 é {potencia}')\n"
   ]
  },
  {
   "cell_type": "markdown",
   "metadata": {},
   "source": [
    " ---\n",
    "\n",
    " ### EX_09: OPERADORES_TODOS\n",
    "\n",
    " **Exercício:** Crie duas variáveis com números inteiros e mostre a soma, subtração, multiplicação, divisão real e inteira, resto e exponenciação."
   ]
  },
  {
   "cell_type": "code",
   "execution_count": null,
   "metadata": {},
   "outputs": [],
   "source": [
    "# Solução\n",
    "a = 8\n",
    "b = 2 # Trocado para 2 para a divisão ter resto 0\n",
    "\n",
    "print (f'A soma é {a + b}')\n",
    "print (f'A subtração é {a - b}')\n",
    "print (f'A multiplicação é {a * b}')\n",
    "print (f'A divisão real é {a / b}')\n",
    "print (f'A divisão inteira é {a // b}') # Remove a parte decimal\n",
    "print (f'O resto (módulo) é {a % b}')\n",
    "print (f'A potência é {a ** b}')\n"
   ]
  },
  {
   "cell_type": "markdown",
   "metadata": {},
   "source": [
    " ---\n",
    "\n",
    " ### EX_10: CALCULO_IMC\n",
    "\n",
    " **Exercício:** Peça ao usuário para digitar sua altura em metros (ex: 1.75) e seu peso em quilogramas (ex: 68.5). Calcule o Índice de Massa Corporal (IMC) usando a fórmula IMC = peso / (altura * altura) e imprima o resultado formatado com duas casas decimais."
   ]
  },
  {
   "cell_type": "code",
   "execution_count": null,
   "metadata": {},
   "outputs": [],
   "source": [
    "# Solução\n",
    "altura = float(input(\"Digite a sua altura em metros: \"))\n",
    "# Alterado para float para aceitar casas decimais (ex: 68.5)\n",
    "peso = float(input(\"Digite o seu peso em quilogramas: \")) \n",
    "\n",
    "imc = peso / (altura * altura) # ou peso / (altura ** 2)\n",
    "\n",
    "print (f'Seu IMC é de {imc: .2f}')\n",
    "\n"
   ]
  },
  {
   "cell_type": "markdown",
   "metadata": {},
   "source": [
    "\n",
    "\n",
    " # SECAO_02: OPERADORES LOGICOS E CONDICIONAIS (IF/ELSE)\n"
   ]
  },
  {
   "cell_type": "markdown",
   "metadata": {},
   "source": [
    " ---\n",
    "\n",
    " ### EX_11: CONDICIONAL_SIMPLES_BOOL\n",
    "\n",
    " **Exercício:** Declare uma variável booleana chamada `tem_carteira_de_motorista` e atribua a ela o valor `True`. Imprima uma mensagem que diga \"Pode dirigir\" se a variável for verdadeira e \"Não pode dirigir\" caso contrário."
   ]
  },
  {
   "cell_type": "code",
   "execution_count": null,
   "metadata": {},
   "outputs": [],
   "source": [
    "# Solução\n",
    "tem_carteira_de_motorista = True\n",
    "\n",
    "if tem_carteira_de_motorista: # O mesmo que 'if tem_carteira_de_motorista == True'\n",
    "    print(\"Pode dirigir\")\n",
    "else:\n",
    "    print('Não pode dirigir')\n"
   ]
  },
  {
   "cell_type": "markdown",
   "metadata": {},
   "source": [
    " ---\n",
    "\n",
    " ### EX_12: OPERADOR_COMPARACAO\n",
    "\n",
    " **Exercício:** Crie duas variáveis: `idade_ana = 25` e `idade_beto = 30`. Use operadores de comparação para verificar se a idade de Ana é menor que a de Beto e imprima o resultado booleano."
   ]
  },
  {
   "cell_type": "code",
   "execution_count": null,
   "metadata": {},
   "outputs": [],
   "source": [
    "# Solução\n",
    "idade_ana = 25\n",
    "idade_beto = 30\n",
    "\n",
    "# O operador de comparação '<' já retorna um booleano (True ou False)\n",
    "resultado = idade_ana < idade_beto\n",
    "print(f\"A idade de Ana é menor que a de Beto? {resultado}\")\n"
   ]
  },
  {
   "cell_type": "markdown",
   "metadata": {},
   "source": [
    " ---\n",
    "\n",
    " ### EX_13: CONDICIONAL_MODULO_PAR_IMPAR\n",
    "\n",
    " **Exercício:** Receba um número inteiro do usuário e use o operador de módulo (%) para verificar se o número é par ou ímpar. Imprima o resultado."
   ]
  },
  {
   "cell_type": "code",
   "execution_count": null,
   "metadata": {},
   "outputs": [],
   "source": [
    "# Solução\n",
    "numero = int(input('Digite um número inteiro: '))\n",
    "\n",
    "# O operador % retorna o resto da divisão.\n",
    "# Se o resto da divisão por 2 for 0, o número é par.\n",
    "if (numero % 2 == 0):\n",
    "    print (\"O número é PAR\")\n",
    "else:\n",
    "    print (\"O número é ÍMPAR\")\n"
   ]
  },
  {
   "cell_type": "markdown",
   "metadata": {},
   "source": [
    " ---\n",
    "\n",
    " ### EX_14: OPERADORES_LOGICOS_AND_NOT\n",
    "\n",
    " **Exercício:** Crie duas variáveis booleanas: `chovendo = True` e `guarda_chuva = False`. Use operadores lógicos para verificar se uma pessoa vai se molhar (se está chovendo E ela não tem guarda-chuva)."
   ]
  },
  {
   "cell_type": "code",
   "execution_count": null,
   "metadata": {},
   "outputs": [],
   "source": [
    "# Solução\n",
    "chovendo = True\n",
    "guarda_chuva = False\n",
    "\n",
    "# 'not guarda_chuva' inverte o valor (de False para True)\n",
    "vai_se_molhar = (chovendo and not guarda_chuva)\n",
    "\n",
    "if (vai_se_molhar):\n",
    "    print(\"A pessoa vai se molhar\")\n",
    "else:\n",
    "    print('A pessoa não vai se molhar')\n"
   ]
  },
  {
   "cell_type": "markdown",
   "metadata": {},
   "source": [
    " ---\n",
    "\n",
    " ### EX_15: CONDICIONAL_OPERADOR_TERNARIO\n",
    "\n",
    " **Exercício:** Peça a idade do usuário e exiba se ele é maior ou menor de idade usando o operador ternário."
   ]
  },
  {
   "cell_type": "code",
   "execution_count": null,
   "metadata": {},
   "outputs": [],
   "source": [
    "# Solução\n",
    "idade = int(input('Qual é a sua idade? '))\n",
    "\n",
    "# Solução padrão com if/else\n",
    "if idade >= 18:\n",
    "    print('(Com if/else): Você é maior de idade')\n",
    "else:\n",
    "    print('(Com if/else): Você é menor de idade')\n",
    "\n",
    "# Solução (usando o Operador Ternário, como pedido no enunciado)\n",
    "# O operador ternário é uma forma de escrever um if/else em uma única linha.\n",
    "status = \"Maior de idade\" if idade >= 18 else \"Menor de idade\"\n",
    "print(f\"(Com operador ternário): Você é {status}\")\n"
   ]
  },
  {
   "cell_type": "markdown",
   "metadata": {},
   "source": [
    " ---\n",
    "\n",
    " ### EX_16: CONDICIONAL_COMPARACAO_NUMEROS\n",
    "\n",
    " **Exercício:** Escreva um programa que leia dois números inteiros e compare-os mostrando na tela uma mensagem: (Exercício original 43)\n",
    "\n",
    " - O primeiro valor é maior\n",
    "\n",
    " - O segundo valor é maior\n",
    "\n",
    " - Os dois valores são iguais"
   ]
  },
  {
   "cell_type": "code",
   "execution_count": null,
   "metadata": {},
   "outputs": [],
   "source": [
    "# Solução (Exercício estava sem solução)\n",
    "num1 = int(input(\"Digite o primeiro valor: \"))\n",
    "num2 = int(input(\"Digite o segundo valor: \"))\n",
    "\n",
    "if num1 > num2:\n",
    "    print(\"O primeiro valor é MAIOR\")\n",
    "elif num2 > num1:\n",
    "    print(\"O segundo valor é MAIOR\")\n",
    "else:\n",
    "    print(\"Os dois valores são IGUAIS\")\n"
   ]
  },
  {
   "cell_type": "markdown",
   "metadata": {},
   "source": [
    " ---\n",
    "\n",
    " ### EX_17: CONDICIONAL_MEDIA_ALUNO\n",
    "\n",
    " **Exercício:** Crie um programa que leia duas notas de um aluno e calcule sua média, mostrando uma mensagem no final, de acordo com a média atingida: (Exercício original 45)\n",
    "\n",
    " - Média abaixo de 5.0: Reprovado\n",
    "\n",
    " - Média entre 5.0 e 6.9: Recuperação\n",
    "\n",
    " - Média 7.0 ou superior: Aprovado"
   ]
  },
  {
   "cell_type": "code",
   "execution_count": null,
   "metadata": {},
   "outputs": [],
   "source": [
    "# Solução (Exercício estava sem solução)\n",
    "nota1 = float(input(\"Digite a primeira nota: \"))\n",
    "nota2 = float(input(\"Digite a segunda nota: \"))\n",
    "media = (nota1 + nota2) / 2\n",
    "\n",
    "print(f\"Sua média foi {media: .1f}\")\n",
    "if media >= 7.0:\n",
    "    print(\"Status: APROVADO\")\n",
    "elif media >= 5.0: # Não precisa checar se é < 7.0, pois o 'if' anterior já cuidou disso\n",
    "    print(\"Status: RECUPERAÇÃO\")\n",
    "else:\n",
    "    print(\"Status: REPROVADO\")\n"
   ]
  },
  {
   "cell_type": "markdown",
   "metadata": {},
   "source": [
    " ---\n",
    "\n",
    " ### EX_18: CONDICIONAL_CATEGORIA_NATACAO\n",
    "\n",
    " **Exercício:** A confederação nacional de natação precisa de um programa que leia o ano de nascimento de um atleta e mostre sua categoria, de acordo com a idade: (Exercício original 46)\n",
    "\n",
    " - Até 9 anos: MIRIM\n",
    "\n",
    " - Até 14 anos: INFANTIL\n",
    "\n",
    " - Até 19 anos: JÚNIOR\n",
    "\n",
    " - Até 25 anos: SÊNIOR\n",
    "\n",
    " - Acima de 25 anos: MASTER"
   ]
  },
  {
   "cell_type": "code",
   "execution_count": null,
   "metadata": {},
   "outputs": [],
   "source": [
    "# Solução (Exercício estava sem solução)\n",
    "# Importamos o módulo date para pegar o ano atual\n",
    "from datetime import date \n",
    "ano_atual = date.today().year\n",
    "\n",
    "ano_nascimento = int(input(\"Digite o ano de nascimento do atleta: \"))\n",
    "idade_atleta = ano_atual - ano_nascimento\n",
    "\n",
    "print(f\"O atleta tem {idade_atleta} anos.\")\n",
    "\n",
    "if idade_atleta <= 9:\n",
    "    print(\"Categoria: MIRIM\")\n",
    "elif idade_atleta <= 14:\n",
    "    print(\"Categoria: INFANTIL\")\n",
    "elif idade_atleta <= 19:\n",
    "    print(\"Categoria: JÚNIOR\")\n",
    "elif idade_atleta <= 25:\n",
    "    print(\"Categoria: SÊNIOR\")\n",
    "else:\n",
    "    print(\"Categoria: MASTER\")\n"
   ]
  },
  {
   "cell_type": "markdown",
   "metadata": {},
   "source": [
    " ---\n",
    "\n",
    " ### EX_19: CONDICIONAL_LOGICA_ALISTAMENTO\n",
    "\n",
    " **Exercício:** Faça um programa que leia o ano de nascimento de um jovem e informe, de acordo com a sua idade: (Exercício original 44)\n",
    "\n",
    " - Se ele ainda vai se alistar ao serviço militar.\n",
    "\n",
    " - Se é a hora de se alistar\n",
    "\n",
    " - Se já passou do tempo de alistamento\n",
    "\n",
    " O sistema deve também mostrar o tempo que falta ou que passou do prazo."
   ]
  },
  {
   "cell_type": "code",
   "execution_count": null,
   "metadata": {},
   "outputs": [],
   "source": [
    "# Solução (Exercício estava sem solução)\n",
    "from datetime import date\n",
    "ano_atual_militar = date.today().year\n",
    "ano_nasc_militar = int(input(\"Digite seu ano de nascimento: \"))\n",
    "idade_militar = ano_atual_militar - ano_nasc_militar\n",
    "idade_alistamento = 18\n",
    "\n",
    "print(f\"Quem nasceu em {ano_nasc_militar} tem {idade_militar} anos em {ano_atual_militar}.\")\n",
    "\n",
    "if idade_militar < idade_alistamento:\n",
    "    anos_faltantes = idade_alistamento - idade_militar\n",
    "    ano_que_vai_se_alistar = ano_atual_militar + anos_faltantes\n",
    "    print(f\"Ainda falta(m) {anos_faltantes} ano(s) para o alistamento.\")\n",
    "    print(f\"Seu alistamento será em {ano_que_vai_se_alistar}.\")\n",
    "elif idade_militar > idade_alistamento:\n",
    "    anos_passados = idade_militar - idade_alistamento\n",
    "    ano_que_deveria_se_alistar = ano_atual_militar - anos_passados\n",
    "    print(f\"Você já deveria ter se alistado há {anos_passados} ano(s).\")\n",
    "    print(f\"Seu alistamento foi em {ano_que_deveria_se_alistar}.\")\n",
    "else:\n",
    "    print(\"Você deve se alistar IMEDIATAMENTE!\")\n"
   ]
  },
  {
   "cell_type": "markdown",
   "metadata": {},
   "source": [
    " ---\n",
    "\n",
    " ### EX_20: CONDICIONAL_STATUS_IMC\n",
    "\n",
    " **Exercício:** Desenvolva um programa que leia o peso e a altura de uma pessoa, calcule seu Índice de Massa Corporal (IMC) e mostre seu status, de acordo com a tabela abaixo: (Exercício original 47)\n",
    "\n",
    " - Abaixo de 18.5: Abaixo do peso\n",
    "\n",
    " - Entre 18.5 e 24.9: Peso ideal\n",
    "\n",
    " - Entre 25 e 29.9: Sobrepeso\n",
    "\n",
    " - Entre 30 e 40: Obesidade\n",
    "\n",
    " - Acima de 40: Obesidade mórbida"
   ]
  },
  {
   "cell_type": "code",
   "execution_count": null,
   "metadata": {},
   "outputs": [],
   "source": [
    "# Solução (Exercício estava sem solução)\n",
    "peso_imc = float(input(\"Digite seu peso (Kg): \"))\n",
    "altura_imc = float(input(\"Digite sua altura (m): \"))\n",
    "imc_calculado = peso_imc / (altura_imc ** 2)\n",
    "\n",
    "print(f\"Seu IMC é {imc_calculado: .1f}\")\n",
    "\n",
    "if imc_calculado < 18.5:\n",
    "    print(\"Status: Abaixo do peso\")\n",
    "elif imc_calculado < 25: # Já sabemos que é >= 18.5\n",
    "    print(\"Status: Peso ideal\")\n",
    "elif imc_calculado < 30: # Já sabemos que é >= 25\n",
    "    print(\"Status: Sobrepeso\")\n",
    "elif imc_calculado < 40: # Já sabemos que é >= 30\n",
    "    print(\"Status: Obesidade\")\n",
    "else: # Se chegou aqui, é > 40\n",
    "    print(\"Status: Obesidade mórbida\")\n"
   ]
  },
  {
   "cell_type": "markdown",
   "metadata": {},
   "source": [
    " ---\n",
    "\n",
    " ### EX_21: CONDICIONAL_LOGICA_PAGAMENTO\n",
    "\n",
    " **Exercício:** Elabore um programa que calcule o valor a ser pago por um produto, considerando o seu preço normal e condição de pagamento: (Exercício original 48)\n",
    "\n",
    " - À vista dinheiro/cheque: 10% de desconto\n",
    "\n",
    " - À vista no cartão: 5% de desconto\n",
    "\n",
    " - Em até 2x no cartão: Preço normal\n",
    "\n",
    " - 3x ou mais no cartão: 20% de juros"
   ]
  },
  {
   "cell_type": "code",
   "execution_count": null,
   "metadata": {},
   "outputs": [],
   "source": [
    "# Solução (Exercício estava sem solução)\n",
    "preco_produto = float(input(\"Qual o preço do produto? R$\"))\n",
    "\n",
    "print(\"Formas de Pagamento:\")\n",
    "print(\"[ 1 ] À vista (dinheiro/cheque)\")\n",
    "print(\"[ 2 ] À vista (cartão)\")\n",
    "print(\"[ 3 ] 2x no cartão\")\n",
    "print(\"[ 4 ] 3x ou mais no cartão\")\n",
    "\n",
    "opcao_pagamento = int(input(\"Escolha uma opção: \"))\n",
    "\n",
    "if opcao_pagamento == 1:\n",
    "    preco_final = preco_produto * 0.90 # 10% de desconto\n",
    "    print(f\"O valor final com 10% de desconto é R${preco_final: .2f}\")\n",
    "elif opcao_pagamento == 2:\n",
    "    preco_final = preco_produto * 0.95 # 5% de desconto\n",
    "    print(f\"O valor final com 5% de desconto é R${preco_final: .2f}\")\n",
    "elif opcao_pagamento == 3:\n",
    "    preco_final = preco_produto\n",
    "    print(f\"O valor final será R${preco_final: .2f} em 2x de R${(preco_final/2): .2f}\")\n",
    "elif opcao_pagamento == 4:\n",
    "    preco_final = preco_produto * 1.20 # 20% de juros\n",
    "    parcelas = int(input(\"Em quantas parcelas? \"))\n",
    "    if parcelas < 3:\n",
    "        print(\"Opção inválida para esta modalidade. Mínimo de 3 parcelas.\")\n",
    "    else:\n",
    "        valor_parcela = preco_final / parcelas\n",
    "        print(f\"O valor final com 20% de juros será R${preco_final: .2f}\")\n",
    "        print(f\"Sua compra será parcelada em {parcelas}x de R${valor_parcela: .2f}\")\n",
    "else:\n",
    "    print(\"Opção de pagamento inválida. Tente novamente.\")\n"
   ]
  },
  {
   "cell_type": "markdown",
   "metadata": {},
   "source": [
    " ---\n",
    "\n",
    " ### EX_22: CONDICIONAL_LOGICA_EMPRESTIMO\n",
    "\n",
    " **Exercício:** Escreva um programa para aprovar o empréstimo bancário para a compra de uma casa. O programa vai perguntar: (Exercício original 41)\n",
    "\n",
    " 1. O valor da casa;\n",
    "\n",
    " 2. O salário do comprador e,\n",
    "\n",
    " 3. Em quantos anos ele vai pagar.\n",
    "\n",
    "\n",
    "\n",
    " Calcule o valor da prestação mensal, sabendo que ela não pode exceder 30% do salário ou então o empréstimo será negado."
   ]
  },
  {
   "cell_type": "code",
   "execution_count": null,
   "metadata": {},
   "outputs": [],
   "source": [
    "# Solução\n",
    "print('--- Simulador de Empréstimo Imobiliário ---')\n",
    "usuario_nome = input('Por favor, digite o seu nome: ')\n",
    "print(f'Bem vindo(a), {usuario_nome}! ')\n",
    "\n",
    "valor_casa = float(input('Qual o valor do imóvel? R$'))\n",
    "salario_comprador = float(input('Qual o seu salário mensal? R$'))\n",
    "# O exercício original perguntava em meses, mas o enunciado pedia anos. Ajustado para anos.\n",
    "anos_pagamento = int(input('Em quantos ANOS você pretende pagar? '))\n",
    "\n",
    "# Cálculo\n",
    "meses_pagamento = anos_pagamento * 12\n",
    "prestacao_mensal = valor_casa / meses_pagamento\n",
    "limite_salario = salario_comprador * 0.30\n",
    "\n",
    "print(f\"\\n--- Análise da Proposta ---\")\n",
    "print(f\"Para pagar uma casa de R${valor_casa: .2f} em {anos_pagamento} anos ({meses_pagamento} meses)...\")\n",
    "print(f\"A prestação será de R${prestacao_mensal: .2f} por mês.\")\n",
    "print(f\"30% do seu salário (limite) é R${limite_salario: .2f}\")\n",
    "\n",
    "if prestacao_mensal <= limite_salario:\n",
    "    print(f\"Parabéns, {usuario_nome}! Seu empréstimo foi APROVADO!\")\n",
    "else:\n",
    "    print(f\"Que pena, {usuario_nome}! Empréstimo NEGADO.\")\n",
    "    print(\"O valor da prestação excede 30% do seu salário.\")\n",
    "\n",
    "print(\"Tenha um ótimo dia!\")\n",
    "\n"
   ]
  },
  {
   "cell_type": "markdown",
   "metadata": {},
   "source": [
    "\n",
    "\n",
    " # SECAO_03: MANIPULACAO DE STRINGS\n"
   ]
  },
  {
   "cell_type": "markdown",
   "metadata": {},
   "source": [
    " ---\n",
    "\n",
    " ### EX_23: STRING_STRIP\n",
    "\n",
    " **Exercício:** Crie a string: `frase = \"   Python é uma linguagem poderosa e estou aprendendo com a DSA   \"`. Remova os espaços em branco do início e do fim da string e imprima a nova string."
   ]
  },
  {
   "cell_type": "code",
   "execution_count": null,
   "metadata": {},
   "outputs": [],
   "source": [
    "# Solução\n",
    "frase_com_espacos = '   Python é uma linguagem poderosa e estou aprendendo com a DSA   '\n",
    "frase_sem_espacos = frase_com_espacos.strip()\n",
    "print(f'String original: \"{frase_com_espacos}\"')\n",
    "print(f'Sem espaços extras: \"{frase_sem_espacos}\"')\n"
   ]
  },
  {
   "cell_type": "markdown",
   "metadata": {},
   "source": [
    " ---\n",
    "\n",
    " ### EX_24: STRING_UPPER\n",
    "\n",
    " **Exercício:** Na string do exercício anterior (já sem os espaços), converta toda a frase para letras maiúsculas."
   ]
  },
  {
   "cell_type": "code",
   "execution_count": null,
   "metadata": {},
   "outputs": [],
   "source": [
    "# Solução\n",
    "# (Reutilizando a variável do exercício anterior)\n",
    "frase_maiuscula = frase_sem_espacos.upper()\n",
    "print (f'Em maiúsculo: \"{frase_maiuscula}\"')\n"
   ]
  },
  {
   "cell_type": "markdown",
   "metadata": {},
   "source": [
    " ---\n",
    "\n",
    " ### EX_25: STRING_REPLACE\n",
    "\n",
    " **Exercício:** Ainda usando a mesma string, substitua a palavra \"poderosa\" por \"incrível\"."
   ]
  },
  {
   "cell_type": "code",
   "execution_count": null,
   "metadata": {},
   "outputs": [],
   "source": [
    "# Solução\n",
    "# (Reutilizando a variável 'frase_sem_espacos' para ser mais claro)\n",
    "frase_modificada = frase_sem_espacos.replace(\"poderosa\", \"incrível\")\n",
    "print(f'Frase modificada: \"{frase_modificada}\"')\n"
   ]
  },
  {
   "cell_type": "markdown",
   "metadata": {},
   "source": [
    " ---\n",
    "\n",
    " ### EX_26: STRING_LEN\n",
    "\n",
    " **Exercício:** Verifique e imprima o número total de caracteres na string `frase_modificada` (após as modificações)."
   ]
  },
  {
   "cell_type": "code",
   "execution_count": null,
   "metadata": {},
   "outputs": [],
   "source": [
    "# Solução\n",
    "# (Reutilizando a variável 'frase_modificada')\n",
    "total_caracteres = len(frase_modificada)\n",
    "print(f'A frase \"{frase_modificada}\"')\n",
    "print(f'O número total de caracteres é {total_caracteres}')\n"
   ]
  },
  {
   "cell_type": "markdown",
   "metadata": {},
   "source": [
    " ---\n",
    "\n",
    " ### EX_27: STRING_SLICING\n",
    "\n",
    " **Exercício:** Use fatiamento (slicing) para extrair e imprimir apenas a palavra \"Python\" da string `frase_modificada`."
   ]
  },
  {
   "cell_type": "code",
   "execution_count": null,
   "metadata": {},
   "outputs": [],
   "source": [
    "# Solução\n",
    "# (Reutilizando a variável 'frase_modificada')\n",
    "# Fatiamento: [inicio:fim]. O 'fim' não é incluído.\n",
    "palavra_python = frase_modificada[0:6]\n",
    "print(f'A palavra extraída é \"{palavra_python}\"')\n"
   ]
  },
  {
   "cell_type": "markdown",
   "metadata": {},
   "source": [
    " ---\n",
    "\n",
    " ### EX_28: STRING_METODOS_NOME\n",
    "\n",
    " **Exercício:** Crie um programa que leia o nome completo de uma pessoa e mostre: (Exercício original 49)\n",
    "\n",
    " 1. O nome com todas as letras maiúsculas;\n",
    "\n",
    " 2. O nome com todas as letras minúsculas;\n",
    "\n",
    " 3. Quantas letras ao todo (sem considerar espaços);\n",
    "\n",
    " 4. Quantas letras tem o primeiro nome."
   ]
  },
  {
   "cell_type": "code",
   "execution_count": null,
   "metadata": {},
   "outputs": [],
   "source": [
    "# Solução\n",
    "nome_completo_usuario = input('Qual o seu nome completo? ').strip()\n",
    "\n",
    "print(f'1. Seu nome em maiúsculas: {nome_completo_usuario.upper()}')\n",
    "print(f'2. Seu nome em minúsculas: {nome_completo_usuario.lower()}')\n",
    "\n",
    "# 3. Solução para contar letras sem espaços (corrigida)\n",
    "nome_sem_espacos = nome_completo_usuario.replace(\" \", \"\")\n",
    "total_letras = len(nome_sem_espacos)\n",
    "print(f'3. Seu nome possui {total_letras} letras (sem considerar espaços)')\n",
    "\n",
    "# 4. Solução para o primeiro nome\n",
    "lista_nomes = nome_completo_usuario.split()\n",
    "primeiro_nome = lista_nomes[0]\n",
    "letras_primeiro_nome = len(primeiro_nome)\n",
    "print(f'4. Seu primeiro nome é {primeiro_nome} e ele possui {letras_primeiro_nome} letras')\n"
   ]
  },
  {
   "cell_type": "markdown",
   "metadata": {},
   "source": [
    " ---\n",
    "\n",
    " ### EX_29: STRING_OU_MATH_DIGITOS\n",
    "\n",
    " **Exercício:** Faça um programa que leia um número de 0 a 9999 e mostre na tela cada um dos dígitos separados. (Exercício original 50)\n",
    "\n",
    " Exemplo: Digite um número: 1834 -> Unidade: 4, Dezena: 3, Centena: 8, Milhar: 1"
   ]
  },
  {
   "cell_type": "code",
   "execution_count": null,
   "metadata": {},
   "outputs": [],
   "source": [
    "# Solução (Usando Matemática - funciona para qualquer número até 9999)\n",
    "num_digitos = int(input('Digite um número entre 0 e 9999: '))\n",
    "\n",
    "unidade = num_digitos % 10\n",
    "dezena = (num_digitos // 10) % 10\n",
    "centena = (num_digitos // 100) % 10\n",
    "milhar = (num_digitos // 1000) % 10\n",
    "\n",
    "print(f'O número analisado foi {num_digitos}')\n",
    "print(f'Unidade: {unidade}')\n",
    "print(f'Dezena: {dezena}')\n",
    "print(f'Centena: {centena}')\n",
    "print(f'Milhar: {milhar}')\n"
   ]
  },
  {
   "cell_type": "markdown",
   "metadata": {},
   "source": [
    " ---\n",
    "\n",
    " ### EX_30: STRING_STARTSWITH_SANTO\n",
    "\n",
    " **Exercício:** Crie um programa que leia o nome de uma cidade e diga se ela começa ou não com o nome \"Santo\". (Exercício original 51)"
   ]
  },
  {
   "cell_type": "code",
   "execution_count": null,
   "metadata": {},
   "outputs": [],
   "source": [
    "# Solução\n",
    "cidade = input('Insira o nome da sua cidade: ').strip()\n",
    "\n",
    "# Convertemos para minúsculo e verificamos se 'santo ' (com espaço)\n",
    "# está no início.\n",
    "comeca_com_santo = cidade.lower().startswith('santo ')\n",
    "print(f'Sua cidade começa com \"Santo\"? {comeca_com_santo}')\n"
   ]
  },
  {
   "cell_type": "markdown",
   "metadata": {},
   "source": [
    " ---\n",
    "\n",
    " ### EX_31: STRING_IN_SILVA\n",
    "\n",
    " **Exercício:** Crie um programa que leia o nome de uma pessoa e diga se ela tem \"Silva\" no nome. (Exercício original 52)"
   ]
  },
  {
   "cell_type": "code",
   "execution_count": null,
   "metadata": {},
   "outputs": [],
   "source": [
    "# Solução\n",
    "nome_silva = input('Digite o seu nome completo: ').strip().lower()\n",
    "\n",
    "# O operador 'in' verifica se o texto \"silva\" existe dentro da string\n",
    "tem_silva = \"silva\" in nome_silva\n",
    "\n",
    "print(f'Seu nome tem \"Silva\"? {tem_silva}')\n"
   ]
  },
  {
   "cell_type": "markdown",
   "metadata": {},
   "source": [
    " ---\n",
    "\n",
    " ### EX_32: STRING_COUNT_FIND_RFIND\n",
    "\n",
    " **Exercício:** Faça um programa que leia uma frase pelo teclado e mostre: (Exercício original 53)\n",
    "\n",
    " 1. Quantas vezes aparece a letra \"A\";\n",
    "\n",
    " 2. Em que posição ela aparece a primeira vez;\n",
    "\n",
    " 3. Em que posição ela aparece a última vez."
   ]
  },
  {
   "cell_type": "code",
   "execution_count": null,
   "metadata": {},
   "outputs": [],
   "source": [
    "# Solução\n",
    "frase_find = input('Digite uma frase: ').strip().lower() # Padroniza para minúsculo\n",
    "\n",
    "# 1. Quantas vezes\n",
    "contagem_a = frase_find.count('a')\n",
    "print(f'1. A letra \"A\" aparece {contagem_a} vezes nesta frase.')\n",
    "\n",
    "# 2. Primeira vez (find retorna -1 se não encontrar)\n",
    "# Somamos 1 para a posição ficar \"humanamente legível\" (começando do 1, não do 0)\n",
    "primeira_pos_a = frase_find.find('a')\n",
    "if primeira_pos_a != -1:\n",
    "    print(f'2. A letra \"A\" aparece pela primeira vez na posição {primeira_pos_a + 1}')\n",
    "else:\n",
    "    print('2. A letra \"A\" não foi encontrada na frase.')\n",
    "    \n",
    "\n",
    "# 3. Última vez (rfind = right find)\n",
    "ultima_pos_a = frase_find.rfind('a')\n",
    "if ultima_pos_a != -1:\n",
    "    print (f'3. A letra \"A\" aparece pela última vez na posição {ultima_pos_a + 1}')\n",
    "else:\n",
    "    print('3. A letra \"A\" não foi encontrada na frase.')\n"
   ]
  },
  {
   "cell_type": "markdown",
   "metadata": {},
   "source": [
    " ---\n",
    "\n",
    " ### EX_33: STRING_SPLIT_NOMES\n",
    "\n",
    " **Exercício:** Faça um programa que leia o nome completo de uma pessoa, mostrando em seguida o primeiro e o último nome separadamente. (Exercício original 52, mas com outro número)\n",
    "\n",
    " Ex. Ana Maria de Souza -> Primeiro: Ana, Último: Souza"
   ]
  },
  {
   "cell_type": "code",
   "execution_count": null,
   "metadata": {},
   "outputs": [],
   "source": [
    "# Solução\n",
    "nome_completo_split = input('Escreva seu nome completo: ').strip().split()\n",
    "\n",
    "primeiro = nome_completo_split[0]\n",
    "ultimo = nome_completo_split[-1] # -1 sempre pega o último item da lista\n",
    "\n",
    "print(f'Seu primeiro nome é: {primeiro}')\n",
    "print(f'Seu último nome é: {ultimo}')\n"
   ]
  },
  {
   "cell_type": "markdown",
   "metadata": {},
   "source": [
    " ---\n",
    "\n",
    " ### EX_34: LOGICA_PALINDROMO\n",
    "\n",
    " **Exercício:** Crie um programa que leia uma frase qualquer e diga se ela é um palíndromo, desconsiderando os espaços. (Exercício original 57)\n",
    "\n",
    " Exemplo: \"A sacada da casa\" -> \"ASACADADACASA\""
   ]
  },
  {
   "cell_type": "code",
   "execution_count": null,
   "metadata": {},
   "outputs": [],
   "source": [
    "# Solução (Exercício estava sem solução)\n",
    "frase_palindromo = input(\"Digite uma frase: \").strip().upper()\n",
    "\n",
    "# 1. Remove os espaços\n",
    "frase_junta = frase_palindromo.replace(\" \", \"\")\n",
    "\n",
    "# 2. Inverte a string\n",
    "# A sintaxe [::-1] é um \"truque\" de slicing que inverte a string\n",
    "frase_inversa = frase_junta[::-1]\n",
    "\n",
    "print(f\"O inverso de {frase_junta} é {frase_inversa}\")\n",
    "\n",
    "# 3. Compara\n",
    "if frase_junta == frase_inversa:\n",
    "    print(\"Temos um palíndromo!\")\n",
    "else:\n",
    "    print(\"A frase digitada não é um palíndromo.\")\n",
    "\n"
   ]
  },
  {
   "cell_type": "markdown",
   "metadata": {},
   "source": [
    " # =========================================================================\n",
    "\n",
    " # SECAO_04: ESTRUTURAS DE DADOS (LISTAS, TUPLAS, DICIONARIOS, SETS)\n",
    "\n",
    " # ========================================================================="
   ]
  },
  {
   "cell_type": "markdown",
   "metadata": {},
   "source": [
    " ---\n",
    "\n",
    " ### EX_35: LISTA_CRIACAO\n",
    "\n",
    " **Exercício:** Crie uma lista chamada `compras` com os seguintes itens: \"arroz\", \"feijão\", \"macarrão\", \"carne\". Imprima a lista."
   ]
  },
  {
   "cell_type": "code",
   "execution_count": null,
   "metadata": {},
   "outputs": [],
   "source": [
    "# Solução\n",
    "compras = [\"arroz\", \"feijão\", \"macarrão\", \"carne\"]\n",
    "print(f'Lista de compras: {compras}')\n",
    "print (f'É do tipo {type(compras)}')\n"
   ]
  },
  {
   "cell_type": "markdown",
   "metadata": {},
   "source": [
    " ---\n",
    "\n",
    " ### EX_36: LISTA_APPEND\n",
    "\n",
    " **Exercício:** Adicione o item \"leite\" ao final da lista `compras` e imprima a lista atualizada."
   ]
  },
  {
   "cell_type": "code",
   "execution_count": null,
   "metadata": {},
   "outputs": [],
   "source": [
    "# Solução\n",
    "# (Reutilizando a lista 'compras' do ex. anterior)\n",
    "compras.append(\"leite\")\n",
    "print (f'Lista atualizada: {compras}')\n"
   ]
  },
  {
   "cell_type": "markdown",
   "metadata": {},
   "source": [
    " ---\n",
    "\n",
    " ### EX_37: LISTA_ACESSO_INDICE\n",
    "\n",
    " **Exercício:** Acesse e imprima o segundo item da lista `compras`."
   ]
  },
  {
   "cell_type": "code",
   "execution_count": null,
   "metadata": {},
   "outputs": [],
   "source": [
    "# Solução\n",
    "# (Reutilizando a lista 'compras')\n",
    "# Em Python, o índice começa em 0. O segundo item é o índice 1.\n",
    "print(f'O segundo item da lista é {compras[1]}') # Índice 1 = \"feijão\"\n"
   ]
  },
  {
   "cell_type": "markdown",
   "metadata": {},
   "source": [
    " ---\n",
    "\n",
    " ### EX_38: LISTA_REMOCAO_DEL\n",
    "\n",
    " **Exercício:** Remova o item \"macarrão\" da lista `compras` (sabendo que ele é o índice 2) e imprima a lista final."
   ]
  },
  {
   "cell_type": "code",
   "execution_count": null,
   "metadata": {},
   "outputs": [],
   "source": [
    "# Solução\n",
    "# (Reutilizando a lista 'compras')\n",
    "# Índices atuais: 0:arroz, 1:feijão, 2:macarrão, 3:carne, 4:leite\n",
    "print(f'Lista antes de remover: {compras}')\n",
    "# O item \"macarrão\" está no índice 2\n",
    "del(compras[2])\n",
    "print(f'Lista após remover o item 2: {compras}')\n",
    "# NOTA: Você também poderia usar compras.remove(\"macarrão\") se não soubesse o índice.\n"
   ]
  },
  {
   "cell_type": "markdown",
   "metadata": {},
   "source": [
    " ---\n",
    "\n",
    " ### EX_39: LISTA_LEN\n",
    "\n",
    " **Exercício:** Crie uma lista de números de 1 a 5. Use uma função para calcular e imprimir o tamanho (número de elementos) dessa lista."
   ]
  },
  {
   "cell_type": "code",
   "execution_count": null,
   "metadata": {},
   "outputs": [],
   "source": [
    "# Solução\n",
    "numeros_lista = [1, 2, 3, 4, 5]\n",
    "tamanho_lista = len(numeros_lista)\n",
    "print(f'A lista é {numeros_lista}')\n",
    "print(f'A lista tem {tamanho_lista} números')\n"
   ]
  },
  {
   "cell_type": "markdown",
   "metadata": {},
   "source": [
    " ---\n",
    "\n",
    " ### EX_40: TUPLA_CRIACAO\n",
    "\n",
    " **Exercício:** Crie uma tupla chamada `meses` com os três primeiros meses do ano: \"Janeiro\", \"Fevereiro\", \"Março\"."
   ]
  },
  {
   "cell_type": "code",
   "execution_count": null,
   "metadata": {},
   "outputs": [],
   "source": [
    "# Solução\n",
    "# Tuplas são criadas com parênteses ()\n",
    "meses = (\"Janeiro\", \"Fevereiro\", \"Março\")\n",
    "print(f'Tupla meses: {meses}')\n",
    "print (f'É do tipo {type(meses)}')\n"
   ]
  },
  {
   "cell_type": "markdown",
   "metadata": {},
   "source": [
    " ---\n",
    "\n",
    " ### EX_41: TUPLA_IMUTABILIDADE\n",
    "\n",
    " **Exercício:** Tente adicionar o mês \"Abril\" à tupla `meses`. O que acontece? Explique o resultado."
   ]
  },
  {
   "cell_type": "code",
   "execution_count": null,
   "metadata": {},
   "outputs": [],
   "source": [
    "# Solução\n",
    "print(f\"Tentando adicionar 'Abril' à tupla {meses}...\")\n",
    "try:\n",
    "    meses.append(\"Abril\") # Esta linha causará um erro\n",
    "except AttributeError as e:\n",
    "    print(f\"ERRO: {e}\")\n",
    "    print(\"\\nExplicação:\")\n",
    "    print(\"Isso acontece porque tuplas (tuple) são IMUTÁVEIS.\")\n",
    "    print(\"Elas não podem ser alteradas (adicionar, remover ou modificar itens) depois de criadas.\")\n"
   ]
  },
  {
   "cell_type": "markdown",
   "metadata": {},
   "source": [
    " ---\n",
    "\n",
    " ### EX_42: TUPLA_ACESSO_INDICE\n",
    "\n",
    " **Exercício:** Acesse e imprima o primeiro mês da tupla `meses`."
   ]
  },
  {
   "cell_type": "code",
   "execution_count": null,
   "metadata": {},
   "outputs": [],
   "source": [
    "# Solução\n",
    "# (Reutilizando a tupla 'meses')\n",
    "# O acesso por índice funciona como nas listas\n",
    "print(f' O primeiro mês da tupla é: {meses[0]}') # Índice 0 = \"Janeiro\"\n"
   ]
  },
  {
   "cell_type": "markdown",
   "metadata": {},
   "source": [
    " ---\n",
    "\n",
    " ### EX_43: DICIONARIO_CRIACAO\n",
    "\n",
    " **Exercício:** Crie um dicionário chamado `filme` com as seguintes chaves e valores:\n",
    "\n",
    " - titulo = \"O Poderoso Chefão\",\n",
    "\n",
    " - ano = 1972\n",
    "\n",
    " - diretor = \"Francis Ford Coppola\""
   ]
  },
  {
   "cell_type": "code",
   "execution_count": null,
   "metadata": {},
   "outputs": [],
   "source": [
    "# Solução\n",
    "filme = {\n",
    "    \"titulo\" : \"O Poderoso Chefão\",\n",
    "    \"ano\" : 1972,\n",
    "    \"diretor\" : \"Francis Ford Coppola\"\n",
    "}\n",
    "\n",
    "print(filme)\n",
    "print(f'A estrutura é do tipo {type(filme)}')\n"
   ]
  },
  {
   "cell_type": "markdown",
   "metadata": {},
   "source": [
    " ---\n",
    "\n",
    " ### EX_44: DICIONARIO_ACESSO_CHAVE\n",
    "\n",
    " **Exercício:** Acesse e imprima o ano de lançamento do `filme` a partir do dicionário."
   ]
  },
  {
   "cell_type": "code",
   "execution_count": null,
   "metadata": {},
   "outputs": [],
   "source": [
    "# Solução\n",
    "# (Reutilizando o dicionário 'filme')\n",
    "print(f'O ano de lançamento do filme é {filme[\"ano\"]}')\n"
   ]
  },
  {
   "cell_type": "markdown",
   "metadata": {},
   "source": [
    " ---\n",
    "\n",
    " ### EX_45: DICIONARIO_ADICIONAR_ITEM\n",
    "\n",
    " **Exercício:** Adicione uma nova chave `genero` com o valor \"Drama\" ao dicionário `filme` e imprima o dicionário completo."
   ]
  },
  {
   "cell_type": "code",
   "execution_count": null,
   "metadata": {},
   "outputs": [],
   "source": [
    "# Solução\n",
    "# (Reutilizando o dicionário 'filme')\n",
    "filme[\"genero\"] = \"Drama\"\n",
    "print(f'Dicionário atualizado: {filme}')\n"
   ]
  },
  {
   "cell_type": "markdown",
   "metadata": {},
   "source": [
    " ---\n",
    "\n",
    " ### EX_46: DICIONARIO_MODIFICAR_ITEM\n",
    "\n",
    " **Exercício:** Modifique o valor da chave `ano` para 1973 e imprima o dicionário atualizado."
   ]
  },
  {
   "cell_type": "code",
   "execution_count": null,
   "metadata": {},
   "outputs": [],
   "source": [
    "# Solução\n",
    "# (Reutilizando o dicionário 'filme')\n",
    "filme[\"ano\"] = 1973\n",
    "print(f'Dicionário com ano modificado: {filme}')\n"
   ]
  },
  {
   "cell_type": "markdown",
   "metadata": {},
   "source": [
    " ---\n",
    "\n",
    " ### EX_47: SET_REMOVER_DUPLICADOS\n",
    "\n",
    " **Exercício:** Crie uma lista com os seguintes números: `[1, 2, 2, 3, 4, 4, 5, 1]`. Use um conjunto (set) para remover os números duplicados e imprima o resultado."
   ]
  },
  {
   "cell_type": "code",
   "execution_count": null,
   "metadata": {},
   "outputs": [],
   "source": [
    "# Solução\n",
    "numeros_duplicados = [1, 2, 2, 3, 4, 4, 5, 1]\n",
    "# Convertendo a lista para um set (conjunto)\n",
    "numeros_unicos = set(numeros_duplicados)\n",
    "\n",
    "print(f'Lista original: {numeros_duplicados}')\n",
    "print(f'Números únicos (em um set): {numeros_unicos}')\n"
   ]
  },
  {
   "cell_type": "markdown",
   "metadata": {},
   "source": [
    " ---\n",
    "\n",
    " ### EX_48: SET_INTERSECTION\n",
    "\n",
    " **Exercício:** Crie dois conjuntos:\n",
    "\n",
    " - set_a = {1, 2, 3, 4}\n",
    "\n",
    " - set_b = {3, 4, 5, 6}\n",
    "\n",
    " Encontre e imprima a interseção entre os dois conjuntos (os elementos que estão em ambos)."
   ]
  },
  {
   "cell_type": "code",
   "execution_count": null,
   "metadata": {},
   "outputs": [],
   "source": [
    "# Solução\n",
    "set_a = {1, 2, 3, 4}\n",
    "set_b = {3, 4, 5, 6}\n",
    "\n",
    "intersecao = set_a.intersection(set_b)\n",
    "# Alternativamente, pode usar o operador &: intersecao = set_a & set_b\n",
    "\n",
    "print(f'A interseção entre os dois conjuntos é {intersecao}')\n",
    "\n"
   ]
  },
  {
   "cell_type": "markdown",
   "metadata": {},
   "source": [
    " # =============================================\n",
    "\n",
    " # SECAO_05: LOOPS E REPETICOES (FOR, WHILE)\n",
    "\n",
    " # ============================================="
   ]
  },
  {
   "cell_type": "markdown",
   "metadata": {},
   "source": [
    " ---\n",
    "\n",
    " ### EX_49: FOR_LOOP_RANGE_PARES\n",
    "\n",
    " **Exercício:** Crie um programa que mostre na tela todos os números pares que estão no intervalo entre 1 e 50. (Exercício original 54)"
   ]
  },
  {
   "cell_type": "code",
   "execution_count": null,
   "metadata": {},
   "outputs": [],
   "source": [
    "# Solução\n",
    "print(\"Números pares entre 1 e 50:\")\n",
    "# range(start, stop_before, step)\n",
    "# Começa em 2 (primeiro par), vai até 51 (para incluir o 50), pulando de 2 em 2.\n",
    "for n in range(2, 51, 2):\n",
    "    print(n, end=\" \")\n",
    "print(\"\\nFim!\")\n"
   ]
  },
  {
   "cell_type": "markdown",
   "metadata": {},
   "source": [
    " ---\n",
    "\n",
    " ### EX_50: FOR_LOOP_CONDICIONAL_SOMA\n",
    "\n",
    " **Exercício:** Faça um programa que calcule a soma de todos os números ímpares que são múltiplos de três e que se encontram no intervalo de 1 até 500. (Exercício original 55)"
   ]
  },
  {
   "cell_type": "code",
   "execution_count": null,
   "metadata": {},
   "outputs": [],
   "source": [
    "# Solução\n",
    "soma = 0\n",
    "contador = 0\n",
    "# range(start, stop_before, step)\n",
    "# Começa em 1 (ímpar), vai até 501 (para incluir o 500), pulando de 2 em 2 (só ímpares)\n",
    "for n in range (1, 501, 2):\n",
    "    # Verifica se o número ímpar é múltiplo de 3\n",
    "    if n % 3 == 0:\n",
    "        soma = soma + n # Acumulador (soma += n)\n",
    "        contador = contador + 1 # Contador (contador += 1)\n",
    "\n",
    "print(f'A soma dos {contador} valores ímpares e múltiplos de 3 (1 a 500) é: {soma}')\n"
   ]
  },
  {
   "cell_type": "markdown",
   "metadata": {},
   "source": [
    " ---\n",
    "\n",
    " ### EX_51: FOR_LOOP_TABUADA\n",
    "\n",
    " **Exercício:** Faça o usuário escolher um número e mostre a tabuada desse número, indo de 1 a 10. (Exercício original 56)"
   ]
  },
  {
   "cell_type": "code",
   "execution_count": null,
   "metadata": {},
   "outputs": [],
   "source": [
    "# Solução\n",
    "numero_tabuada = int(input('Escolha um número para ver a tabuada: '))\n",
    "print(f'--- Tabuada do {numero_tabuada} ---')\n",
    "for n in range(1, 11): # range(1, 11) vai de 1 a 10\n",
    "    print (f'{numero_tabuada} x {n} = {numero_tabuada * n}')\n"
   ]
  },
  {
   "cell_type": "markdown",
   "metadata": {},
   "source": [
    " ---\n",
    "\n",
    " ### EX_52: FOR_LOOP_SOMA_PARES_INPUT\n",
    "\n",
    " **Exercício:** Desenvolva um programa que leia seis números inteiros e mostre a soma apenas daqueles que forem pares. Se o valor digitado for ímpar, desconsidere-o. (Exercício original 55, mas com outro número)"
   ]
  },
  {
   "cell_type": "code",
   "execution_count": null,
   "metadata": {},
   "outputs": [],
   "source": [
    "# Solução\n",
    "soma_pares = 0\n",
    "for n in range(1, 7): # O loop vai rodar 6 vezes (para 1, 2, 3, 4, 5, 6)\n",
    "    numero_lido = int(input(f'Digite o {n}º número: '))\n",
    "    if numero_lido % 2 == 0:\n",
    "        soma_pares = soma_pares + numero_lido\n",
    "    # else: (não precisa fazer nada se for ímpar)\n",
    "\n",
    "print(f'A soma apenas dos números pares digitados é: {soma_pares}')\n"
   ]
  },
  {
   "cell_type": "markdown",
   "metadata": {},
   "source": [
    " ---\n",
    "\n",
    " ### EX_53: FOR_LOOP_SLEEP_CONTAGEM\n",
    "\n",
    " **Exercício:** Faça um programa que mostre na tela uma contagem regressiva para o estouro de fogos de artifício, indo de 10 até 0, com uma pausa de 1 segundo entre eles. (Exercício original 53)"
   ]
  },
  {
   "cell_type": "code",
   "execution_count": null,
   "metadata": {},
   "outputs": [],
   "source": [
    "# Solução\n",
    "from time import sleep\n",
    "\n",
    "print(\"Contagem regressiva para os fogos!\")\n",
    "# range(start, stop_before, step)\n",
    "# Começa em 10, vai até -1 (para incluir o 0), diminuindo de 1 em 1\n",
    "for n in range(10, -1, -1):\n",
    "    print(n)\n",
    "    sleep(1) # Pausa por 1 segundo\n",
    "print(\"BUM! BUM! POOOW! 🎆\")\n"
   ]
  },
  {
   "cell_type": "markdown",
   "metadata": {},
   "source": [
    " ---\n",
    "\n",
    " ### EX_54: FOR_LOOP_BREAK_CONTINUE\n",
    "\n",
    " **Exercício:** Exiba todos os números de 1 a 30, exceto os múltiplos de 3. (Exercício original 35)"
   ]
  },
  {
   "cell_type": "code",
   "execution_count": null,
   "metadata": {},
   "outputs": [],
   "source": [
    "# Solução (usando 'continue')\n",
    "print(\"Números de 1 a 30, exceto múltiplos de 3:\")\n",
    "numeros_range = list(range(1,31))\n",
    "\n",
    "for n in numeros_range:\n",
    "    # Se o resto da divisão por 3 for 0 (é múltiplo de 3)\n",
    "    if (n % 3 == 0):\n",
    "        continue # Pula o resto do loop e vai para o próximo número\n",
    "    \n",
    "    # Este print só executa se o 'continue' não for ativado\n",
    "    print(n, end=\" ; \")\n",
    "print ('\\nFim!')\n"
   ]
  },
  {
   "cell_type": "markdown",
   "metadata": {},
   "source": [
    " ---\n",
    "\n",
    " ### EX_55: WHILE_TRUE_MENU_BANCO\n",
    "\n",
    " **Exercício:** Crie um sistema com menu que permita saque, depósito e extrato. Use `while True` e `break` para sair do sistema. (Exercício original 34 e 36 combinados)"
   ]
  },
  {
   "cell_type": "code",
   "execution_count": null,
   "metadata": {},
   "outputs": [],
   "source": [
    "# Solução\n",
    "saldo_banco = 1000.00\n",
    "limite_saque = 500.00\n",
    "extrato_banco = \"\"\n",
    "numero_saques = 0\n",
    "LIMITE_SAQUES_DIARIOS = 3\n",
    "\n",
    "# Bloco 2 - Menu de opções\n",
    "while True:\n",
    "    print(\"\\n--- Banco Digital ---\")\n",
    "    print(f\"Saldo atual: R$ {saldo_banco: .2f}\")\n",
    "    print(\"Selecione a opção desejada: \")\n",
    "    print(\"[ 1 ] Sacar\")\n",
    "    print(\"[ 2 ] Depositar\")\n",
    "    print(\"[ 3 ] Ver Extrato\")\n",
    "    print(\"[ 0 ] Sair\")\n",
    "    \n",
    "    opcao = int(input('Opção: '))\n",
    "\n",
    "    if opcao == 0:\n",
    "        print('Saindo do sistema... Obrigado por usar nosso banco!')\n",
    "        break # Encerra o loop infinito\n",
    "    \n",
    "    elif opcao == 1: # Sacar\n",
    "        valor_saque = float(input('Qual valor deseja sacar? R$'))\n",
    "        \n",
    "        excedeu_saldo = valor_saque > saldo_banco\n",
    "        excedeu_limite = valor_saque > limite_saque\n",
    "        excedeu_saques = numero_saques >= LIMITE_SAQUES_DIARIOS\n",
    "        \n",
    "        if excedeu_saldo:\n",
    "            print(\"Operação falhou! Saldo insuficiente.\")\n",
    "        elif excedeu_limite:\n",
    "            print(f\"Operação falhou! Limite de saque é R${limite_saque: .2f}\")\n",
    "        elif excedeu_saques:\n",
    "            print(f\"Operação falhou! Limite de {LIMITE_SAQUES_DIARIOS} saques diários atingido.\")\n",
    "        elif valor_saque > 0:\n",
    "            saldo_banco -= valor_saque\n",
    "            extrato_banco += f\"Saque: R$ {valor_saque: .2f}\\n\"\n",
    "            numero_saques += 1\n",
    "            print(f\"Saque de R${valor_saque: .2f} realizado com sucesso.\")\n",
    "        else:\n",
    "            print(\"Operação falhou! O valor informado é inválido.\")\n",
    "\n",
    "    elif opcao == 2: # Depositar\n",
    "        valor_deposito = float(input('Qual valor deseja depositar? R$'))\n",
    "        \n",
    "        if valor_deposito > 0:\n",
    "            saldo_banco += valor_deposito\n",
    "            extrato_banco += f\"Depósito: R$ {valor_deposito: .2f}\\n\"\n",
    "            print(f\"Depósito de R${valor_deposito: .2f} realizado com sucesso.\")\n",
    "        else:\n",
    "            print(\"Operação falhou! O valor informado é inválido.\")\n",
    "            \n",
    "    elif opcao == 3: # Extrato\n",
    "        print(\"\\n--- EXTRATO ---\")\n",
    "        if not extrato_banco: # Verifica se a string está vazia\n",
    "            print(\"Não foram realizadas movimentações.\")\n",
    "        else:\n",
    "            print(extrato_banco)\n",
    "        print(f\"Saldo atual: R$ {saldo_banco: .2f}\")\n",
    "        print(\"---------------\")\n",
    "\n",
    "    else:\n",
    "        print('Opção inválida, digite novamente!')\n",
    "\n"
   ]
  },
  {
   "cell_type": "markdown",
   "metadata": {},
   "source": [
    " ---\n",
    "\n",
    " ### EX_56: WHILE_LOGIN_TENTATIVAS\n",
    "\n",
    " **Exercício:** Crie um programa que permita até 3 tentativas de login (usuário e senha) antes de bloquear o acesso. (Exercício original 37)"
   ]
  },
  {
   "cell_type": "code",
   "execution_count": null,
   "metadata": {},
   "outputs": [],
   "source": [
    "# Solução\n",
    "t = 0\n",
    "while t < 3:\n",
    "    input('Digite seu nome de usuário: ')\n",
    "    input('Digite sua senha: ')\n",
    "    t += 1\n",
    "print('Acesso BLOQUEADO!')"
   ]
  },
  {
   "cell_type": "markdown",
   "metadata": {},
   "source": [
    "---\n",
    "### EX_57: WHILE_VALIDACAO_SEXO\n",
    "**Exercício** Faça um programa que leia o sexo de uma pessoa, mas só aceite os valores 'M' ou 'F'.Caso esteja errado, peça a digitação novamente até ter um valor correto."
   ]
  },
  {
   "cell_type": "code",
   "execution_count": null,
   "metadata": {},
   "outputs": [],
   "source": [
    "# Solução\n",
    "t = 1\n",
    "while t != 'M' and t != 'F':\n",
    "    t = input('Digite o seu sexo: [M][F]').upper()\n",
    "    if t != 'M' and t != 'F':\n",
    "        print('Opção Errada! Digite Novamente!')\n",
    "print('Bem Vindo(a)!')"
   ]
  },
  {
   "cell_type": "markdown",
   "metadata": {},
   "source": [
    "---\n",
    "### EX_58: WHILE_MENU_OPCOES\n",
    "**Exercício** Crie um programa que leia dois valores e mostre um menu como o abaixo na tela:\n",
    "\n",
    "[ 1 ] Somar\n",
    "[ 2 ] Multiplicar\n",
    "[ 3 ] Maior\n",
    "[ 4 ] Novos Números\n",
    "[ 5 ] Sair do Programa\n",
    "\n",
    "Seu programa deverá realizar a operação solicitada em cada caso."
   ]
  },
  {
   "cell_type": "code",
   "execution_count": null,
   "metadata": {},
   "outputs": [],
   "source": [
    "# Solução\n",
    "c = 0\n",
    "v1= int(input('Escreva um valor: '))\n",
    "v2= int(input('Escreva um valor: '))\n",
    "print('=' * 40)\n",
    "print(f'Os valores escolhidos foram: {v1} e {v2}')\n",
    "print('=' * 40)\n",
    "while c != 5:\n",
    "    print('=' * 40)\n",
    "    print('Escolha uma opção:\\n[1] Somar\\n[2] Multiplicar\\n[3] Maior\\n[4] Novos Números\\n[5] Sair do Programa')\n",
    "    print('=' * 40)\n",
    "    c = int(input('Escolha a opção: '))\n",
    "    if c == 1:\n",
    "        print(f'A soma dos números escolhidos é: {v1 + v2}')\n",
    "    if c == 2:\n",
    "        print(f'A multiplicação dos números escolhidos é: {v1 * v2}')\n",
    "    if c == 3:\n",
    "        if v1 > v2:\n",
    "            print(f'O maior número é: {v1}')\n",
    "        if v1 < v2: \n",
    "            print(f'O maior número é {v2}')\n",
    "    if c == 4:\n",
    "        print('=' * 40)\n",
    "        print('Escolha novamente os valores')\n",
    "        print('=' * 40)\n",
    "        v1= int(input('Escreva um valor: '))\n",
    "        v2= int(input('Escreva um valor: '))\n",
    "        print('=' * 40)\n",
    "        print(f'Os valores escolhidos foram: {v1} e {v2}')\n",
    "        print('=' * 40)\n",
    "print('Fim!')\n",
    "            "
   ]
  },
  {
   "cell_type": "markdown",
   "metadata": {},
   "source": [
    "---\n",
    "### EX_59: WHILE_FATORIAL\n",
    "\n",
    "**Exercício** Faça um programa que leia um número qualquer e mostre seu fatorial.\n",
    "\n",
    "Ex: 5! = 5 x 4 x 3 x 2 x 1 = 120"
   ]
  },
  {
   "cell_type": "code",
   "execution_count": null,
   "metadata": {},
   "outputs": [],
   "source": [
    "# Solução\n"
   ]
  },
  {
   "cell_type": "markdown",
   "metadata": {},
   "source": [
    "---\n",
    "### EX_60: WHILE_SOMA_DE_NUMEROS\n",
    "\n",
    "**Exercício** Crie um programa que leia vários números inteiros pelo teclado. O programa só vai parar quando o usuário digitar o valor 999, que é a condição de parada. No final, mostre quantos números foram  digitados e qual foi a soma entre eles (desconsiderando o flag).\n"
   ]
  },
  {
   "cell_type": "code",
   "execution_count": null,
   "metadata": {},
   "outputs": [],
   "source": [
    "# Solução\n",
    "n = 0\n",
    "contador = 0\n",
    "soma = 0\n",
    "print('Para sair, digite 999')\n",
    "while n != 999:\n",
    "    n = int(input('Digite um número: '))\n",
    "    if n != 999:\n",
    "        contador += 1\n",
    "        soma += n\n",
    "print(f'Você digitou {contador} números e a soma deles foi {soma} ')"
   ]
  },
  {
   "cell_type": "markdown",
   "metadata": {},
   "source": [
    "---\n",
    "### EX_61: WHILE_MEDIA_MAIOR_MENOR\n",
    "\n",
    "**Exercício** Crie um programa que leia vários números inteiros pelo teclado. No final da execução, mostre a média entre todos os valores e qual foi o maior e o menor valores lidos. O programa deve  perguntar ao usuário se ele quer ou não continuar a digitar valores.\n"
   ]
  },
  {
   "cell_type": "code",
   "execution_count": 4,
   "metadata": {},
   "outputs": [
    {
     "name": "stdout",
     "output_type": "stream",
     "text": [
      "Você quer continuar?\n",
      "Digite [S] para SIM e [N] para não\n",
      "Você quer continuar?\n",
      "Digite [S] para SIM e [N] para não\n",
      "O maior valor digitado foi: 0\n",
      "O menor valor digitado foi:\n",
      "A média dos valores digitado foi: 2.0\n",
      "Fim!\n"
     ]
    }
   ],
   "source": [
    "# Solução\n",
    "n = 0\n",
    "media = 0\n",
    "res = 0\n",
    "soma = 0\n",
    "contador = 0\n",
    "maior = 0\n",
    "while res != 'N':\n",
    "    n = int(input('Digite um número: '))\n",
    "    print('Você quer continuar?\\nDigite [S] para SIM e [N] para não')\n",
    "    res = input('Digite a opção: ').upper()\n",
    "    if res != 'S' and res != 'N':\n",
    "        print('Opção inválida!\\nDigite novamente.\\nVocê quer continuar?\\nDigite [S] para SIM e [N] para não')\n",
    "        res = input('Digite a opção: ').upper()\n",
    "    if res == 'S':\n",
    "        contador += 1\n",
    "        soma += n\n",
    "        media = soma / contador\n",
    "        if contador == 0:\n",
    "            maior = n\n",
    "            if contador != 0 and n > maior:\n",
    "                    maior = n \n",
    "print(f'O maior valor digitado foi: {maior}\\nO menor valor digitado foi:\\nA média dos valores digitado foi: {media}')\n",
    "print('Fim!')"
   ]
  },
  {
   "cell_type": "markdown",
   "metadata": {},
   "source": [
    " # =============================================\n",
    "\n",
    " # SECAO_06: LOGICA DE PROGRAMACAO APLICADA\n",
    "\n",
    " # ============================================="
   ]
  },
  {
   "cell_type": "markdown",
   "metadata": {},
   "source": [
    " ---\n",
    "\n",
    " ### EX_57: LISTA_FOR_LOOP_MAIOR_MENOR\n",
    "\n",
    " **Exercício:** Faça um programa que leia 5 valores numéricos e guarde-os em uma lista. No final, mostre qual foi o maior e o menor valor digitado e suas respectivas posições na lista. (Exercício original 38)"
   ]
  },
  {
   "cell_type": "code",
   "execution_count": null,
   "metadata": {},
   "outputs": [],
   "source": [
    "# Solução\n",
    "lista_numeros = []\n",
    "mai = 0 # Maior valor\n",
    "men = 0 # Menor valor\n",
    "\n",
    "for n in range(0, 5): # Loop de 0 a 4 (5 vezes)\n",
    "    lista_numeros.append(int(input(f'Digite um valor para a Posição {n}: ')))\n",
    "    if n == 0:\n",
    "        # No primeiro loop, o maior e o menor são o primeiro número\n",
    "        mai = men = lista_numeros[n]\n",
    "    else: \n",
    "        if lista_numeros[n] > mai:\n",
    "            mai = lista_numeros[n]\n",
    "        if lista_numeros[n] < men: \n",
    "            men = lista_numeros[n]\n",
    "\n",
    "print('=' * 30)\n",
    "print(f'Você digitou os valores {lista_numeros}')\n",
    "\n",
    "# Mostrando as posições do Maior\n",
    "print(f'O MAIOR valor digitado foi {mai} nas posições ', end=\"\")\n",
    "for i, v in enumerate(lista_numeros): # i = índice, v = valor\n",
    "    if v == mai:\n",
    "        print(f'{i}... ', end = \"\")\n",
    "print() # Pula linha\n",
    "\n",
    "# Mostrando as posições do Menor\n",
    "print(f'O MENOR valor digitado foi {men} nas posições ', end = \"\")\n",
    "for i, v in enumerate(lista_numeros):\n",
    "    if v == men:\n",
    "        print(f'{i}... ', end =\"\")\n",
    "print() # Pula linha\n"
   ]
  },
  {
   "cell_type": "markdown",
   "metadata": {},
   "source": [
    " ---\n",
    "\n",
    " ### EX_58: LOGICA_NUMERO_PRIMO\n",
    "\n",
    " **Exercício:** Faça um programa que leia um número inteiro e diga se ele é ou não um número primo (divisível apenas por 1 e por ele mesmo). (Exercício original 56)"
   ]
  },
  {
   "cell_type": "code",
   "execution_count": null,
   "metadata": {},
   "outputs": [],
   "source": [
    "# Solução (Lógica corrigida)\n",
    "numero_primo = int(input('Digite um número inteiro: '))\n",
    "total_divisores = 0\n",
    "\n",
    "if numero_primo <= 1:\n",
    "    print(f'O número {numero_primo} NÃO é primo.')\n",
    "else:\n",
    "    # Vamos verificar quantos divisores ele tem de 1 até ele mesmo\n",
    "    for c in range(1, numero_primo + 1):\n",
    "        if numero_primo % c == 0:\n",
    "            print(f'\\033[33m{c}\\033[m', end=' ') # Mostra o divisor (em amarelo)\n",
    "            total_divisores += 1\n",
    "        else:\n",
    "            print(f'\\033[31m{c}\\033[m', end=' ') # Mostra quem não é (em vermelho)\n",
    "            \n",
    "    print(f'\\nO número {numero_primo} foi divisível {total_divisores} vezes.')\n",
    "\n",
    "    # Um número primo SÓ é divisível 2 vezes (por 1 e por ele mesmo)\n",
    "    if total_divisores == 2:\n",
    "        print(f'E por isso ele É PRIMO!')\n",
    "    else:\n",
    "        print(f'E por isso ele NÃO É PRIMO!')\n"
   ]
  },
  {
   "cell_type": "markdown",
   "metadata": {},
   "source": [
    " ---\n",
    "\n",
    " ### EX_59: LOGICA_MAIORIDADE_GRUPO\n",
    "\n",
    " **Exercício:** Crie um programa que leia o ano de nascimento de sete pessoas. No final, mostre quantas pessoas ainda não atingiram a maioridade (21 anos) e quantas já são maiores. (Exercício original 58)"
   ]
  },
  {
   "cell_type": "code",
   "execution_count": null,
   "metadata": {},
   "outputs": [],
   "source": [
    "# Solução (Exercício estava sem solução)\n",
    "from datetime import date\n",
    "ano_atual_grupo = date.today().year\n",
    "maioridade_legal = 21 # Em alguns contextos, maioridade é 21\n",
    "\n",
    "total_maiores = 0\n",
    "total_menores = 0\n",
    "\n",
    "for i in range(1, 8): # Loop de 1 a 7\n",
    "    ano_nasc_pessoa = int(input(f\"Digite o ano de nascimento da {i}ª pessoa: \"))\n",
    "    idade_pessoa = ano_atual_grupo - ano_nasc_pessoa\n",
    "    \n",
    "    if idade_pessoa >= maioridade_legal:\n",
    "        total_maiores += 1\n",
    "    else:\n",
    "        total_menores += 1\n",
    "\n",
    "print('=' * 30)\n",
    "print(f'Analisando o grupo de 7 pessoas:')\n",
    "print(f'Total de pessoas MAIORES de idade: {total_maiores}')\n",
    "print(f'Total de pessoas MENORES de idade: {total_menores}')\n"
   ]
  },
  {
   "cell_type": "markdown",
   "metadata": {},
   "source": [
    " ---\n",
    "\n",
    " ### EX_60: LOGICA_MAIOR_MENOR_PESO\n",
    "\n",
    " **Exercício:** Faça um programa que leia o peso de 5 pessoas. No final, mostre qual foi o maior e o menor peso lidos. (Exercício original 59)"
   ]
  },
  {
   "cell_type": "code",
   "execution_count": null,
   "metadata": {},
   "outputs": [],
   "source": [
    "# Solução (Exercício estava sem solução)\n",
    "maior_peso = 0\n",
    "menor_peso = 0\n",
    "\n",
    "for i in range(1, 6): # Loop de 1 a 5\n",
    "    peso_lido = float(input(f\"Digite o peso da {i}ª pessoa (Kg): \"))\n",
    "    \n",
    "    if i == 1:\n",
    "        # No primeiro loop, o maior e o menor são o primeiro peso lido\n",
    "        maior_peso = peso_lido\n",
    "        menor_peso = peso_lido\n",
    "    else:\n",
    "        if peso_lido > maior_peso:\n",
    "            maior_peso = peso_lido\n",
    "        if peso_lido < menor_peso:\n",
    "            menor_peso = peso_lido\n",
    "\n",
    "print('=' * 30)\n",
    "print(f'O MAIOR peso lido foi: {maior_peso: .1f} Kg')\n",
    "print(f'O MENOR peso lido foi: {menor_peso: .1f} Kg')\n"
   ]
  },
  {
   "cell_type": "markdown",
   "metadata": {},
   "source": [
    " ---\n",
    "\n",
    " ### EX_61: LOGICA_ANALISE_GRUPO\n",
    "\n",
    " **Exercício:** Desenvolva um programa que leia o nome, idade e sexo de 4 pessoas. No final do programa, mostre: (Exercício original 60)\n",
    "\n",
    " - A média de idade do grupo;\n",
    "\n",
    " - Quantas mulheres têm menos de 20 anos;\n",
    "\n",
    " - Quantos homens têm mais de 18 anos."
   ]
  },
  {
   "cell_type": "code",
   "execution_count": null,
   "metadata": {},
   "outputs": [],
   "source": [
    "# Solução (Exercício estava sem solução)\n",
    "soma_idades = 0\n",
    "mulheres_menos_20 = 0\n",
    "homens_mais_18 = 0\n",
    "# (Você poderia adicionar qual o nome do homem mais velho, mulher mais nova, etc)\n",
    "\n",
    "print(\"--- Analisador de Grupo ---\")\n",
    "for i in range(1, 5): # Loop de 1 a 4\n",
    "    print(f\"--- {i}ª Pessoa ---\")\n",
    "    nome_pessoa = input(\"Nome: \").strip()\n",
    "    idade_pessoa = int(input(\"Idade: \"))\n",
    "    sexo_pessoa = input(\"Sexo (M/F): \").strip().upper()\n",
    "    \n",
    "    # 1. Soma das idades (para a média)\n",
    "    soma_idades += idade_pessoa\n",
    "    \n",
    "    # 2. Mulheres com menos de 20\n",
    "    if sexo_pessoa == 'F' and idade_pessoa < 20:\n",
    "        mulheres_menos_20 += 1\n",
    "        \n",
    "    # 3. Homens com mais de 18\n",
    "    if sexo_pessoa == 'M' and idade_pessoa > 18:\n",
    "        homens_mais_18 += 1\n",
    "\n",
    "# --- Resultados ---\n",
    "media_idade_grupo = soma_idades / 4\n",
    "\n",
    "print(\"\\n--- Resultados da Análise ---\")\n",
    "print(f\"A média de idade do grupo é: {media_idade_grupo: .1f} anos\")\n",
    "print(f\"Total de mulheres com MENOS de 20 anos: {mulheres_menos_20}\")\n",
    "print(f\"Total de homens com MAIS de 18 anos: {homens_mais_18}\")"
   ]
  }
 ],
 "metadata": {
  "kernelspec": {
   "display_name": "Python 3",
   "language": "python",
   "name": "python3"
  },
  "language_info": {
   "codemirror_mode": {
    "name": "ipython",
    "version": 3
   },
   "file_extension": ".py",
   "mimetype": "text/x-python",
   "name": "python",
   "nbconvert_exporter": "python",
   "pygments_lexer": "ipython3",
   "version": "3.13.3"
  }
 },
 "nbformat": 4,
 "nbformat_minor": 2
}
