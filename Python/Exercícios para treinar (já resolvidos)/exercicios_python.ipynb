{
 "cells": [
  {
   "cell_type": "markdown",
   "id": "61d979b2-a85f-4d69-901e-b3bb69419a3e",
   "metadata": {},
   "source": [
    "# <font color='pink'>Linguagem Python</font>\n",
    "## <font color='pink'>Fundamentos de Linguagem Python </font>\n",
    "## <font color='pink'>Lista de Exercícios</font>"
   ]
  },
  {
   "cell_type": "markdown",
   "id": "f13d8676",
   "metadata": {},
   "source": [
    "### Fundamentos de Python - Básico"
   ]
  },
  {
   "cell_type": "markdown",
   "id": "3670be14-c985-465c-a68c-34b0e822b07a",
   "metadata": {},
   "source": [
    "#### Exercício 1\n",
    "\n",
    "Escreva um programa que peça ao usuário para digitar seu nome e, em seguida, imprima uma mensagem de boas-vindas com o nome fornecido."
   ]
  },
  {
   "cell_type": "code",
   "execution_count": null,
   "id": "e05f9264-9103-4c43-9bbf-20334ead2de3",
   "metadata": {
    "ExecuteTime": {
     "end_time": "2025-10-20T12:01:04.982062Z",
     "start_time": "2025-10-20T12:00:59.736796Z"
    }
   },
   "outputs": [],
   "source": [
    "# Solução\n",
    "nome = input (\"Digite o seu nome: \")\n",
    "print (f'Bem vindo(a), {nome}')"
   ]
  },
  {
   "cell_type": "markdown",
   "id": "c740abbd-3a0e-4f9f-9a26-a3e382b078f5",
   "metadata": {},
   "source": [
    "#### Exercício 2\n",
    "\n",
    "Crie duas variáveis, numero1 e numero2, e atribua a elas valores inteiros. Calcule a soma, subtração, multiplicação e divisão dessas variáveis e imprima os resultados."
   ]
  },
  {
   "cell_type": "code",
   "execution_count": null,
   "id": "431acb5d-fcd1-4ce4-9eee-6117b4066383",
   "metadata": {
    "ExecuteTime": {
     "end_time": "2025-10-20T12:01:45.552654Z",
     "start_time": "2025-10-20T12:01:45.542477Z"
    }
   },
   "outputs": [],
   "source": [
    "# Solução\n",
    "\n",
    "numero1 = 10\n",
    "numero2 = 3\n",
    "\n",
    "soma = numero1 + numero2\n",
    "print(f'O resultado é {soma}.')\n",
    "\n",
    "subtracao = numero1 - numero2\n",
    "print(f'O resultado é {subtracao}.')\n",
    "\n",
    "multiplicacao = numero1 * numero2\n",
    "print(f'O resultado é {multiplicacao}.')\n",
    "\n",
    "divisao = numero1/numero2\n",
    "print(f'O resultado é {divisao: .2f}.')\n",
    "\n",
    "# Da para fazer isso sem precisar gravar a operação em uma variável, executando a operação diretamente no print, como abaixo:\n",
    "print(f'A soma é {numero1 + numero2}.')\n",
    "print(f'A subtração é {numero1 - numero2}.')"
   ]
  },
  {
   "cell_type": "markdown",
   "id": "3375fbd5-8283-4602-9462-c0c7722e3258",
   "metadata": {},
   "source": [
    "#### Exercício 3 \n",
    "\n",
    "Qual é a principal diferença entre uma variável de escopo local e uma de escopo global?"
   ]
  },
  {
   "cell_type": "code",
   "execution_count": null,
   "id": "de7f16bd-c754-456b-a726-28616af68aaa",
   "metadata": {},
   "outputs": [],
   "source": [
    "# Solução\n",
    "A de escopo global pode ser acessada de qualquer lugar do código, a de escobo local só pode ser acessada dentro do bloco que ela foi criada."
   ]
  },
  {
   "cell_type": "markdown",
   "id": "7a6f120d-ef3d-4431-a9a1-1f8a99bae626",
   "metadata": {},
   "source": [
    "#### Exercício 4\n",
    "\n",
    "Crie uma variável chamada saldo com o valor 500.50 (float). Em seguida, crie uma variável saque com o valor 200.25 (float). Subtraia o saque do saldo e imprima o saldo final formatado para duas casas decimais."
   ]
  },
  {
   "cell_type": "code",
   "execution_count": null,
   "id": "d40d066e-42b3-4659-a098-4bb73a3448a2",
   "metadata": {},
   "outputs": [],
   "source": [
    "# Solução\n",
    "\n",
    "saldo = 500.50\n",
    "saque = 200.25\n",
    "saldo_final = saldo - saque\n",
    "\n",
    "print(f' Seu saldo atual é de R${saldo_final: .2f}')\n"
   ]
  },
  {
   "cell_type": "markdown",
   "id": "a3182326-e5c7-4b8b-aeae-f30bbc3532b2",
   "metadata": {},
   "source": [
    "#### Exercício 5\n",
    "\n",
    "Declare uma variável booleana chamada **tem_carteira_de_motorista** e atribua a ela o valor True. Imprima uma mensagem que diga \"Pode dirigir\" se a variável for verdadeira e \"Não pode dirigir\" caso contrário."
   ]
  },
  {
   "cell_type": "code",
   "execution_count": null,
   "id": "40007f31-7641-4d98-9521-c23f0741c37f",
   "metadata": {
    "ExecuteTime": {
     "end_time": "2025-10-20T12:03:22.631714Z",
     "start_time": "2025-10-20T12:03:22.626633Z"
    }
   },
   "outputs": [],
   "source": [
    "# Solução\n",
    "\n",
    "tem_carteira_de_motorista = True\n",
    "\n",
    "if tem_carteira_de_motorista:\n",
    "    print(\"Pode dirigir\")\n",
    "else:\n",
    "    print ('Não pode dirigir')"
   ]
  },
  {
   "cell_type": "markdown",
   "id": "5e3ab56c-3067-415a-b475-ec5dff1ee815",
   "metadata": {},
   "source": [
    "#### Exercício 6\n",
    "\n",
    "Crie duas variáveis: \n",
    "\n",
    "- idade_ana = 25\n",
    "- idade_beto = 30\n",
    "\n",
    "Use operadores de comparação para verificar se a idade de Ana é menor que a de Beto e imprima o resultado booleano."
   ]
  },
  {
   "cell_type": "code",
   "execution_count": null,
   "id": "45a0699c-e6f4-4f0d-a55b-e1f2a39ba92e",
   "metadata": {
    "ExecuteTime": {
     "end_time": "2025-10-20T12:05:11.895863Z",
     "start_time": "2025-10-20T12:05:11.886245Z"
    }
   },
   "outputs": [],
   "source": [
    "# Solução\n",
    "\n",
    "idade_ana = 25\n",
    "idade_beto = 30\n",
    "\n",
    "if(idade_ana < idade_beto):\n",
    "    print (\"Verdadeiro\")\n",
    "else:\n",
    "    print(\"Falso\")\n",
    "\n"
   ]
  },
  {
   "cell_type": "markdown",
   "id": "b87006e7-5436-4dc0-acfc-fe6e83330191",
   "metadata": {},
   "source": [
    "#### Exercício 7\n",
    "\n",
    "Receba um número inteiro do usuário e use o operador de módulo (%) para verificar se o número é par ou ímpar. Imprima o resultado.\n",
    "\n",
    "Obs: Não estudamos ainda os condicionais, mas pesquise se necessário e tente resolver."
   ]
  },
  {
   "cell_type": "code",
   "execution_count": null,
   "id": "1f0c0503-1346-47f1-8cb9-ddbcd87641ea",
   "metadata": {
    "ExecuteTime": {
     "end_time": "2025-10-20T12:07:41.887080Z",
     "start_time": "2025-10-20T12:07:40.223488Z"
    }
   },
   "outputs": [],
   "source": [
    "# Solução\n",
    "numero = int(input('Digite um número inteiro: '))\n",
    "if (numero % 2 == 0): # não entendi\n",
    "    print (\"O número é par\")\n",
    "else:\n",
    "    print (\"O número é ímpar\")\n"
   ]
  },
  {
   "cell_type": "markdown",
   "id": "268f4ea6-5329-457b-8b1f-8b3fc7956603",
   "metadata": {},
   "source": [
    "#### Exercício 8\n",
    "\n",
    "Crie duas variáveis booleanas: \n",
    "\n",
    "- chovendo = True\n",
    "- guarda_chuva = False\n",
    "\n",
    "Use operadores lógicos para verificar se uma pessoa vai se molhar (se está chovendo E ela não tem guarda-chuva)."
   ]
  },
  {
   "cell_type": "code",
   "execution_count": null,
   "id": "7366a477-10f5-46ec-ba8c-b0ab6067fed0",
   "metadata": {},
   "outputs": [],
   "source": [
    "# Solução\n",
    "\n",
    "chovendo = True\n",
    "guarda_chuva = False\n",
    "\n",
    "if (chovendo and not guarda_chuva):\n",
    "    print(\"A pessoa vai se molhar\")\n",
    "else:\n",
    "    print ('A pessoa não vai se molhar')\n"
   ]
  },
  {
   "cell_type": "markdown",
   "id": "bc454f20-7ee6-4402-8319-5e4876e2d309",
   "metadata": {},
   "source": [
    "#### Exercício 9\n",
    "\n",
    "Calcule a potência de 2 elevado a 10 e imprima o resultado."
   ]
  },
  {
   "cell_type": "code",
   "execution_count": null,
   "id": "11bdc9e8-75be-4448-932d-d876207fd1e4",
   "metadata": {},
   "outputs": [],
   "source": [
    "# Solução\n",
    "\n",
    "a = 2\n",
    "b = 10\n",
    "\n",
    "potencia = a**b\n",
    "print(f'O resultado é {potencia}')"
   ]
  },
  {
   "cell_type": "markdown",
   "id": "40f12391-14a5-4b6d-bcb7-419a373eb0e1",
   "metadata": {},
   "source": [
    "#### Exercício 10\n",
    "\n",
    "Converta a string \"2026\" para um tipo inteiro e armazene-a em uma variável chamada ano. Em seguida, some 1 a essa variável e imprima o novo ano."
   ]
  },
  {
   "cell_type": "code",
   "execution_count": null,
   "id": "98f84688-9bfe-4de8-9f2b-97bf184dbd18",
   "metadata": {},
   "outputs": [],
   "source": [
    "# Solução\n",
    "\n",
    "ano = \"2026\"\n",
    "ano_int = int(ano)\n",
    "novo_ano = ano_int + 1\n",
    "print(f'O novo ano é {novo_ano}')"
   ]
  },
  {
   "cell_type": "markdown",
   "id": "ca6b9f60-681d-4baf-abe0-aa8e258e7407",
   "metadata": {},
   "source": [
    "#### Exercício 11\n",
    "\n",
    "Crie a string:\n",
    "\n",
    "frase = \"   Python é uma linguagem poderosa e estou aprendendo com a DSA   \". \n",
    "\n",
    "Remova os espaços em branco do início e do fim da string e imprima a nova string."
   ]
  },
  {
   "cell_type": "code",
   "execution_count": null,
   "id": "4e2042e8-4925-4d36-acf6-7953917f43d1",
   "metadata": {},
   "outputs": [],
   "source": [
    "# Solução\n",
    "frase = ' Python é uma linguagem poderosa e estou aprendendo com a DSA '\n",
    "print(f'Sem valores em branco: \"{frase.strip()}\"')\n"
   ]
  },
  {
   "cell_type": "markdown",
   "id": "757dc590-00ae-447d-8739-d472b92ba5d3",
   "metadata": {},
   "source": [
    "#### Exercício 12\n",
    "\n",
    "Na string do exercício anterior (já sem os espaços), converta toda a frase para letras maiúsculas."
   ]
  },
  {
   "cell_type": "code",
   "execution_count": null,
   "id": "0a474b6c-499e-4d50-9cdb-cec4bbecef59",
   "metadata": {},
   "outputs": [],
   "source": [
    "# Solução\n",
    "frase = ' Python é uma linguagem poderosa e estou aprendendo com a DSA '\n",
    "frase = frase.strip()\n",
    "print (f'Em maiúsculo: \"{frase.upper()}\"')"
   ]
  },
  {
   "cell_type": "markdown",
   "id": "afed6632-a72f-482b-a9e7-07a507ab54d9",
   "metadata": {},
   "source": [
    "#### Exercício 13\n",
    "\n",
    "Ainda usando a mesma string, substitua a palavra \"poderosa\" por \"incrível\"."
   ]
  },
  {
   "cell_type": "code",
   "execution_count": null,
   "id": "d57316c4-a357-49e9-820f-b774fe13a310",
   "metadata": {},
   "outputs": [],
   "source": [
    "# Solução\n",
    "frase = ' Python é uma linguagem poderosa e estou aprendendo com a DSA '\n",
    "frase = frase.strip()\n",
    "frase = frase.replace(\"poderosa\", \"incrível\")\n",
    "print(f'Frase modificada: \"{frase}\"')"
   ]
  },
  {
   "cell_type": "markdown",
   "id": "fb47b3bf-825b-4c2b-89a0-78bd31e1c6e5",
   "metadata": {},
   "source": [
    "#### Exercício 14\n",
    "\n",
    "Verifique e imprima o número total de caracteres na string frase (após as modificações dos exercícios anteriores)."
   ]
  },
  {
   "cell_type": "code",
   "execution_count": null,
   "id": "6c44e720-0118-4933-94de-772274740d5f",
   "metadata": {},
   "outputs": [],
   "source": [
    "# Solução\n",
    "frase = ' Python é uma linguagem poderosa e estou aprendendo com a DSA '\n",
    "frase = frase.strip()\n",
    "frase = frase.replace(\"poderosa\", \"incrível\")\n",
    "print(f'Frase modificada: \"{frase}\"')\n",
    "print(f'O número total de caracteres é {len(frase)}')"
   ]
  },
  {
   "cell_type": "markdown",
   "id": "a475df67-a4fe-4a28-82c5-4006b78e6724",
   "metadata": {},
   "source": [
    "#### Exercício 15\n",
    "\n",
    "Use fatiamento (slicing) para extrair e imprimir apenas a palavra \"Python\" da string frase."
   ]
  },
  {
   "cell_type": "code",
   "execution_count": null,
   "id": "4545e6b6-347d-41e4-9040-64785c0b158f",
   "metadata": {
    "ExecuteTime": {
     "end_time": "2025-10-20T12:15:11.712038Z",
     "start_time": "2025-10-20T12:15:11.706124Z"
    }
   },
   "outputs": [],
   "source": [
    "# Solução\n",
    "frase = ' Python é uma linguagem poderosa e estou aprendendo com a DSA '\n",
    "frase = frase.strip()\n",
    "frase = frase.replace(\"poderosa\", \"incrível\")\n",
    "print(f'Frase modificada: \"{frase}\"')\n",
    "print(f'O número total de caracteres é {len(frase)}')\n",
    "print(f'A palavra extraída é \"{frase[0:6]}\"')"
   ]
  },
  {
   "cell_type": "markdown",
   "id": "87d8b962-276a-4eda-bb07-e392be103475",
   "metadata": {},
   "source": [
    "#### Exercício 16\n",
    "\n",
    "Crie uma lista chamada compras com os seguintes itens: \"arroz\", \"feijão\", \"macarrão\", \"carne\". Imprima a lista."
   ]
  },
  {
   "cell_type": "code",
   "execution_count": null,
   "id": "519ccb8d-07dd-4706-b949-cd4f3db5b0ea",
   "metadata": {},
   "outputs": [],
   "source": [
    "# Solução\n",
    "compras = [\"arroz\", \"feijão\", \"macarrão\", \"carne\"]\n",
    "print (f' É do tipo {type(compras)}')"
   ]
  },
  {
   "cell_type": "markdown",
   "id": "43dda5ea-fc93-4dda-9a88-37f5ee02595b",
   "metadata": {},
   "source": [
    "#### Exercício 17\n",
    "\n",
    "Adicione o item \"leite\" ao final da lista compras e imprima a lista atualizada."
   ]
  },
  {
   "cell_type": "code",
   "execution_count": null,
   "id": "b287493d-7eaf-4ea3-adee-f04bda37c753",
   "metadata": {},
   "outputs": [],
   "source": [
    "# Solução\n",
    "compras = [\"arroz\", \"feijão\", \"macarrão\", \"carne\"]\n",
    "compras.append(\"leite\")\n",
    "print (compras)"
   ]
  },
  {
   "cell_type": "markdown",
   "id": "d0c379ea-a090-486f-ad23-0c1f9f1f57c4",
   "metadata": {},
   "source": [
    "#### Exercício 18\n",
    "\n",
    "Acesse e imprima o segundo item da lista compras."
   ]
  },
  {
   "cell_type": "code",
   "execution_count": null,
   "id": "927b9ca7-96fb-4f47-8944-1807f50188d7",
   "metadata": {},
   "outputs": [],
   "source": [
    "# Solução\n",
    "print(f'O segundo item da lista é {compras[1]}')"
   ]
  },
  {
   "cell_type": "markdown",
   "id": "756fb416-ccbd-4490-bd7b-7e5fbbad2202",
   "metadata": {},
   "source": [
    "#### Exercício 19\n",
    "\n",
    "Remova o item \"macarrão\" da lista compras e imprima a lista final."
   ]
  },
  {
   "cell_type": "code",
   "execution_count": null,
   "id": "f6dae380-9cfc-41ea-87a5-0e7b9fe83412",
   "metadata": {},
   "outputs": [],
   "source": [
    "# Solução\n",
    "del(compras[2])\n",
    "print(compras)"
   ]
  },
  {
   "cell_type": "markdown",
   "id": "45768893-27ab-411a-b344-66c1e0c10d3f",
   "metadata": {},
   "source": [
    "#### Exercício 20\n",
    "\n",
    "Crie uma lista de números de 1 a 5. Use uma função para calcular e imprimir o tamanho (número de elementos) dessa lista."
   ]
  },
  {
   "cell_type": "code",
   "execution_count": null,
   "id": "936f45f6-f9bc-44c2-8c7e-b8f017a569e6",
   "metadata": {},
   "outputs": [],
   "source": [
    "# Solução\n",
    "números = [1, 2, 3, 4, 5]\n",
    "print(f'A lista tem {len(números)} números')"
   ]
  },
  {
   "cell_type": "markdown",
   "id": "48c0e0e5-d033-4ace-9854-b3140c9f52e8",
   "metadata": {},
   "source": [
    "#### Exercício 21\n",
    "\n",
    "Crie uma tupla chamada meses com os três primeiros meses do ano: \"Janeiro\", \"Fevereiro\", \"Março\"."
   ]
  },
  {
   "cell_type": "code",
   "execution_count": null,
   "id": "7ec4a95a-6566-4063-b03e-9194111d0340",
   "metadata": {},
   "outputs": [],
   "source": [
    "# Solução\n",
    "meses = (\"Janeiro\", \"Fevereiro\", \"Março\")\n",
    "print (f'É do tipo {type(meses)}')"
   ]
  },
  {
   "cell_type": "markdown",
   "id": "593e45f0-fb20-4870-b0db-ff370191c232",
   "metadata": {},
   "source": [
    "#### Exercício 22\n",
    "\n",
    "Tente adicionar o mês \"Abril\" à tupla meses. O que acontece? Explique o resultado."
   ]
  },
  {
   "cell_type": "code",
   "execution_count": null,
   "id": "3d14be0c-9888-40cb-b806-5b33123349ac",
   "metadata": {},
   "outputs": [],
   "source": [
    "# Solução\n",
    "meses.append(\"Abril\")\n",
    "\n",
    "# Gera um erro pois o tipo tupla é imutável, ou seja, não pode ser alterado depois de criado"
   ]
  },
  {
   "cell_type": "markdown",
   "id": "4665f2df-6d85-47e9-9b90-48b6b78aa693",
   "metadata": {},
   "source": [
    "#### Exercício 23\n",
    "\n",
    "Acesse e imprima o primeiro mês da tupla meses."
   ]
  },
  {
   "cell_type": "code",
   "execution_count": null,
   "id": "ddf3c436-d8cd-458f-93f2-6a575d8758a3",
   "metadata": {},
   "outputs": [],
   "source": [
    "# Solução\n",
    "print(f' O primero mês da tupla é: {meses[0]}')"
   ]
  },
  {
   "cell_type": "markdown",
   "id": "13282da2-0809-4e72-9cd3-a50c18c82ff6",
   "metadata": {},
   "source": [
    "#### Exercício 24\n",
    "\n",
    "Crie um dicionário chamado filme com as seguintes chaves e valores: \n",
    "\n",
    "- titulo = \"O Poderoso Chefão\",\n",
    "- ano = 1972\n",
    "- diretor = \"Francis Ford Coppola\""
   ]
  },
  {
   "cell_type": "code",
   "execution_count": null,
   "id": "162806ad-04aa-4870-8927-dd628a9eb526",
   "metadata": {},
   "outputs": [],
   "source": [
    "# Solução\n",
    "filme = { \n",
    "    \"titulo\" : \"O Poderoso Chefão\",\n",
    "    \"ano\" : 1972,\n",
    "    \"diretor\" : \"Francis Ford Coppola\"\n",
    "}\n",
    "\n",
    "print(f'A lista é do tipo {type(filme)}')"
   ]
  },
  {
   "cell_type": "markdown",
   "id": "9e4135b1-2411-4d28-a145-85f476ae2eae",
   "metadata": {},
   "source": [
    "#### Exercício 25\n",
    "\n",
    "Acesse e imprima o ano de lançamento do filme a partir do dicionário."
   ]
  },
  {
   "cell_type": "code",
   "execution_count": null,
   "id": "5e7e177e-c3e2-43f8-8cda-9b9fffb6729b",
   "metadata": {},
   "outputs": [],
   "source": [
    "# Solução\n",
    "print(f'O ano de lançamento do filme é {filme[\"ano\"]}')"
   ]
  },
  {
   "cell_type": "markdown",
   "id": "f9eb71eb-57a7-4311-b7fa-cea61b755f7a",
   "metadata": {},
   "source": [
    "#### Exercício 26\n",
    "\n",
    "Adicione uma nova chave genero com o valor \"Drama\" ao dicionário filme e imprima o dicionário completo."
   ]
  },
  {
   "cell_type": "code",
   "execution_count": null,
   "id": "dc5441d5-9a10-4cb8-9e7d-ea83173e2833",
   "metadata": {},
   "outputs": [],
   "source": [
    "# Solução\n",
    "filme[\"Gênero\"] = \"Drama \"\n",
    "print(filme)"
   ]
  },
  {
   "cell_type": "markdown",
   "id": "c9df05f7-78ce-4fd0-965f-3ae33c4e792e",
   "metadata": {},
   "source": [
    "#### Exercício 27\n",
    "\n",
    "Modifique o valor da chave ano para 1973 e imprima o dicionário atualizado."
   ]
  },
  {
   "cell_type": "code",
   "execution_count": null,
   "id": "95d231e5-2604-4d1b-b326-06b136d470c7",
   "metadata": {},
   "outputs": [],
   "source": [
    "# Solução\n",
    "filme[\"ano\"] = 1973\n",
    "print(filme)"
   ]
  },
  {
   "cell_type": "markdown",
   "id": "d9ccfccb-510e-4e20-9db6-ac197c66675c",
   "metadata": {},
   "source": [
    "#### Exercício 28\n",
    "\n",
    "Crie uma lista com os seguintes números: [1, 2, 2, 3, 4, 4, 5, 1]. Use um conjunto para remover os números duplicados e imprima o resultado."
   ]
  },
  {
   "cell_type": "code",
   "execution_count": null,
   "id": "6782e15b-7c5d-4bea-93f3-7b3f0b767d7c",
   "metadata": {},
   "outputs": [],
   "source": [
    "# Solução\n",
    "numeros = {1,2,2,3,4,4,5,1}\n",
    "print(numeros)\n"
   ]
  },
  {
   "cell_type": "markdown",
   "id": "f64f5c64-7c69-4156-8435-a8234f6e98d1",
   "metadata": {},
   "source": [
    "#### Exercício 29\n",
    "\n",
    "Crie dois conjuntos: \n",
    "\n",
    "- set_a = {1, 2, 3, 4}\n",
    "- set_b = {3, 4, 5, 6}\n",
    "\n",
    "Encontre e imprima a interseção entre os dois conjuntos (os elementos que estão em ambos)."
   ]
  },
  {
   "cell_type": "code",
   "execution_count": null,
   "id": "8e59a4ae-e5a1-4411-b5db-4efbe0e131d4",
   "metadata": {},
   "outputs": [],
   "source": [
    "# Solução\n",
    "set_a = {1,2,3,4}\n",
    "set_b = {3,4,5,6}\n",
    "\n",
    "print(f'A interseção entre os dois conjuntos é {set_a.intersection(set_b)}')"
   ]
  },
  {
   "cell_type": "markdown",
   "id": "e973b983-543d-42f1-893a-b8ff175e79a0",
   "metadata": {},
   "source": [
    "#### Exercício 30\n",
    "\n",
    "Escreva um programa que peça ao usuário para digitar sua altura em metros (ex: 1.75) e seu peso em quilogramas (ex: 68.5). Calcule o Índice de Massa Corporal (IMC) usando a fórmula IMC = peso / (altura * altura) e imprima o resultado formatado com duas casas decimais."
   ]
  },
  {
   "cell_type": "code",
   "execution_count": null,
   "id": "43318952-de1b-41a5-89e8-2115b726a07b",
   "metadata": {},
   "outputs": [],
   "source": [
    "# Solução\n",
    "altura = float(input(\"Digite a sua altura em metros:  \"))\n",
    "peso = int(input(\"Digite o seu peso em quilogramas:  \"))\n",
    "imc = peso /(altura * altura)\n",
    "\n",
    "print (f'Seu IMC é de {imc: .2f}')"
   ]
  },
  {
   "cell_type": "markdown",
   "id": "800eb189-a900-4307-a31c-910e5bb1e6c9",
   "metadata": {},
   "source": [
    "#### Exercício 31\n",
    "\n",
    "Peça ao usuário um número decimal e exiba: o número convertido para inteiro, para string e o tipo de cada conversão.\n"
   ]
  },
  {
   "cell_type": "code",
   "execution_count": null,
   "id": "f42a0f3b",
   "metadata": {},
   "outputs": [],
   "source": [
    "# Solução\n",
    "\n",
    "numero = float(input(\"Insira um número decimal: \"))\n",
    "\n",
    "numeroint = int(numero)\n",
    "numerostr = str(numero)\n",
    "\n",
    "print(f'O número é {numeroint}')\n",
    "print(f' Ele é do tipo {type(numeroint)}')\n",
    "\n",
    "print(f'O número é {numerostr}')\n",
    "print(f' Ele é do tipo {type(numerostr)}')"
   ]
  },
  {
   "cell_type": "markdown",
   "id": "7afb4efa",
   "metadata": {},
   "source": [
    "#### Exercício 32\n",
    "\n",
    "Crie duas variáveis com números inteiros e mostre a soma, subtração, multiplicação, divisão real e inteira, resto e exponenciação."
   ]
  },
  {
   "cell_type": "code",
   "execution_count": null,
   "id": "81ce1bfe",
   "metadata": {},
   "outputs": [],
   "source": [
    "# Solução\n",
    "a = 2\n",
    "b = 8\n",
    "\n",
    "print (f'A soma é {a + b}')\n",
    "print (f'A subtração é {a - b}')\n",
    "print (f'A multiplicação é {a * b}')\n",
    "print (f'A divisão é {a / b}')\n",
    "print (f'A divisão inteira é {a // b}')\n",
    "print (f'O resto é {a % b}')\n",
    "print (f'A potência é {a ** b}')\n",
    "\n",
    "\n"
   ]
  },
  {
   "cell_type": "markdown",
   "id": "73990fc5",
   "metadata": {},
   "source": [
    "#### Exercício 33 \n",
    "\n",
    "Peça a idade do usuário e exiba se ele é maior ou menor de idade usando o operador ternário."
   ]
  },
  {
   "cell_type": "code",
   "execution_count": null,
   "id": "9ad29bba",
   "metadata": {},
   "outputs": [],
   "source": [
    "# Solução\n",
    "\n",
    "idade = int(input('Qual é a sua idade? '))\n",
    "\n",
    "if idade >= 18:\n",
    "    print('Você é maior de idade')\n",
    "else:\n",
    "    print('Você é menor de idade')"
   ]
  },
  {
   "cell_type": "markdown",
   "id": "3d7bd483",
   "metadata": {},
   "source": [
    "#### Exercicio 34\n",
    "\n",
    "Peça o tipo de conta (normal, universitária, especial) e o valor do saque. Exiba mensagens conforme o saldo e o limite."
   ]
  },
  {
   "cell_type": "code",
   "execution_count": null,
   "id": "d98fc3da",
   "metadata": {},
   "outputs": [],
   "source": [
    "# Solução\n",
    "saldo = 120\n",
    "usuario = input('Digite sua conta: ')\n",
    "tipo_conta = int(input('Escolha a opção:\\n [1] Conta Normal\\n [2] Conta Universitária\\n [3] Conta Especial\\n'))\n",
    "\n",
    "# Bloco 1 - Solicitando o tipo de conta\n",
    "print(f'Bem-vindo, usuário {usuario}!')\n",
    "if tipo_conta == 1:\n",
    "    print(\"Conta Normal selecionada! Bem-vindo ao nosso banco.\")\n",
    "elif tipo_conta == 2:\n",
    "    print(\"Conta Universitária selecionada! Bem-vindo ao nosso banco.\")\n",
    "elif tipo_conta == 3:\n",
    "    print(\"Conta Especial selecionada! Bem-vindo ao nosso banco.\")\n",
    "else:\n",
    "    print(\"Opção inválida, digite novamente!\")\n",
    "\n",
    "# Bloco 2 - Menu de opções\n",
    "while True:\n",
    "    opcao = int(input('\\nSelecione a opção desejada: \\n [1] Sacar\\n [2] Depositar\\n [0] Sair\\n'))\n",
    "\n",
    "    if opcao == 0:\n",
    "        print('Saindo do sistema...')\n",
    "        break\n",
    "    elif opcao == 1:\n",
    "        saque = int(input('Qual valor deseja sacar? '))\n",
    "        saldo -= saque\n",
    "        print(f'Seu saldo atual é de {saldo}')\n",
    "    elif opcao == 2:\n",
    "        deposito = int(input('Qual valor deseja depositar? '))\n",
    "        saldo += deposito\n",
    "        print(f'Seu saldo agora é de {saldo}')\n",
    "    else:\n",
    "        print('Opção inválida, digite novamente!')\n"
   ]
  },
  {
   "cell_type": "markdown",
   "id": "57d13cfb",
   "metadata": {},
   "source": [
    "#### Exercício 35\n",
    "\n",
    "Exiba todos os números de 1 a 30, exceto os múltiplos de 3."
   ]
  },
  {
   "cell_type": "code",
   "execution_count": null,
   "id": "998bf9f9",
   "metadata": {},
   "outputs": [],
   "source": [
    "# Solução\n",
    "numeros = list(range(1,31))\n",
    "print(numeros)\n",
    "for n in numeros:\n",
    "    if (n // 3) and not (n % 3 == 0):\n",
    "        print(n, end=\" ; \")\n",
    "else: print ('\\nFim!')"
   ]
  },
  {
   "cell_type": "markdown",
   "id": "9cb43980",
   "metadata": {},
   "source": [
    "#### Exercicio 36 \n",
    "\n",
    "Crie um sistema com menu que permita saque, depósito e extrato. Use while True e break para sair do sistema."
   ]
  },
  {
   "cell_type": "code",
   "execution_count": null,
   "id": "a5acb03f",
   "metadata": {},
   "outputs": [],
   "source": [
    "# Solução"
   ]
  },
  {
   "cell_type": "markdown",
   "id": "9a1ece91",
   "metadata": {},
   "source": [
    "#### Exercicio 37\n",
    "\n",
    "Crie um programa que permita até 3 tentativas de login antes de bloquear o acesso."
   ]
  },
  {
   "cell_type": "code",
   "execution_count": null,
   "id": "edd1f798",
   "metadata": {},
   "outputs": [],
   "source": [
    "# Solução"
   ]
  },
  {
   "cell_type": "markdown",
   "id": "1f5edda9",
   "metadata": {},
   "source": [
    "#### Exercicio 38\n",
    "Faça um programa que leia 5 valores numéricos e guarde-os em uma lista. No final, mostre qual foi o maior e o menor valor digitado e suas respectivas posições na lista.\n"
   ]
  },
  {
   "cell_type": "code",
   "execution_count": null,
   "id": "b7f6c950",
   "metadata": {},
   "outputs": [],
   "source": [
    "# Solução\n",
    "lista = []\n",
    "mai = 0 \n",
    "men = 0 \n",
    "\n",
    "for n in range(0,5):\n",
    "    lista.append(int(input(f'Digite um valor para a posição {n}: ')))\n",
    "    if n == 0:\n",
    "        mai = men = lista[n]\n",
    "    else: \n",
    "        if lista[n] > mai:\n",
    "            mai = lista[n]\n",
    "        if lista[n] < men: \n",
    "            men = lista[n]\n",
    "print('=' * 30)\n",
    "print(f'Você digitou os valores {lista}')\n",
    "print(f' O maior valor digitado foi {mai} nas posições ', end=\"\")\n",
    "for i, v in enumerate(lista):\n",
    "    if v == mai:\n",
    "        print(f'{i}.... ', end = \"\")\n",
    "print()\n",
    "print(f'O menor valor digitado foi {men} nas posições ', end = \"\")\n",
    "for i,v in enumerate(lista):\n",
    "    if v == men:\n",
    "        print(f'{i}.... ', end =\"\")"
   ]
  },
  {
   "cell_type": "markdown",
   "id": "3c324413",
   "metadata": {},
   "source": [
    "### Exercício 39 \n",
    "Crie um programa que leia um número real quaquer pelo teclado e mostre na tela a sua porção inteira."
   ]
  },
  {
   "cell_type": "code",
   "execution_count": null,
   "id": "04aff32a",
   "metadata": {},
   "outputs": [],
   "source": [
    "#Solução\n",
    "\n",
    "numero = float(input('Digite um número qualquer: '))\n",
    "print (f'A porção inteira do número é {int(numero)}')"
   ]
  },
  {
   "cell_type": "markdown",
   "id": "0124ea70",
   "metadata": {},
   "source": [
    "### Exercicio 41\n",
    "Escreva um programa para aprovar o empréstimo bancário para a compra de uma casa. O programa vai perguntar: \n",
    "1. O valor da casa; \n",
    "2. O salário do comprador e,\n",
    "3. Em quantos anos ele vai pagar. \n",
    "\n",
    "Calcule o valor da prestação mensal, sabendo que ela não pode exceder 30% do salário ou então o empréstimo será negado.\n"
   ]
  },
  {
   "cell_type": "code",
   "execution_count": null,
   "id": "bc98d7c4",
   "metadata": {},
   "outputs": [],
   "source": [
    "# Solução\n",
    "\n",
    "print('Bem vindo! Ao programa Minha Casa Minha vida!')\n",
    "usuario = input('Por favor, digite o seu nome: ')\n",
    "print(f'Bem vindo(a), {usuario}! ')\n",
    "print(f'Para iniciarmos a simulação será necessário obtermos algumas respostas:')\n",
    "valor_casa = float(input('Qual o valor do imóvel que você quer financiar? '))\n",
    "salario_comprador = float(input('Qual o seu salário mensal? '))\n",
    "pagamento = int(input('Em quantos meses você pretende quitar esse empréstimo? '))\n",
    "prestacao = float(valor_casa // pagamento)\n",
    "regra = float(salario_comprador * 0.3 )\n",
    "\n",
    "if prestacao <= regra:\n",
    "    print(f\"Parabéns, {usuario}!\\nSeu empréstimo foi aprovado! \")\n",
    "else: \n",
    "    print(f\"Que pena, {usuario}!\\nDevido às nossas regras, não podemos aprovar seu empréstimo nesse momento.\\nQuem sabe em uma próxima vez?\")\n",
    "\n",
    "print(\"Tenha um ótimo dia!\")\n"
   ]
  },
  {
   "cell_type": "markdown",
   "id": "2adf2cdf",
   "metadata": {},
   "source": [
    "### Exercício 43\n",
    "Escreva um programa que leia dois números inteiros e compare-os mostrando na tela uma mensagem: \n",
    "- O primeiro valor é maior\n",
    "- O segundo valor é maior   \n",
    "- Os dois valores são iguais"
   ]
  },
  {
   "cell_type": "code",
   "execution_count": null,
   "id": "8c7f6aa3",
   "metadata": {},
   "outputs": [],
   "source": [
    "# Solução\n"
   ]
  },
  {
   "cell_type": "markdown",
   "id": "c252dc72",
   "metadata": {},
   "source": [
    "### Exercício 44\n",
    "Faça um programa que leia o ano de naascimento de um jovem e informe, de acordo com a sua idade:\n",
    "- Se ele ainda vai se alistar ao serviço militar.   \n",
    "- Se é a hora de se alistar\n",
    "- Se já passou do tempo de alistamento\n",
    "\n",
    "O sistema deve também mostrar o tempo que falta ou que passou do prazo."
   ]
  },
  {
   "cell_type": "code",
   "execution_count": null,
   "id": "cfade509",
   "metadata": {},
   "outputs": [],
   "source": [
    "# Solução\n"
   ]
  },
  {
   "cell_type": "markdown",
   "id": "e9ed0d84",
   "metadata": {},
   "source": [
    "### Exercício 45\n",
    "Crie um programa que leia duas notas de um aluno e calcule sua média, mostrando uma mensagem no final, de acordo com a média atingida:\n",
    "- Média abaixo de 5.0: Reprovado    \n",
    "- Média entre 5.0 e 6.9: Recuperação\n",
    "- Média 7.0 ou superior: Aprovado"
   ]
  },
  {
   "cell_type": "code",
   "execution_count": null,
   "id": "cd37d87b",
   "metadata": {},
   "outputs": [],
   "source": [
    "# Solução"
   ]
  },
  {
   "cell_type": "markdown",
   "id": "037ef419",
   "metadata": {},
   "source": [
    "### Exercicio 46\n",
    "A confederação nacional de natação precisa de um programa que leia o ano de nascimento de um atleta e mostre sua categoria, de acordo com a idade:\n",
    "- Até 9 anos: MIRIM\n",
    "- Até 14 anos: INFANTIL\n",
    "- Até 19 anos: JÚNIOR\n",
    "- Até 25 anos: SÊNIOR\n",
    "- Acima de 25 anos: MASTER\n"
   ]
  },
  {
   "cell_type": "code",
   "execution_count": null,
   "id": "d59182a4",
   "metadata": {},
   "outputs": [],
   "source": [
    "# Solução\n"
   ]
  },
  {
   "cell_type": "markdown",
   "id": "d8170259",
   "metadata": {},
   "source": [
    "### Exercicio 47\n",
    "Desenvolva um programa que leia o peso e a altura de uma pessoa, calcule seu Índice de Massa Corporal (IMC) e mostre seu status, de acordo com a tabela abaixo:\n",
    "- Abaixo de 18.5: Abaixo do peso\n",
    "- Entre 18.5 e 24.9: Peso ideal \n",
    "- Entre 25 e 29.9: Sobrepeso\n",
    "- Entre 30 e 40: Obesidade\n",
    "- Acima de 40: Obesidade mórbida"
   ]
  },
  {
   "cell_type": "code",
   "execution_count": null,
   "id": "9409b1b0",
   "metadata": {},
   "outputs": [],
   "source": [
    "# Solução"
   ]
  },
  {
   "cell_type": "markdown",
   "id": "e2eecbb9",
   "metadata": {},
   "source": [
    "### Exercicio 48 \n",
    "Elabore um programa que calcule o valor a ser pago por um produto, considerando o seu preço normal e condição de pagamento:\n",
    "- À vista dinheiro/cheque: 10% de desconto\n",
    "- À vista no cartão: 5% de desconto \n",
    "- Em até 2x no cartão: Preço normal\n",
    "- 3x ou mais no cartão: 20% de juros"
   ]
  },
  {
   "cell_type": "code",
   "execution_count": null,
   "id": "066e1a5e",
   "metadata": {},
   "outputs": [],
   "source": [
    "# Solução"
   ]
  },
  {
   "cell_type": "markdown",
   "id": "cdde41c5",
   "metadata": {},
   "source": [
    "### Exercício 49 \n",
    "\n",
    "Crie um programa que leia o nome completo de uma pessoa e mostre: \n",
    "1. O nome com todas as letras maiusculas;\n",
    "2. O nome com todas as letras minusculas;\n",
    "3. Quantas letras ao todo (sem considerar espaços);\n",
    "4. Quantas letras tem o primeiro nome."
   ]
  },
  {
   "cell_type": "code",
   "execution_count": null,
   "id": "f3d7c62a",
   "metadata": {},
   "outputs": [],
   "source": [
    "# Solução\n",
    "nome_completo = input('Qual o seu nome? ')\n",
    "\n",
    "print(f'Seu nome com todas as letras maiusculas: {nome_completo.upper()}')\n",
    "print(f'Seu nome com todas as letras minusculas: {nome_completo.lower()}')\n",
    "nome_completo = nome_completo.split()\n",
    "print(f'Seu nome possui {len(nome_completo and \"\".join(nome_completo))} letras sem considerar espaços')\n",
    "print(f'Seu primeiro nome é {nome_completo[0]} e ele possui {len(nome_completo[0])} letras')"
   ]
  },
  {
   "cell_type": "markdown",
   "id": "8b6af1da",
   "metadata": {},
   "source": [
    "### Exercício 50\n",
    "Faça um programa que leia um número de 0 a 9999 e mostre na tela cada um dos dígitos separados. \n",
    "\n",
    "Exemplo:\n",
    "\n",
    "Digite um número: 1834  \n",
    "\n",
    "Unidade: 4\n",
    "\n",
    "Dezena: 3   \n",
    "\n",
    "Centena: 8\n",
    "\n",
    "Milhar: 1"
   ]
  },
  {
   "cell_type": "code",
   "execution_count": null,
   "id": "cb50aa41",
   "metadata": {},
   "outputs": [],
   "source": [
    "# Solução\n",
    "import random\n",
    "numero = str(random.randint(0, 9999))\n",
    "print(f'O número é {numero}')\n",
    "print (f\"\"\"A unidade desse número é {numero[-1]} \n",
    "A dezena desse número é {numero[2]}\n",
    "A centena desse número é {numero[1]}\n",
    "O milhar desse número é {numero[0]}\"\"\")"
   ]
  },
  {
   "cell_type": "markdown",
   "id": "bd7a7df1",
   "metadata": {},
   "source": [
    "### Exercício 51\n",
    "Crie um programa que leia o nome de uma cidade e diga se ela começa ou não com o nome \"Santo\"."
   ]
  },
  {
   "cell_type": "code",
   "execution_count": null,
   "id": "d9b20ac1",
   "metadata": {},
   "outputs": [],
   "source": [
    "# Solução\n",
    "cidade = input('Insira a sua cidade')\n",
    "cidade = cidade.strip().lower().split()\n",
    "cidade_santo = [\"Santo\", \"Lucas\"]\n",
    "if cidade [0] == (cidade_santo[0].lower()):\n",
    "    print ('Sua cidade começa com \"Santo\"')\n",
    "else:\n",
    "    print ('Sua cidade não começa com \"Santo\"')"
   ]
  },
  {
   "cell_type": "markdown",
   "id": "01f98928",
   "metadata": {},
   "source": [
    "### Exercício 52\n",
    "Crie um programa que leia o nome de uma pessoa e diga se ela tem \"Silva\" no nome."
   ]
  },
  {
   "cell_type": "code",
   "execution_count": null,
   "id": "4cf6a69e",
   "metadata": {},
   "outputs": [],
   "source": [
    "# Solução\n",
    "nome = input('Digite o seu nome completo: ')\n",
    "nome = nome.lower().strip()\n",
    "\n",
    "if \"silva\" in nome:\n",
    "    print('Seu nome tem Silva!')\n",
    "else:\n",
    "    print('Seu nome não tem Silva!')"
   ]
  },
  {
   "cell_type": "markdown",
   "id": "8802e925",
   "metadata": {},
   "source": [
    "### Exercício 53\n",
    "Faça um programa que leia uma frase pelo teclado e mostra:  \n",
    "1. Quantas vezes aparece a letra \"A\";\n",
    "2. Em que posição ela aparece a primeira vez;\n",
    "3. Em que posição ela aparece a última vez."
   ]
  },
  {
   "cell_type": "code",
   "execution_count": null,
   "id": "05afe0d0",
   "metadata": {},
   "outputs": [],
   "source": [
    "# Solução\n",
    "frase = input('Digite uma frase: ')\n",
    "frase = frase.strip().lower()\n",
    "print(f\"\"\"Sua frase é: {frase.capitalize()};\n",
    "A letra A aparece {frase.count('a')} vezes nesta frase; \n",
    "A letra A aparece pela primeira vez na posição {frase.find('a') + 1} da frase\"\"\")\n",
    "print (f'A letra A aparece pela última vez na posição {frase.rfind('a') + 1} da frase')"
   ]
  },
  {
   "cell_type": "markdown",
   "id": "677d338b",
   "metadata": {},
   "source": [
    "### Exercício 52\n",
    "Faça um programa que leia o nome completo de uma pessoa, mostrando em seguida o primeiro e o último nome separadamente.\n",
    "\n",
    "Ex. Ana Maria de Souza\n",
    "- Primeiro: Ana\n",
    "- Último: Souza\n"
   ]
  },
  {
   "cell_type": "code",
   "execution_count": null,
   "id": "d414f715",
   "metadata": {},
   "outputs": [],
   "source": [
    "# Solução\n",
    "nome_completo = input('Escreva seu nome completo: ').split()\n",
    "print(f'Seu primeiro nome é {nome_completo[0]} e seu último nome é {nome_completo[-1]}')"
   ]
  },
  {
   "cell_type": "markdown",
   "id": "0bd76dd6",
   "metadata": {},
   "source": [
    "### Exercicio 53\n",
    "Faça um programa que mostre na tela uma contagem regressiva para o estouro de fogos de artifício, indo de 10 até 0, com uma pausa de 1 segundo entre eles."
   ]
  },
  {
   "cell_type": "code",
   "execution_count": null,
   "id": "faf90041",
   "metadata": {},
   "outputs": [],
   "source": [
    "# Solução\n"
   ]
  },
  {
   "cell_type": "markdown",
   "id": "3893020d",
   "metadata": {},
   "source": [
    "### Exercicio 54\n",
    "Crie um programa que mostre na tela todos os números pares que estão no intervalo entre 1 e 50."
   ]
  },
  {
   "cell_type": "code",
   "execution_count": null,
   "id": "7c5b6676",
   "metadata": {},
   "outputs": [],
   "source": [
    "# Solução"
   ]
  },
  {
   "cell_type": "markdown",
   "id": "56f2d423",
   "metadata": {},
   "source": [
    "### Exercicio 55\n",
    "Faça um programa que calcule a soma de todos os numeros impares que são múltiplos de três e que se encontram no intervalo de 1 até 500."
   ]
  },
  {
   "cell_type": "code",
   "execution_count": null,
   "id": "9291040d",
   "metadata": {},
   "outputs": [],
   "source": [
    "# Solução"
   ]
  },
  {
   "cell_type": "markdown",
   "id": "19d23754",
   "metadata": {},
   "source": [
    "### Exercicio 56\n",
    "Faça o usuário escolher um número e mostre a tabuada desse número, indo de 1 a 10."
   ]
  },
  {
   "cell_type": "code",
   "execution_count": null,
   "id": "d9ff5fc1",
   "metadata": {},
   "outputs": [],
   "source": [
    "# Solução"
   ]
  },
  {
   "cell_type": "markdown",
   "id": "ef1f6b42",
   "metadata": {},
   "source": [
    "### Exercício 55\n",
    "Desenvolva um programa que leia seis numeros inteiros e mostre a soma apenas daqueles que forem pares. Se o valor digitado for ímpar, desconsidere-o."
   ]
  },
  {
   "cell_type": "markdown",
   "id": "aa948d68",
   "metadata": {},
   "source": [
    "### Exercício 56\n",
    "Faça um programa que leia um número inteiro e diga se ele é ou não um número primo. (divisível apenas por 1 e por ele mesmo)"
   ]
  },
  {
   "cell_type": "markdown",
   "id": "0d5ba7f5",
   "metadata": {},
   "source": [
    "### Exercicio 57 \n",
    "Crie um programa que leia uma frase qualquer e diga se ela é um palíndromo, desconsiderando os espaços.\n",
    "\n",
    "Exemplo: \"A sacada da casa\" é um palíndromo. \n"
   ]
  },
  {
   "cell_type": "markdown",
   "id": "2887b581",
   "metadata": {},
   "source": [
    "### Exercício 58\n",
    "Crie um programa que leia o ano de nascimento de sete pessoas. No final, mostre quantas pessoas ainda não atingiram a maioridade e quantas já são maiores."
   ]
  },
  {
   "cell_type": "markdown",
   "id": "b92c2cf9",
   "metadata": {},
   "source": [
    "### Exercicio 59\n",
    "Faça um programa que leia o peso de 5 pessoas. No final, mostre qual foi o maior e o menor peso lidos."
   ]
  },
  {
   "cell_type": "markdown",
   "id": "a6df4729",
   "metadata": {},
   "source": [
    "### Exercicio 60\n",
    "Desenvolva um programa que leia o nome, idade e sexo de 4 pessoas. No final do programa, mostre:\n",
    "- A média de idade do grupo;\n",
    "- Quantas mulheres tem menos de 20 anos;\n",
    "- Quantos homens têm mais de 18 anos.   "
   ]
  }
 ],
 "metadata": {
  "kernelspec": {
   "display_name": "base",
   "language": "python",
   "name": "python3"
  },
  "language_info": {
   "codemirror_mode": {
    "name": "ipython",
    "version": 3
   },
   "file_extension": ".py",
   "mimetype": "text/x-python",
   "name": "python",
   "nbconvert_exporter": "python",
   "pygments_lexer": "ipython3",
   "version": "3.13.5"
  }
 },
 "nbformat": 4,
 "nbformat_minor": 5
}
