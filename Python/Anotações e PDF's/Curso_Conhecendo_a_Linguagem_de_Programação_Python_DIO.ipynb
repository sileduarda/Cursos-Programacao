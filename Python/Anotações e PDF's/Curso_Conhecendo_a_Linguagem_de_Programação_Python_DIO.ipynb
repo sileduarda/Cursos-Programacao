{
 "cells": [
  {
   "cell_type": "markdown",
   "id": "87de8904237b6e4f",
   "metadata": {},
   "source": [
    "# Formação Python Fundamentals ~ DIO\n",
    "## 1. Conhecendo a Linguagem de Programação Python - Fundamentos\n",
    "\n",
    "### 1.2 Modo interativo\n",
    "Interpretador Python permite o usuário a executar comandos diretamente, linha por linha, e ver os resultados imediatamente. Isso é útil para testes rápidos, experimentação e aprendizado.\n",
    "Basta ir no terminal e digitar 'python'. Para sair basta escrever 'exit()' ou usar o atalho 'Ctrl + D'.\n",
    "Outra forma para acessar um arquivo especifico é usar o comando 'python nome_do_arquivo.py'.\n",
    "### 1.2.1 Função dir()\n",
    "A função dir() é usada para listar os atributos e métodos disponíveis para um objeto específico. Se nenhum objeto for fornecido, dir() retornará a lista de nomes no escopo atual.\n",
    "### Exemplo:"
   ]
  },
  {
   "cell_type": "code",
   "execution_count": null,
   "id": "2ad50b7ede9c822f",
   "metadata": {},
   "outputs": [],
   "source": [
    "dir()"
   ]
  },
  {
   "cell_type": "code",
   "execution_count": null,
   "id": "c5b51973c293fd90",
   "metadata": {},
   "outputs": [],
   "source": [
    "dir(100)"
   ]
  },
  {
   "cell_type": "markdown",
   "id": "b8618af40c57636b",
   "metadata": {},
   "source": [
    "### 1.2.2 Função help()\n",
    "A função help() é usada para exibir a documentação de um objeto, módulo, função ou classe. Ela fornece informações sobre como usar o objeto, seus métodos e atributos.\n",
    "### Exemplo:"
   ]
  },
  {
   "cell_type": "code",
   "execution_count": null,
   "id": "ed2dee52096539d4",
   "metadata": {},
   "outputs": [],
   "source": [
    "help(print)"
   ]
  },
  {
   "cell_type": "markdown",
   "id": "588cc03fc443a343",
   "metadata": {},
   "source": [
    "### 1.3 Variáveis e Constantes\n",
    "Se uma variável está definida com valor em maiusculo ela é uma constante."
   ]
  },
  {
   "cell_type": "code",
   "execution_count": null,
   "id": "676a0474b3069333",
   "metadata": {},
   "outputs": [],
   "source": [
    "nome, idade, país = \"Ana\", 30, \"Brasil\"\n",
    "PI = 3.14\n",
    "print(nome, idade, país)\n",
    "\n",
    "LIMITE_DE_VELOCIDADE = 80  # Constante\n",
    "print(LIMITE_DE_VELOCIDADE)\n",
    "\n",
    "limite_de_velocidade = 80  # Variável"
   ]
  },
  {
   "cell_type": "markdown",
   "id": "80f4d0ae50dd7f51",
   "metadata": {},
   "source": [
    "\n",
    "O python vai entender ambos como variáveis, mas por convenção, variáveis em maiúsculas são tratadas como constantes. Isso somente o programador pode garantir que o valor não será alterado. Se por ventura for alterado o python não vai reclamar."
   ]
  },
  {
   "cell_type": "markdown",
   "id": "4cfb646ec272d6b0",
   "metadata": {},
   "source": [
    "## 2. Tipos de Operadores\n",
    "### 2.1 Operadores de Atribuição\n",
    "Usados para atribuir valores a variáveis. Exemplos comuns incluem:\n",
    "- = : Atribuição simples.\n",
    "- += : Adição e atribuição.\n"
   ]
  },
  {
   "cell_type": "code",
   "execution_count": null,
   "id": "e39f0c1111cc2e0f",
   "metadata": {},
   "outputs": [],
   "source": [
    "# Operadores de Atribuição\n",
    "x = 10  # Atribuição simples\n",
    "x += 5  # Adição e atribuição (equivalente a x = x + 5)\n",
    "x -= 3  # Subtração e atribuição (equivalente a x = x - 3)\n",
    "x *= 2  # Multiplicação e atribuição (equivalente a x = x * 2)\n",
    "x /= 4  # Divisão e atribuição (equivalente a x = x / 4)\n",
    "print(x)"
   ]
  },
  {
   "cell_type": "markdown",
   "id": "6e7c5a4606918c7",
   "metadata": {},
   "source": [
    "### 2.2 Operadores Lógicos\n",
    "Utiliados em conjunto com os operadores de comparação para formar expressões lógicas mais complexas. Incluem:\n",
    "- and: Retorna True se todas as condições forem verdadeiras.\n",
    "- or: Retorna True se pelo menos uma das condições for verdadeira.\n",
    "- not: Inverte o valor lógico de uma condição.\n",
    "\n",
    "Se você possui varios blocos de comparação, você pode atribuir o resultado de cada bloco a uma variável e depois usar essas variáveis para fazer as comparações lógicas."
   ]
  },
  {
   "cell_type": "code",
   "execution_count": null,
   "id": "6eb67e905ab5940f",
   "metadata": {},
   "outputs": [],
   "source": [
    "# Operadores Lógicos\n",
    "saldo = 1000\n",
    "saque = 200\n",
    "limite = 100\n",
    "\n",
    "saldo >= saque and saque <= limite  # Verifica se o saldo é suficiente e o saque está dentro do limite\n",
    "print(f'Operador AND: {saldo >= saque and saque <= limite}')\n",
    "saldo >= saque or saque <= limite   # Verifica se o saldo é suficiente ou o saque está dentro do limite\n",
    "print(f'Operador OR: {saldo >= saque or saque <= limite}')\n",
    "\n",
    "# Utilizando parenteses para clareza\n",
    "print(f'Operador AND com parênteses: {(saldo >= saque) and (saque <= limite)}')\n",
    "print(f'Operador OR com parênteses: {(saldo >= saque) or (saque <= limite)}')\n",
    "\n",
    "# Atribuindo blocos de comparação a variáveis\n"
   ]
  },
  {
   "cell_type": "markdown",
   "id": "fc07a886ab3d22d6",
   "metadata": {},
   "source": [
    "### 🧠 Exercício – Operadores Lógicos e Atribuição de Blocos de Comparação\n",
    "\n",
    "Crie um programa em Python que:\n",
    "1. Solicite ao usuário dois números inteiros e armazene-os nas variáveis a e b.\n",
    "2. Crie três variáveis lógicas que guardem o resultado de comparações:\n",
    "* comparacao1 deve armazenar se a é maior que b;\n",
    "* comparacao2 deve armazenar se a é igual a b;\n",
    "* comparacao3 deve armazenar se a é diferente de b.\n",
    "3. Em seguida, crie uma variável chamada resultado_final que use operadores lógicos (and, or, not) para combinar as comparações e determinar:\n",
    "* se pelo menos uma das comparações é verdadeira e a for maior que zero.\n",
    "4. Por fim, exiba o valor de cada variável lógica (comparacao1, comparacao2, comparacao3 e resultado_final) na tela, com mensagens explicativas."
   ]
  },
  {
   "cell_type": "code",
   "execution_count": null,
   "id": "1a9ee11dd82f8e0b",
   "metadata": {},
   "outputs": [],
   "source": [
    "# Solução\n",
    "# Solicita ao usuário dois números inteiros\n",
    "a = int(input(\"Digite o primeiro número inteiro (a): \"))\n",
    "b = int (input(\"Digite o segundo número inteiro (b): \"))\n",
    "\n",
    "# Cria variáveis lógicas para as comparações\n",
    "comparacao1 = a > b\n",
    "comparacao2 = a == b\n",
    "comparacao3 = a != b\n",
    "\n",
    "# Cria a variável resultado_final usando operadores lógicos\n",
    "resultado_final = (comparacao1 or comparacao2 or comparacao3) and (a > 0)\n",
    "\n",
    "# Exibe os resultados\n",
    "print(f'Comparação 1 (a > b): {comparacao1}')\n",
    "print(f'Comparação 2 (a = b):{comparacao2}')\n",
    "print(f'Comparação 3 (a != b): {comparacao3}')\n",
    "print(f'Resultado Final: {resultado_final}')\n"
   ]
  },
  {
   "cell_type": "code",
   "execution_count": null,
   "id": "2ad07b3f6446daf6",
   "metadata": {},
   "outputs": [],
   "source": [
    "x = (22 - 10) * 3\n",
    "print(x)"
   ]
  },
  {
   "cell_type": "markdown",
   "id": "401094fd10ca1257",
   "metadata": {},
   "source": [
    "### 2.3 Operadores de Comparação\n",
    "Usados para comparar valores e retornar um valor booleano (True ou False). Exemplos incluem:\n",
    "- == : Igual a.\n",
    "- != : Diferente de.\n",
    "- |> : Maior que.\n",
    "- < : Menor que.\n",
    "- |>= : Maior ou igual a.\n"
   ]
  },
  {
   "cell_type": "code",
   "execution_count": null,
   "id": "34311fe8bdea48ef",
   "metadata": {},
   "outputs": [],
   "source": [
    "# Exemplo:\n",
    "saldo = 200\n",
    "saque = 200\n",
    "\n",
    "print(saldo == saque)\n",
    "print(saldo != saque)\n",
    "print(saldo > saque)\n",
    "print(saldo >= saque)\n",
    "print(saldo < saque)\n",
    "print(saldo <= saque)"
   ]
  },
  {
   "cell_type": "markdown",
   "id": "6412c5aaf5f04880",
   "metadata": {},
   "source": [
    "### 2.4 Operadores de Identidade\n",
    "Usados para comparar a identidade de dois objetos, ou seja, se eles são o mesmo objeto na memória. Incluem:\n",
    "- is: Retorna True se ambos os operandos referem-se ao mesmo objeto.\n",
    "- is not: Retorna True se ambos os operandos não referem-se ao mesmo objeto."
   ]
  },
  {
   "cell_type": "code",
   "execution_count": null,
   "id": "a23df11ccb2a7ded",
   "metadata": {},
   "outputs": [],
   "source": [
    "# Exemplo\n",
    "saldo = 1000\n",
    "limite = 200\n",
    "\n",
    "print(saldo is limite)\n",
    "print(saldo is not limite)"
   ]
  },
  {
   "cell_type": "markdown",
   "id": "8e0fffdc2d53ab91",
   "metadata": {},
   "source": [
    "### 2.5 Operadores de Associação\n",
    "Usados para verificar a presença de um valor em uma sequência (como listas, tuplas ou strings). Incluem:\n",
    "- in: Retorna True se o valor estiver presente na sequência.\n",
    "- not in: Retorna True se o valor não estiver presente na sequência."
   ]
  },
  {
   "cell_type": "code",
   "execution_count": null,
   "id": "876e541f37a1c70f",
   "metadata": {},
   "outputs": [],
   "source": [
    "# Exemplo\n",
    "frutas = [\"limao\", \"uva\"]\n",
    "curso = \"Curso de python\"\n",
    "\n",
    "print(\"laranja\" not in frutas)\n",
    "print(\"limao\" in frutas)\n",
    "print(\"Python\" in curso)\n",
    "print('Python' not in frutas)"
   ]
  },
  {
   "cell_type": "markdown",
   "id": "7d7848c1afa37e9f",
   "metadata": {
    "ExecuteTime": {
     "end_time": "2025-10-17T15:11:13.006861Z",
     "start_time": "2025-10-17T15:11:12.999833Z"
    }
   },
   "source": [
    "## 3. Estruturas condicionais e de repetição\n",
    "### 3.1 Indentação e blocos de código\n",
    "Em Python, a indentação é usada para definir blocos de código. Diferente de outras linguagens que usam chaves ou palavras-chave para delimitar blocos, Python utiliza a indentação para indicar quais linhas de código pertencem a um determinado bloco.\n"
   ]
  },
  {
   "cell_type": "code",
   "execution_count": null,
   "id": "288936859c94184",
   "metadata": {},
   "outputs": [],
   "source": [
    "# Exemplo\n",
    "def sacar(valor): # os dois pontos indicam o início do bloco de código da função\n",
    "    saldo = 500\n",
    "    valor = int(input(\"Que valor deseja sacar? \"))\n",
    "    if saldo >= valor:\n",
    "        print(\"Valor sacado!\")\n",
    "        print(\"Retire o seu dinheiro na boca do caixa.\") # esses dois prints estão dentro do bloco do if, aqui vai printar somente se a condição do if for verdadeira\n",
    "\n",
    "    print(\"Obrigado por ser nosso cliente, tenha um bom dia!\") # esse print está dentro do bloco da função sacar, mas fora do bloco do if, nesse caso vai printar sempre que a função for chamada, independente do resultado do if\n",
    "print (\"Olá! Seja bem-vindo ao nosso banco.\") # voltando ao nível anterior de indentação, encerramos o bloco da função sacar e esse print não faz parte dela\n",
    "\n",
    "# Outro exemplo\n",
    "def depositar(valor):\n",
    "    valor = int(input(\"Que valor deseja depositar? \"))\n",
    "    saldo = 500\n",
    "    saldo += valor\n",
    "    print(f'Seu saldo atual é de R${saldo: .2f}')\n",
    "\n",
    "sacar(1000)"
   ]
  },
  {
   "cell_type": "markdown",
   "id": "25156b0dbe768ecb",
   "metadata": {},
   "source": [
    "## 3.2 Estruturas condicionais\n",
    "### 3.2.1 if, elif, else\n",
    "As estruturas condicionais permitem que você execute diferentes blocos de código com base em condições específicas. As principais estruturas condicionais em Python são if, elif e else.\n"
   ]
  },
  {
   "cell_type": "code",
   "execution_count": null,
   "id": "5eed8afb2f532011",
   "metadata": {},
   "outputs": [],
   "source": [
    "MAIOR_IDADE = 18\n",
    "IDADE_ESPECIAL = 17\n",
    "\n",
    "idade = int(input(\"Informe sua idade: \"))\n",
    "\n",
    "if idade >= MAIOR_IDADE:\n",
    "    print(\"Maior de idade, pode tirar a CHN.\")\n",
    "\n",
    "if idade < MAIOR_IDADE:\n",
    "    print(\"Ainda não pode tirar a CNH.\")\n",
    "\n",
    "\n",
    "if idade >= MAIOR_IDADE:\n",
    "    print(\"Maior de idade, pode tirar a CHN.\")\n",
    "else:\n",
    "    print(\"Ainda não pode tirar a CNH.\")\n",
    "\n",
    "\n",
    "if idade >= MAIOR_IDADE:\n",
    "    print(\"Maior de idade, pode tirar a CHN.\")\n",
    "elif idade == IDADE_ESPECIAL:\n",
    "    print(\"Pode fazer aulas teóricas, mas não pode fazer aulas práticas.\")\n",
    "else:\n",
    "    print(\"Ainda não pode tirar a CNH.\")"
   ]
  },
  {
   "cell_type": "markdown",
   "id": "3ba7486e2abc11d6",
   "metadata": {},
   "source": [
    "### 3.2.2 Estrutura condicional aninhada\n",
    "Estruturas condicionais aninhadas são aquelas onde uma estrutura condicional está dentro de outra. Isso permite criar decisões mais complexas com múltiplos níveis de verificação."
   ]
  },
  {
   "cell_type": "code",
   "execution_count": null,
   "id": "e3b24d519341234f",
   "metadata": {},
   "outputs": [],
   "source": [
    "conta_normal = False\n",
    "conta_universitaria = False\n",
    "conta_especial = True\n",
    "\n",
    "saldo = 2000\n",
    "saque = 1500\n",
    "cheque_especial = 450\n",
    "\n",
    "if conta_normal:\n",
    "\n",
    "    if saldo >= saque:\n",
    "        print(\"Saque realizado com sucesso!\")\n",
    "    elif saque <= (saldo + cheque_especial):\n",
    "        print(\"Saque realizado com uso do cheque especial!\")\n",
    "    else:\n",
    "        print(\"Não foi possivel realizar o saque, saldo insuficiente!\")\n",
    "\n",
    "elif conta_universitaria:\n",
    "\n",
    "    if saldo >= saque:\n",
    "        print(\"Saque realizado com sucesso!\")\n",
    "    else:\n",
    "        print(\"Saldo insuficiente!\")\n",
    "\n",
    "elif conta_especial:\n",
    "    print(\"Conta especial selecionada!\")\n",
    "\n",
    "else:\n",
    "    print(\"Sistema não reconheceu seu tipo de conta, entre em contato com o seu gerente.\")"
   ]
  },
  {
   "cell_type": "markdown",
   "id": "25206fd33f686ed5",
   "metadata": {},
   "source": [
    "### 3.2.3 Estrutura condicional ternária\n",
    "A estrutura condicional ternária é uma forma concisa de escrever uma declaração if-else em uma única linha. Ela é útil para atribuir valores a variáveis com base em uma condição."
   ]
  },
  {
   "cell_type": "code",
   "execution_count": null,
   "id": "78a0982039c4fb4f",
   "metadata": {},
   "outputs": [],
   "source": [
    "saldo = 2000\n",
    "saque = 2500\n",
    "\n",
    "status = \"Sucesso\" if saldo >= saque else \"Falha\"\n",
    "\n",
    "print(f\"{status} ao realizar o saque!\")"
   ]
  },
  {
   "cell_type": "markdown",
   "id": "fa60353e9ab51e",
   "metadata": {},
   "source": [
    "## 3.3 Estruturas de repetição\n",
    "As estruturas de repetição permitem executar um bloco de código várias vezes, com base em uma condição ou um número específico de iterações. As principais estruturas de repetição em Python são for e while.\n",
    "\n",
    "### 3.3.1 for\n",
    "A estrutura de repetição for é usada para iterar sobre uma sequência (como listas, tuplas, strings) ou outros objetos iteráveis. Ela executa um bloco de código para cada item na sequência. Faz sentido usar quando sabemos o número exato de vezes que nosso bloco de código deve ser executdo, ou quando queremos percorrer um objeto iterável.\n",
    "\n"
   ]
  },
  {
   "cell_type": "code",
   "execution_count": null,
   "id": "5412127d0c306ac4",
   "metadata": {},
   "outputs": [],
   "source": [
    "# Exemplo utilizando repetição \n",
    "# Receba um número do teclado e exiba os 2 números seguintes \n",
    "a = int(input('Informe um número inteiro: '))\n",
    "print(a)\n",
    "\n",
    "# pseudocódigo\n",
    "# repita 2 vezes:\n",
    "    # a+= 1 \n",
    "    # print (a)"
   ]
  },
  {
   "cell_type": "code",
   "execution_count": null,
   "id": "1511a1cd",
   "metadata": {},
   "outputs": [],
   "source": [
    "# O for utiliza duas estruturas primeira parte qual objeto iterado eu quero percorrer, a segunda parte é o bloco de código que eu quero executar para cada elemento desse objeto iterado.\n",
    "\n",
    "texto = input('Informe um texto:   ')\n",
    "VOGAIS = 'AEIOU'\n",
    "\n",
    "for letra in texto: \n",
    "    if letra.upper() in VOGAIS:\n",
    "        print (letra, end = \"\")\n",
    "else: \n",
    "    print('Não tem vogais')\n"
   ]
  },
  {
   "cell_type": "code",
   "execution_count": null,
   "id": "d72444f9",
   "metadata": {},
   "outputs": [],
   "source": [
    "clientes = [\n",
    "    ('Ana', 'xxx', 'xxx@email.com'), \n",
    "    ('João', 'yyy', 'yyy@email.com'),\n",
    "    ('Duda', 'zzz', 'zzz@email.com')\n",
    "]\n",
    "\n",
    "# for cliente in clientes:\n",
    "    # nome = cliente[0]\n",
    "    # cpf = cliente[1]\n",
    "    # email = cliente [2]\n",
    "    # print (f'Cliente: {nome}\\n CPF: {cpf}\\n Email: {email}\\n\\n')\n",
    "\n",
    "# Uma outra forma de utilizar também é assim \n",
    "# for cliente in clientes:\n",
    "    # nome, cpf, email = cliente\n",
    "    # print (f'Cliente: {nome}\\n CPF: {cpf}\\n Email: {email}\\n\\n') \n",
    "\n",
    "# Uma outra forma de utilizar também é assim: \n",
    "for nome, cpf, email in clientes:\n",
    "    print (f'Cliente: {nome}\\n CPF: {cpf}\\n Email: {email}\\n\\n')"
   ]
  },
  {
   "cell_type": "markdown",
   "id": "594a309b",
   "metadata": {},
   "source": [
    "### A função range()\n",
    "A função range gera uma sequência de números, que é comumente usada em loops **for**. Ela pode r\n",
    "* start (início);\n",
    "* stop (fim);\n",
    "* step (pulo). \n",
    "\n",
    "Se apenas um argumento for fornecido, ele é considerado como stop, e start é assumido como 0. \\\n",
    "Se dois argumentos forem fornecidos, o primeiro é start e o segundo é stop. \\\n",
    "Se três argumentos forem fornecidos, o terceiro é step, que determina o incremento da sequência."
   ]
  },
  {
   "cell_type": "code",
   "execution_count": null,
   "id": "b2e1d9c2",
   "metadata": {},
   "outputs": [],
   "source": [
    "# range (stop) -> range object\n",
    "# range(start, stop [, step]) -> range object\n",
    "# primeiro numero do range é o que começa, segundo é o que para e terceiro é o pulo\n",
    "print (f' Essa é a lista {list(range(0,10,2))}')\n",
    "\n",
    "# exibindo a tabuado do 5\n",
    "\n",
    "for numero in range(0, 51, 5):\n",
    "    print(numero, end = '')"
   ]
  },
  {
   "cell_type": "code",
   "execution_count": null,
   "id": "e1eac836",
   "metadata": {},
   "outputs": [],
   "source": [
    "for numero in range(100):\n",
    "\n",
    "    if numero == 10:\n",
    "        break\n",
    "    print (numero, end= \"\")"
   ]
  },
  {
   "cell_type": "code",
   "execution_count": null,
   "id": "16744638",
   "metadata": {},
   "outputs": [],
   "source": [
    "for numero in range(100):\n",
    "\n",
    "    if numero % 2 == 0:\n",
    "        continue\n",
    "    print (numero, end= \"\")"
   ]
  },
  {
   "cell_type": "markdown",
   "id": "5b9ee5eb",
   "metadata": {},
   "source": [
    "### 3.3.2 while\n",
    "A estrutura de repetição while executa um bloco de código enquanto uma condição for verdadeira. É útil quando o número de iterações não é conhecido previamente.    "
   ]
  },
  {
   "cell_type": "code",
   "execution_count": null,
   "id": "49e10bd8",
   "metadata": {},
   "outputs": [],
   "source": [
    "opcao = -1 \n",
    "while opcao != 0: \n",
    "    opcao = int(input(\"[1] Sacar \\n[2] Extrato \\n[0] Sair \\n\"))\n",
    "    \n",
    "    if opcao == 1: \n",
    "        print('Sacando ....')\n",
    "    elif opcao == 2: \n",
    "        print ('Exibindo o extrato...')\n",
    "else: \n",
    "    print ('Obrigada por utilizar nosso banco')"
   ]
  },
  {
   "cell_type": "code",
   "execution_count": null,
   "id": "30ecc34b",
   "metadata": {},
   "outputs": [],
   "source": [
    "while True: \n",
    "    numero = int(input('Informe um número'))\n",
    "\n",
    "    if numero == 10:\n",
    "        break\n",
    "    print (numero)"
   ]
  },
  {
   "cell_type": "code",
   "execution_count": null,
   "id": "4d4a4bbf",
   "metadata": {},
   "outputs": [],
   "source": [
    "n = 0 \n",
    "while n < 10:\n",
    "    print(f'O valor de n é: {n}')\n",
    "    n += 1"
   ]
  },
  {
   "cell_type": "code",
   "execution_count": null,
   "id": "9d4be8d5",
   "metadata": {},
   "outputs": [],
   "source": [
    "while True: \n",
    "    opt = input('Escolha uma opção (1,2) | (\"q\" para sair): ')\n",
    "    if opt == 'q':\n",
    "        break\n",
    "    elif opt != '1' and opt != '2':\n",
    "        print('Opção invalida!')\n",
    "        continue\n",
    "    print (f' Opção seleciona: {opt}')\n",
    "print ('Programa finalizado')\n"
   ]
  },
  {
   "cell_type": "markdown",
   "id": "9c0a1318",
   "metadata": {},
   "source": [
    "## 3.4 Manipulando Strings com Python\n",
    "Strings em Python são sequências imutáveis de caracteres usadas para armazenar e manipular texto. Elas podem ser definidas usando aspas simples (' '), aspas duplas (\" \") ou aspas triplas (''' ''' ou \"\"\" \"\"\") para strings multilinha.    "
   ]
  },
  {
   "cell_type": "markdown",
   "id": "7c9e10ca",
   "metadata": {},
   "source": [
    "### 3.4.1 Métodos comuns de strings\n",
    "Aqui estão alguns métodos comuns para manipular strings em Python:"
   ]
  },
  {
   "cell_type": "code",
   "execution_count": null,
   "id": "8b8dcf35",
   "metadata": {},
   "outputs": [],
   "source": [
    "nome = \"gUIlherME\"\n",
    "\n",
    "print(nome.upper())\n",
    "print(nome.lower())\n",
    "print(nome.title())\n",
    "\n",
    "texto = \"  Olá mundo!    \"\n",
    "\n",
    "print(texto + \".\")\n",
    "print(texto.strip() + \".\")\n",
    "print(texto.rstrip() + \".\")\n",
    "print(texto.lstrip() + \".\")\n",
    "\n",
    "menu = \"Python\"\n",
    "\n",
    "print(\"####\" + menu + \"####\")\n",
    "print(menu.center(14))\n",
    "print(menu.center(14, \"#\"))\n",
    "print(\"-\".join(menu))"
   ]
  },
  {
   "cell_type": "markdown",
   "id": "f8721766",
   "metadata": {},
   "source": [
    "### 3.4.2 Interpolação de strings\n",
    "A interpolação de strings em Python permite inserir valores de variáveis dentro de uma string de forma dinâmica. Existem várias maneiras de fazer isso, incluindo o uso de f-strings (disponível a partir do Python 3.6), o método format() e a concatenação simples."
   ]
  },
  {
   "cell_type": "code",
   "execution_count": null,
   "id": "0080c172",
   "metadata": {},
   "outputs": [],
   "source": [
    "nome = \"Guilherme\"\n",
    "idade = 28\n",
    "profissao = \"Progamador\"\n",
    "linguagem = \"Python\"\n",
    "saldo = 45.435\n",
    "\n",
    "dados = {\"nome\": \"Guilherme\", \"idade\": 28}\n",
    "\n",
    "print(\"Nome: %s Idade: %d\" % (nome, idade))\n",
    "\n",
    "print(\"Nome: {} Idade: {}\".format(nome, idade))\n",
    "\n",
    "print(\"Nome: {1} Idade: {0}\".format(idade, nome))\n",
    "print(\"Nome: {1} Idade: {0} Nome: {1} {1}\".format(idade, nome))\n",
    "\n",
    "print(\"Nome: {nome} Idade: {idade}\".format(nome=nome, idade=idade))\n",
    "print(\"Nome: {name} Idade: {age} {name} {name} {age}\".format(age=idade, name=nome))\n",
    "print(\"Nome: {nome} Idade: {idade}\".format(**dados))\n",
    "\n",
    "print(f\"Nome: {nome} Idade: {idade}\")\n",
    "print(f\"Nome: {nome} Idade: {idade} Saldo: {saldo:.2f}\")\n",
    "print(f\"Nome: {nome} Idade: {idade} Saldo: {saldo:10.1f}\")"
   ]
  },
  {
   "cell_type": "markdown",
   "id": "3a7cef0b",
   "metadata": {},
   "source": [
    "### 3.4.3 Fatiamento de strings\n",
    "O fatiamento de strings em Python permite extrair uma substring de uma string maior, especificando índices de início e fim. A sintaxe básica para fatiamento é: `string[início:fim:passo]`, onde:\n",
    "- início: índice inicial (inclusivo).\n",
    "- fim: índice final (exclusivo).\n",
    "- passo: (opcional) define o intervalo entre os índices. O valor padrão é 1.    "
   ]
  },
  {
   "cell_type": "code",
   "execution_count": null,
   "id": "a709d657",
   "metadata": {},
   "outputs": [],
   "source": [
    "nome = \"Guilherme Arthur de Carvalho\"\n",
    "\n",
    "print(nome[0])\n",
    "print(nome[-2])\n",
    "print(nome[:9])\n",
    "print(nome[10:])\n",
    "print(nome[10:16])\n",
    "print(nome[10:16:2])\n",
    "print(nome[:])\n",
    "print(nome[::-1])"
   ]
  },
  {
   "cell_type": "markdown",
   "id": "139feca2",
   "metadata": {},
   "source": [
    "### 3.4.4 Strings Multilinha\n",
    "Strings multilinha em Python são definidas usando aspas triplas (''' ''' ou \"\"\" \"\"\"). Elas permitem que você crie strings que se estendem por várias linhas, preservando quebras de linha e espaços em branco."
   ]
  },
  {
   "cell_type": "code",
   "execution_count": null,
   "id": "477bd418",
   "metadata": {},
   "outputs": [],
   "source": [
    "nome = \"Guilherme\"\n",
    "\n",
    "mensagem = f\"\"\"\n",
    "   Olá meu nome é {nome},\n",
    " Eu estou aprendendo Python.\n",
    "     Essa mensagem tem diferentes recuos.\n",
    "\"\"\"\n",
    "\n",
    "print(mensagem)\n",
    "\n",
    "\n",
    "print(\n",
    "    \"\"\"\n",
    "    ============= MENU =============\n",
    "\n",
    "    1 - Depositar\n",
    "    2 - Sacar\n",
    "    0 - Sair\n",
    "\n",
    "    ================================\n",
    "\n",
    "            Obrigado por usar nosso sistema!!!!\n",
    "\"\"\"\n",
    ")"
   ]
  },
  {
   "cell_type": "markdown",
   "id": "6f0b22c4",
   "metadata": {},
   "source": [
    "## 4. Trabalhando com Listas em Python\n",
    "Listas em Python são coleções ordenadas e mutáveis de itens, que podem conter elementos de diferentes tipos de dados, como números, strings.\n",
    "\n",
    "### 4.1 Criando listas\n",
    "Você pode criar uma lista simplesmente colocando os itens entre colchetes, separados por vírgulas. Aqui estão alguns exemplos de como criar listas em Python:\n",
    "\n",
    "```python\n",
    "# Lista vazia\n",
    "minha_lista_vazia = []\n",
    "# Lista com elementos\n",
    "minha_lista = [1, 2, 3, 'quatro', 'cinco']\n",
    "# Lista com diferentes tipos de dados   \n",
    "minha_lista_mista = [1, 'dois', 3.0, True, [5, 6]]\n"
   ]
  },
  {
   "cell_type": "code",
   "execution_count": null,
   "id": "570d575a",
   "metadata": {},
   "outputs": [],
   "source": [
    "# Declarando listas\n",
    "frutas = [\"laranja\", \"maca\", \"uva\"]\n",
    "print(frutas)\n",
    "\n",
    "frutas = []\n",
    "print(frutas)\n",
    "\n",
    "letras = list(\"python\") # pede um argumento iterável\n",
    "print(letras)\n",
    "\n",
    "numeros = list(range(10))\n",
    "print(numeros)\n",
    "\n",
    "carro = [\"Ferrari\", \"F8\", 4200000, 2020, 2900, \"São Paulo\", True]\n",
    "print(carro)\n"
   ]
  },
  {
   "cell_type": "code",
   "execution_count": null,
   "id": "5fa5ffd0",
   "metadata": {},
   "outputs": [],
   "source": [
    "# Acesso direto\n",
    "# Pegar o primeiro elemento sempre será com 0\n",
    "frutas = [\"maçã\", \"laranja\", \"uva\", \"pera\"]\n",
    "\n",
    "print(frutas[0])  # maçã\n",
    "print(frutas[2])  # uva"
   ]
  },
  {
   "cell_type": "code",
   "execution_count": null,
   "id": "b7bce577",
   "metadata": {},
   "outputs": [],
   "source": [
    "# Indices Negativos\n",
    "# Para pegar o último elemento posso usar -1 \n",
    "frutas = [\"maçã\", \"laranja\", \"uva\", \"pera\"]\n",
    "\n",
    "print(frutas[-1])  # pera\n",
    "print(frutas[-3])  # laranja"
   ]
  },
  {
   "cell_type": "code",
   "execution_count": null,
   "id": "d18d3b61",
   "metadata": {},
   "outputs": [],
   "source": [
    "# Matriz (Lista aninhada)\n",
    "matriz = [\n",
    "    [1, \"a\", 2],\n",
    "    [\"b\", 3, 4],\n",
    "    [6, 5, \"c\"]\n",
    "]\n",
    "# para pegar elemento, fornece a linha e a coluna \n",
    "print(matriz[0])  # [1, \"a\", 2]\n",
    "print(matriz[0][0])  # 1\n",
    "print(matriz[0][-1])  # 2\n",
    "print(matriz[-1][-1])  # \"c\""
   ]
  },
  {
   "cell_type": "code",
   "execution_count": null,
   "id": "52dcaa1c",
   "metadata": {},
   "outputs": [],
   "source": [
    "# Fatiamento\n",
    "lista = [\"p\", \"y\", \"t\", \"h\", \"o\", \"n\"]\n",
    "\n",
    "print(lista[2:])  # [\"t\", \"h\", \"o\", \"n\"]\n",
    "print(lista[:2])  # [\"p\", \"y\"]\n",
    "print(lista[1:3])  # [\"y\", \"t\"]\n",
    "print(lista[0:3:2])  # [\"p\", \"t\"]\n",
    "print(lista[::])  # [\"p\", \"y\", \"t\", \"h\", \"o\", \"n\"]\n",
    "print(lista[::-1])  # [\"n\", \"o\", \"h\", \"t\", \"y\", \"p\"]\n",
    "print(lista[0:2])\n",
    "print(len(lista))"
   ]
  },
  {
   "cell_type": "markdown",
   "id": "f59bee2c",
   "metadata": {},
   "source": [
    "### Iteração em listas\n",
    "Você pode iterar sobre os elementos de uma lista usando um loop for. Aqui está um exemplo:\n"
   ]
  },
  {
   "cell_type": "code",
   "execution_count": null,
   "id": "b866bb9f",
   "metadata": {},
   "outputs": [],
   "source": [
    "# Iterar Listas\n",
    "carros = [\"gol\", \"celta\", \"palio\"]\n",
    "\n",
    "for carro in carros:\n",
    "    print(carro)\n",
    "\n",
    "\n",
    "for indice, carro in enumerate(carros): #enumerate aparece dois valores a posição e o item\n",
    "    print(f\"{indice}: {carro}\")"
   ]
  },
  {
   "cell_type": "code",
   "execution_count": null,
   "id": "38532a70",
   "metadata": {},
   "outputs": [],
   "source": [
    "# Compreensão de Listas - usada quando queremos criar uma lista nova baseada em uma lista existente\n",
    "\n",
    "# Filtrar lista\n",
    "numeros = [1, 30, 21, 2, 9, 65, 34]\n",
    "pares = [numero for numero in numeros if numero % 2 == 0]\n",
    "print(pares)\n",
    "\n",
    "# Modificar valores\n",
    "numeros = [1, 30, 21, 2, 9, 65, 34]\n",
    "quadrado = [numero**2 for numero in numeros]\n",
    "print(quadrado)"
   ]
  },
  {
   "cell_type": "code",
   "execution_count": null,
   "id": "324f6998",
   "metadata": {},
   "outputs": [],
   "source": [
    "# Append\n",
    "lista = []\n",
    "\n",
    "lista.append(1)\n",
    "lista.append(\"Python\")\n",
    "lista.append([40, 30, 20])\n",
    "\n",
    "print(lista)  # [1, \"Python\", [40, 30, 20]]"
   ]
  },
  {
   "cell_type": "code",
   "execution_count": null,
   "id": "c2f544b6",
   "metadata": {},
   "outputs": [],
   "source": [
    "lista = []\n",
    "print(lista)\n",
    "lista.append(10)\n",
    "lista.append(\"append\")\n",
    "lista.append([1,2,3,4])\n",
    "lista.append((1,2,3,4,5))\n",
    "print(lista)\n",
    "lista.clear()\n",
    "print(lista)"
   ]
  },
  {
   "cell_type": "code",
   "execution_count": null,
   "id": "288e9982",
   "metadata": {},
   "outputs": [],
   "source": [
    "# Clear \n",
    "lista = [1, \"Python\", [40, 30, 20]] \n",
    "print(lista)\n",
    "lista.clear()\n",
    "print(lista)  # []\n"
   ]
  },
  {
   "cell_type": "code",
   "execution_count": null,
   "id": "0251b9a7",
   "metadata": {},
   "outputs": [],
   "source": [
    "# Copy\n",
    "lista = [1, \"Python\", [40, 30, 20]]\n",
    "nova_lista = lista.copy()   # retorna uma cópia da lista porém com instância diferente\n",
    "#ou \n",
    "nova_lista = lista[:]  # retorna uma cópia da lista porém com instância diferente da mesma forma que a de cima"
   ]
  },
  {
   "cell_type": "code",
   "execution_count": null,
   "id": "aa60adc2",
   "metadata": {},
   "outputs": [],
   "source": [
    "lista = ['a', 'b', 'c', 40, ['juliana']]\n",
    "print(lista)\n",
    "nova_lista = lista \n",
    "print(nova_lista)\n",
    "nova_lista.append(24)\n",
    "print(nova_lista) #\n",
    "print(lista) # aqui mesmo não sendo a mesma instância, a lista interna é a mesma, por isso o valor 24 aparece nas duas listas se eu quero uma cópia independente eu uso o método copy ou o fatiamento como mostrado acima\n",
    "nova_lista = lista[:] #ou \n",
    "nova_lista = lista.copy()\n",
    "print(nova_lista)\n",
    "nova_lista.append(55)\n",
    "print(nova_lista)\n",
    "print(lista)"
   ]
  },
  {
   "cell_type": "code",
   "execution_count": null,
   "id": "b9c05900",
   "metadata": {},
   "outputs": [],
   "source": [
    "# Count usado para saber quantas vezes um determinado elemento aparece na lista\n",
    "cores = [\"vermelho\", \"azul\", \"verde\", \"azul\"]\n",
    "\n",
    "print(cores.count(\"vermelho\"))  # 1\n",
    "print(cores.count(\"azul\"))  # 2\n",
    "print(cores.count(\"verde\"))  # 1"
   ]
  },
  {
   "cell_type": "code",
   "execution_count": null,
   "id": "a3faea50",
   "metadata": {},
   "outputs": [],
   "source": [
    "numeros = [1, 2, 3, 4, 5, 1, 2, 1, 1]\n",
    "print(f'Nessa lista existem {numeros.count(1)} números \"1\" ')\n",
    "print(f'Nessa lista existem {numeros.count(3)} números \"3\" ')\n",
    "print(f'Nessa lista existem {numeros.count(0)} números \"0\" ')"
   ]
  },
  {
   "cell_type": "code",
   "execution_count": null,
   "id": "5989376e",
   "metadata": {},
   "outputs": [],
   "source": [
    "# Extend  - usado para adicionar vários elementos em uma lista de uma só vez\n",
    "linguagens = [\"python\", \"js\", \"c\"]\n",
    "\n",
    "print(linguagens)  # [\"python\", \"js\", \"c\"]\n",
    "\n",
    "linguagens.extend([\"java\", \"csharp\"])\n",
    "\n",
    "print(linguagens)  # [\"python\", \"js\", \"c\", \"java\", \"csharp\"]"
   ]
  },
  {
   "cell_type": "code",
   "execution_count": null,
   "id": "699fdbb3",
   "metadata": {},
   "outputs": [],
   "source": [
    "alunos = [\"Ana\", \"Bia\", \"Carlos\"]\n",
    "print(alunos)\n",
    "alunos.extend([\"Diana\", \"Eduardo\", \"Fabio\"])\n",
    "print(alunos)\n",
    "print(f'Nessa sala tem {len(alunos)} alunos.')"
   ]
  },
  {
   "cell_type": "code",
   "execution_count": null,
   "id": "60ea13ad",
   "metadata": {},
   "outputs": [],
   "source": [
    "# Index - retorna o índice do primeiro elemento encontrado, pode ser útil quando eu quero saber a posição de um elemento na lista\n",
    "cores = [\"vermelho\", \"azul\", \"verde\", \"azul\"]   \n",
    "print(cores.index(\"verde\"))  # 2\n",
    "print(cores.index(\"azul\"))  # 1 (retorna o índice do primeiro"
   ]
  },
  {
   "cell_type": "code",
   "execution_count": null,
   "id": "f50c91fb",
   "metadata": {},
   "outputs": [],
   "source": [
    "numeros = [1, 2, 3, 4, 5, 1, 2, 1, 1]\n",
    "print(numeros.index(4))\n",
    "print(numeros.index(3))\n",
    "\n",
    "linguagens = [\"python\", \"js\", \"c\", \"java\", \"csharp\"]\n",
    "print(linguagens.index(\"java\"))  # 3"
   ]
  },
  {
   "cell_type": "code",
   "execution_count": null,
   "id": "fd35321f",
   "metadata": {},
   "outputs": [],
   "source": [
    "# Pop - remove e retorna um elemento da lista pelo índice (padrão é o último)\n",
    "linguagens = [\"python\", \"js\", \"c\", \"java\", \"csharp\"]\n",
    "\n",
    "print(linguagens.pop())  # csharp\n",
    "print(linguagens.pop())  # java\n",
    "print(linguagens.pop())  # c\n",
    "print(linguagens.pop(0))  # python"
   ]
  },
  {
   "cell_type": "code",
   "execution_count": null,
   "id": "65cad0a5",
   "metadata": {},
   "outputs": [],
   "source": [
    "# Remove - remove o primeiro elemento encontrado na lista que seja igual ao valor passado como parâmetro\n",
    "linguagens = [\"python\", \"js\", \"c\", \"java\", \"csharp\"]\n",
    "\n",
    "linguagens.remove(\"c\")\n",
    "\n",
    "print(linguagens)  # [\"python\", \"js\", \"java\", \"csharp\"]"
   ]
  },
  {
   "cell_type": "code",
   "execution_count": null,
   "id": "4640ee82",
   "metadata": {},
   "outputs": [],
   "source": [
    "# Reverse - inverte os elementos da lista\n",
    "linguagens = [\"python\", \"js\", \"c\", \"java\", \"csharp\"]\n",
    "\n",
    "linguagens.reverse()\n",
    "\n",
    "print(linguagens)  # [\"csharp\", \"java\", \"c\", \"js\", \"python\"]"
   ]
  },
  {
   "cell_type": "code",
   "execution_count": null,
   "id": "3de1a450",
   "metadata": {},
   "outputs": [],
   "source": [
    "# Sort - ordena os elementos da lista\n",
    "linguagens = [\"python\", \"js\", \"c\", \"java\", \"csharp\"]\n",
    "linguagens.sort()  # [\"c\", \"csharp\", \"java\", \"js\", \"python\"]\n",
    "print(linguagens)\n",
    "\n",
    "linguagens = [\"python\", \"js\", \"c\", \"java\", \"csharp\"]\n",
    "linguagens.sort(reverse=True)  # [\"python\", \"js\", \"java\", \"csharp\", \"c\"]\n",
    "print(linguagens)\n",
    "\n",
    "linguagens = [\"python\", \"js\", \"c\", \"java\", \"csharp\"]\n",
    "linguagens.sort(key=lambda x: len(x))  # [\"c\", \"js\", \"java\", \"python\", \"csharp\"] # do menor para o maior\n",
    "print(linguagens)\n",
    "\n",
    "linguagens = [\"python\", \"js\", \"c\", \"java\", \"csharp\"]\n",
    "linguagens.sort(key=lambda x: len(x), reverse=True)  # [\"python\", \"csharp\", \"java\", \"js\", \"c\"] # do maior para o menor\n",
    "print(linguagens)"
   ]
  },
  {
   "cell_type": "code",
   "execution_count": null,
   "id": "8cfa8cb7",
   "metadata": {},
   "outputs": [],
   "source": [
    "# Len - retorna o tamanho da lista\n",
    "linguagens = [\"python\", \"js\", \"c\", \"java\", \"csharp\"]\n",
    "\n",
    "print(len(linguagens))  # 5"
   ]
  },
  {
   "cell_type": "code",
   "execution_count": null,
   "id": "9cc9b268",
   "metadata": {},
   "outputs": [],
   "source": [
    "carros = ('gol')\n",
    "print(isinstance(carros,tuple))"
   ]
  },
  {
   "cell_type": "markdown",
   "id": "4fe36c7d",
   "metadata": {},
   "source": [
    "## Dicionários em Python \n",
    "Dicionários em Python são coleções não ordenadas de pares chave-valor. Eles são mutáveis, o que significa que você pode alterar, adicionar ou remover itens após a criação do dicionário. As chaves devem ser únicas e imutáveis (como strings, números ou tuplas), enquanto os valores podem ser de qualquer tipo de dado.\n",
    "\n",
    "### Dicionários Aninhados\n",
    "Dicionários aninhados são dicionários que contêm outros dicionários como valores. Isso permite criar estruturas de dados mais complexas e hierárquicas. Aqui está um exemplo de um dicionário aninhado:\n",
    "```python\n",
    "meu_dicionario_aninhado = {\n",
    "    'pessoa1': {\n",
    "        'nome': 'Alice',\n",
    "        'idade': 30,\n",
    "        'cidade': 'São Paulo'\n",
    "    },\n",
    "    'pessoa2': {\n",
    "        'nome': 'Bob',\n",
    "        'idade': 25,\n",
    "        'cidade': 'Rio de Janeiro'\n",
    "    }\n",
    "}\n",
    "```"
   ]
  },
  {
   "cell_type": "code",
   "execution_count": null,
   "id": "4c41b3fb",
   "metadata": {},
   "outputs": [],
   "source": [
    "# Declarando dicionários \n",
    "pessoa = {\"nome\": \"Guilherme\", \"idade\": 28}\n",
    "print(pessoa)\n",
    "\n",
    "pessoa = dict(nome=\"Guilherme\", idade=28)\n",
    "print(pessoa)\n",
    "\n",
    "pessoa[\"telefone\"] = \"3333-1234\"  # {\"nome\": \"Guilherme\", \"idade\": 28, \"telefone\": \"3333-1234\"}\n",
    "print(pessoa)"
   ]
  },
  {
   "cell_type": "code",
   "execution_count": null,
   "id": "17348058",
   "metadata": {},
   "outputs": [],
   "source": [
    "# Acessando dados\n",
    "dados = {\"nome\": \"Guilherme\", \"idade\": 28, \"telefone\": \"3333-1234\"}\n",
    "\n",
    "print(dados[\"nome\"])  # \"Guilherme\"\n",
    "print(dados[\"idade\"])  # 28\n",
    "print(dados[\"telefone\"])  # \"3333-1234\"\n",
    "\n",
    "dados[\"nome\"] = \"Maria\"\n",
    "dados[\"idade\"] = 18\n",
    "dados[\"telefone\"] = \"9988-1781\"\n",
    "\n",
    "print(dados)  # {\"nome\": \"Maria\", \"idade\": 18, \"telefone\": \"9988-1781\"}"
   ]
  },
  {
   "cell_type": "code",
   "execution_count": null,
   "id": "fad54010",
   "metadata": {},
   "outputs": [],
   "source": [
    "# Dicionários Aninhados \n",
    "contatos = {\n",
    "    \"guilherme@gmail.com\": {\"nome\": \"Guilherme\", \"telefone\": \"3333-2221\"},\n",
    "    \"giovanna@gmail.com\": {\"nome\": \"Giovanna\", \"telefone\": \"3443-2121\"},\n",
    "    \"chappie@gmail.com\": {\"nome\": \"Chappie\", \"telefone\": \"3344-9871\"},\n",
    "    \"melaine@gmail.com\": {\"nome\": \"Melaine\", \"telefone\": \"3333-7766\"},\n",
    "}\n",
    "\n",
    "telefone = contatos[\"giovanna@gmail.com\"][\"telefone\"]  # \"3443-2121\"\n",
    "print(telefone)"
   ]
  },
  {
   "cell_type": "code",
   "execution_count": null,
   "id": "db410ca5",
   "metadata": {},
   "outputs": [],
   "source": [
    "# Iterando dicionários \n",
    "contatos = {\n",
    "    \"guilherme@gmail.com\": {\"nome\": \"Guilherme\", \"telefone\": \"3333-2221\"},\n",
    "    \"giovanna@gmail.com\": {\"nome\": \"Giovanna\", \"telefone\": \"3443-2121\"},\n",
    "    \"chappie@gmail.com\": {\"nome\": \"Chappie\", \"telefone\": \"3344-9871\"},\n",
    "    \"melaine@gmail.com\": {\"nome\": \"Melaine\", \"telefone\": \"3333-7766\"},\n",
    "}\n",
    "\n",
    "for chave in contatos:\n",
    "    print(chave, contatos[chave])\n",
    "\n",
    "print(\"=\" * 100)\n",
    "\n",
    "for chave, valor in contatos.items():\n",
    "    print(chave, valor)"
   ]
  },
  {
   "cell_type": "code",
   "execution_count": null,
   "id": "8e7fb959",
   "metadata": {},
   "outputs": [],
   "source": [
    "# Função clear ()\n",
    "contatos = {\n",
    "    \"guilherme@gmail.com\": {\"nome\": \"Guilherme\", \"telefone\": \"3333-2221\"},\n",
    "    \"giovanna@gmail.com\": {\"nome\": \"Giovanna\", \"telefone\": \"3443-2121\"},\n",
    "    \"chappie@gmail.com\": {\"nome\": \"Chappie\", \"telefone\": \"3344-9871\"},\n",
    "    \"melaine@gmail.com\": {\"nome\": \"Melaine\", \"telefone\": \"3333-7766\"},\n",
    "}\n",
    "\n",
    "contatos.clear()\n",
    "print(contatos)  # {}"
   ]
  },
  {
   "cell_type": "code",
   "execution_count": null,
   "id": "05a3c4a0",
   "metadata": {},
   "outputs": [],
   "source": [
    "# Função copy()\n",
    "contatos = {\"guilherme@gmail.com\": {\"nome\": \"Guilherme\", \"telefone\": \"3333-2221\"}}\n",
    "\n",
    "copia = contatos.copy()\n",
    "copia[\"guilherme@gmail.com\"] = {\"nome\": \"Gui\"}\n",
    "\n",
    "print(contatos[\"guilherme@gmail.com\"])  # {\"nome\": \"Guilherme\", \"telefone\": \"3333-2221\"}\n",
    "\n",
    "print(copia[\"guilherme@gmail.com\"])  # {\"nome\": \"Gui\"}"
   ]
  },
  {
   "cell_type": "code",
   "execution_count": null,
   "id": "f5dece4f",
   "metadata": {},
   "outputs": [],
   "source": [
    "# Função fromkeys()\n",
    "resultado = dict.fromkeys([\"nome\", \"telefone\"])  # {\"nome\": None, \"telefone\": None}\n",
    "print(resultado)\n",
    "\n",
    "resultado = dict.fromkeys([\"nome\", \"telefone\"], \"vazio\")  # {\"nome\": \"vazio\", \"telefone\": \"vazio\"}\n",
    "print(resultado)"
   ]
  },
  {
   "cell_type": "code",
   "execution_count": null,
   "id": "1186b078",
   "metadata": {},
   "outputs": [],
   "source": [
    "# Função get\n",
    "contatos = {\"guilherme@gmail.com\": {\"nome\": \"Guilherme\", \"telefone\": \"3333-2221\"}}\n",
    "\n",
    "# contatos[\"chave\"]  # KeyError\n",
    "\n",
    "resultado = contatos.get(\"chave\")  # None\n",
    "print(resultado)\n",
    "\n",
    "resultado = contatos.get(\"chave\", {})  # {}\n",
    "print(resultado)\n",
    "\n",
    "resultado = contatos.get(\n",
    "    \"guilherme@gmail.com\", {}\n",
    ")  # {\"guilherme@gmail.com\": {\"nome\": \"Guilherme\", \"telefone\": \"3333-2221\"}\n",
    "print(resultado)"
   ]
  },
  {
   "cell_type": "code",
   "execution_count": null,
   "id": "cd16ee28",
   "metadata": {},
   "outputs": [],
   "source": [
    "# Função items()\n",
    "contatos = {\"guilherme@gmail.com\": {\"nome\": \"Guilherme\", \"telefone\": \"3333-2221\"}}\n",
    "\n",
    "resultado = contatos.items()  # dict_items([('guilherme@gmail.com', {'nome': 'Guilherme', 'telefone': '3333-2221'})])\n",
    "print(resultado)\n"
   ]
  },
  {
   "cell_type": "code",
   "execution_count": null,
   "id": "a3397ca5",
   "metadata": {},
   "outputs": [],
   "source": [
    "# Função keys\n",
    "contatos = {\"guilherme@gmail.com\": {\"nome\": \"Guilherme\", \"telefone\": \"3333-2221\"}}\n",
    "\n",
    "resultado = contatos.keys()  # dict_keys(['guilherme@gmail.com'])\n",
    "print(resultado)"
   ]
  },
  {
   "cell_type": "code",
   "execution_count": null,
   "id": "15c0f4b7",
   "metadata": {},
   "outputs": [],
   "source": [
    " # Função pop()\n",
    "contatos = {\"guilherme@gmail.com\": {\"nome\": \"Guilherme\", \"telefone\": \"3333-2221\"}}\n",
    "\n",
    "resultado = contatos.pop(\"guilherme@gmail.com\")  # {'nome': 'Guilherme', 'telefone': '3333-2221'}\n",
    "print(resultado)\n",
    "\n",
    "resultado = contatos.pop(\"guilherme@gmail.com\", {})  # {}\n",
    "print(resultado)"
   ]
  },
  {
   "cell_type": "code",
   "execution_count": null,
   "id": "a4910745",
   "metadata": {},
   "outputs": [],
   "source": [
    "# Função popitem()\n",
    "contatos = {\"guilherme@gmail.com\": {\"nome\": \"Guilherme\", \"telefone\": \"3333-2221\"}}\n",
    "\n",
    "resultado = contatos.popitem()  # ('guilherme@gmail.com', {'nome': 'Guilherme', 'telefone': '3333-2221'})\n",
    "print(resultado)\n",
    "\n",
    "# contatos.popitem()  # KeyError"
   ]
  },
  {
   "cell_type": "code",
   "execution_count": null,
   "id": "b59c3767",
   "metadata": {},
   "outputs": [],
   "source": [
    "# Função setdefault()\n",
    "\n",
    "contato = {\"nome\": \"Guilherme\", \"telefone\": \"3333-2221\"}\n",
    "\n",
    "contato.setdefault(\"nome\", \"Giovanna\")  # \"Guilherme\"\n",
    "print(contato)  # {'nome': 'Guilherme', 'telefone': '3333-2221'}\n",
    "\n",
    "contato.setdefault(\"idade\", 28)  # 28\n",
    "print(contato)  # {'nome': 'Guilherme', 'telefone': '3333-2221', 'idade': 28}\n"
   ]
  },
  {
   "cell_type": "code",
   "execution_count": null,
   "id": "21c8f09e",
   "metadata": {},
   "outputs": [],
   "source": [
    "# Função update()\n",
    "contatos = {\"guilherme@gmail.com\": {\"nome\": \"Guilherme\", \"telefone\": \"3333-2221\"}}\n",
    "\n",
    "contatos.update({\"guilherme@gmail.com\": {\"nome\": \"Gui\"}})\n",
    "print(contatos)  # {'guilherme@gmail.com': {'nome': 'Gui'}}\n",
    "\n",
    "contatos.update({\"giovanna@gmail.com\": {\"nome\": \"Giovanna\", \"telefone\": \"3322-8181\"}})\n",
    "# {'guilherme@gmail.com': {'nome': 'Gui'}, 'giovanna@gmail.com': {'nome': 'Giovanna', 'telefone': '3322-8181'}}\n",
    "print(contatos)"
   ]
  },
  {
   "cell_type": "code",
   "execution_count": null,
   "id": "a3a6ae84",
   "metadata": {},
   "outputs": [],
   "source": [
    "# Função values()\n",
    "contatos = {\n",
    "    \"guilherme@gmail.com\": {\"nome\": \"Guilherme\", \"telefone\": \"3333-2221\"},\n",
    "    \"giovanna@gmail.com\": {\"nome\": \"Giovanna\", \"telefone\": \"3443-2121\"},\n",
    "    \"chappie@gmail.com\": {\"nome\": \"Chappie\", \"telefone\": \"3344-9871\"},\n",
    "    \"melaine@gmail.com\": {\"nome\": \"Melaine\", \"telefone\": \"3333-7766\"},\n",
    "}\n",
    "\n",
    "resultado = (\n",
    "    contatos.values()\n",
    ")  # dict_values([{'nome': 'Guilherme', 'telefone': '3333-2221'}, {'nome': 'Giovanna', 'telefone': '3443-2121'}, {'nome': 'Chappie', 'telefone': '3344-9871'}, {'nome': 'Melaine', 'telefone': '3333-7766'}])  # noqa\n",
    "print(resultado)\n"
   ]
  },
  {
   "cell_type": "code",
   "execution_count": null,
   "id": "1cd9d38f",
   "metadata": {},
   "outputs": [],
   "source": [
    "# Função in()\n",
    "contatos = {\n",
    "    \"guilherme@gmail.com\": {\"nome\": \"Guilherme\", \"telefone\": \"3333-2221\"},\n",
    "    \"giovanna@gmail.com\": {\"nome\": \"Giovanna\", \"telefone\": \"3443-2121\"},\n",
    "    \"chappie@gmail.com\": {\"nome\": \"Chappie\", \"telefone\": \"3344-9871\"},\n",
    "    \"melaine@gmail.com\": {\"nome\": \"Melaine\", \"telefone\": \"3333-7766\"},\n",
    "}\n",
    "\n",
    "resultado = \"guilherme@gmail.com\" in contatos  # True\n",
    "print(resultado)\n",
    "\n",
    "resultado = \"megui@gmail.com\" in contatos  # False\n",
    "print(resultado)\n",
    "\n",
    "resultado = \"idade\" in contatos[\"guilherme@gmail.com\"]  # False\n",
    "print(resultado)\n",
    "\n",
    "resultado = \"telefone\" in contatos[\"giovanna@gmail.com\"]  # True\n",
    "print(resultado)"
   ]
  },
  {
   "cell_type": "code",
   "execution_count": null,
   "id": "66d93b51",
   "metadata": {},
   "outputs": [],
   "source": [
    "# Função del()\n",
    "\n",
    "contatos = {\n",
    "    \"guilherme@gmail.com\": {\"nome\": \"Guilherme\", \"telefone\": \"3333-2221\"},\n",
    "    \"giovanna@gmail.com\": {\"nome\": \"Giovanna\", \"telefone\": \"3443-2121\"},\n",
    "    \"chappie@gmail.com\": {\"nome\": \"Chappie\", \"telefone\": \"3344-9871\"},\n",
    "    \"melaine@gmail.com\": {\"nome\": \"Melaine\", \"telefone\": \"3333-7766\"},\n",
    "}\n",
    "\n",
    "del contatos[\"guilherme@gmail.com\"][\"telefone\"]\n",
    "del contatos[\"chappie@gmail.com\"]\n",
    "\n",
    "# {'guilherme@gmail.com': {'nome': 'Guilherme'}, 'giovanna@gmail.com': {'nome': 'Giovanna', 'telefone': '3443-2121'}, 'melaine@gmail.com': {'nome': 'Melaine', 'telefone': '3333-7766'}}  # noqa\n",
    "print(contatos)"
   ]
  },
  {
   "cell_type": "markdown",
   "id": "bd006396",
   "metadata": {},
   "source": [
    "## Funções em Python\n",
    "Funções em Python são blocos de código reutilizáveis que realizam uma tarefa específica. Elas são definidas usando a palavra-chave def, seguida pelo nome da função e parênteses que podem conter parâmetros. As funções ajudam a organizar o código, tornando-o mais legível e modular. Aqui está a estrutura básica de uma função em Python:\n",
    "```python\n",
    "def nome_da_funcao(parametro1, parametro2):\n",
    "    # Corpo da função\n",
    "    resultado = parametro1 + parametro2\n",
    "    return resultado\n",
    "```\n",
    "\n",
    "As funções possuem um conjunto de entrada e um conjunto de saída. As entradas são os parâmetros que a função recebe, e a saída é o valor que a função retorna usando a palavra-chave return. Se uma função não tiver um return explícito, ela retornará None por padrão.\n"
   ]
  },
  {
   "cell_type": "code",
   "execution_count": 6,
   "id": "6958774f",
   "metadata": {},
   "outputs": [
    {
     "name": "stdout",
     "output_type": "stream",
     "text": [
      "Olá, mundo!\n",
      "Seja bem vindo, Guilherme!\n",
      "Seja bem vindo Anônimo!\n",
      "Seja bem vindo Anônimo!\n"
     ]
    }
   ],
   "source": [
    "def exibir_mensagem():\n",
    "    print('Olá, mundo!')\n",
    "\n",
    "def exibir_mensagem_2(nome):\n",
    "    print (f'Seja bem vindo, {nome}!')\n",
    "\n",
    "def exibir_mensagem_3(nome=\"Anônimo\"):\n",
    "    print(f'Seja bem vindo {nome}!')\n",
    "\n",
    "# Executando a função \n",
    "\n",
    "exibir_mensagem()\n",
    "exibir_mensagem_2(nome=\"Guilherme\")\n",
    "# exibir_mensagem_2() # tenho argumento e preciso passar esse valor\n",
    "exibir_mensagem_3()\n",
    "exibir_mensagem_3(nome=\"Anônimo\")\n"
   ]
  }
 ],
 "metadata": {
  "kernelspec": {
   "display_name": "Python 3",
   "language": "python",
   "name": "python3"
  },
  "language_info": {
   "codemirror_mode": {
    "name": "ipython",
    "version": 3
   },
   "file_extension": ".py",
   "mimetype": "text/x-python",
   "name": "python",
   "nbconvert_exporter": "python",
   "pygments_lexer": "ipython3",
   "version": "3.13.3"
  }
 },
 "nbformat": 4,
 "nbformat_minor": 5
}
