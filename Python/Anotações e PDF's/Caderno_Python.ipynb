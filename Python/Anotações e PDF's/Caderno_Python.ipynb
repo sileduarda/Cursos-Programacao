{
 "cells": [
  {
   "cell_type": "markdown",
   "metadata": {},
   "source": [
    " ==============================================================================\n",
    "\n",
    " # CADERNO 00: LÓGICA DE PROGRAMAÇÃO E CONCEITOS\n",
    "\n",
    " =============================================================================="
   ]
  },
  {
   "cell_type": "markdown",
   "metadata": {},
   "source": [
    " ## --- Tópico 0.1: Lógica de Programação ---\n",
    "\n",
    " Antes de escrever o código de programação é interessante pensar como esse\n",
    "\n",
    " código será desenvolvido, criar uma sequência lógica separada por etapas\n",
    "\n",
    " interligadas (arranjos) essa sequência é denominada pseudocódigo."
   ]
  },
  {
   "cell_type": "markdown",
   "metadata": {},
   "source": [
    " ## --- Tópico 0.2: Pseudocódigo ---\n",
    "\n",
    " Não segue regras de sintaxe, mas utiliza estruturas comuns de programação\n",
    "\n",
    " (se, então, senão, para cada, função, etc...) escritas de maneira simples\n",
    "\n",
    " e legível para humanos.\n",
    "\n",
    "\n",
    "\n",
    " A ideia é focar na lógica do algoritmo, sem se preocupar com os\n",
    "\n",
    " detalhes técnicos da linguagem que será usada depois.\n",
    "\n",
    "\n",
    "\n",
    " ### Exemplo de pseudocódigo:\n",
    "\n",
    "\n",
    "\n",
    " ```\n",
    "\n",
    " INÍCIO\n",
    "\n",
    "     LEIA nota1\n",
    "\n",
    "     LEIA nota2\n",
    "\n",
    "\n",
    "\n",
    "     CALCULE media = (nota1 + nota2) / 2\n",
    "\n",
    "\n",
    "\n",
    "     ESCREVA \"A média do aluno é:\", media\n",
    "\n",
    "\n",
    "\n",
    "     SE media >= 7.0 ENTÃO\n",
    "\n",
    "         ESCREVA \"Aluno Aprovado!\"\n",
    "\n",
    "     SENÃO\n",
    "\n",
    "         ESCREVA \"Aluno Reprovado.\"\n",
    "\n",
    " FIM\n",
    "\n",
    " ```"
   ]
  },
  {
   "cell_type": "markdown",
   "metadata": {},
   "source": [
    " ## --- Tópico 0.3: Tradução do Pseudocódigo para Python ---\n",
    "\n",
    " Tradução para Python do exemplo acima."
   ]
  },
  {
   "cell_type": "code",
   "execution_count": null,
   "metadata": {},
   "outputs": [],
   "source": [
    "# Traduzindo o pseudocódigo para Python\n",
    "nota1 = 7.5\n",
    "nota2 = 3.3\n",
    "\n",
    "media = (nota1 + nota2) / 2\n",
    "\n",
    "print(f\"A média do aluno é: {media}\")\n",
    "\n",
    "if media >= 7.0:\n",
    "    print(\"Aluno Aprovado!\")\n",
    "else:\n",
    "    print(\"Aluno Reprovado.\")\n"
   ]
  },
  {
   "cell_type": "markdown",
   "metadata": {},
   "source": [
    " ==============================================================================\n",
    "\n",
    " # CADERNO 01: FUNDAMENTOS (PRINT, INPUT, VARIÁVEIS, TIPOS DE DADOS)\n",
    "\n",
    " =============================================================================="
   ]
  },
  {
   "cell_type": "markdown",
   "metadata": {},
   "source": [
    " ## --- Tópico 1.1: A Função print() ---\n",
    "\n",
    " A função `print()` é usada para exibir informações no console."
   ]
  },
  {
   "cell_type": "code",
   "execution_count": null,
   "metadata": {},
   "outputs": [],
   "source": [
    "print('Hello, World!')\n",
    "print('Esse é o meu primeiro script!')\n",
    "print('Estou aprendendo Python!')\n"
   ]
  },
  {
   "cell_type": "markdown",
   "metadata": {},
   "source": [
    " ## --- Tópico 1.2: Variáveis (Declaração e Atribuição) ---\n",
    "\n",
    " Em muitas partes do código, é interessante dar nomes aos valores, para\n",
    "\n",
    " facilitar a leitura e a manutenção do código. Esses nomes são chamados\n",
    "\n",
    " de variáveis.\n",
    "\n",
    "\n",
    "\n",
    " ### Regras de Nomenclatura:\n",
    "\n",
    " * Nomes de variáveis devem começar com uma letra ou um underscore (`_`)\n",
    "\n",
    " * Não podem começar com um número\n",
    "\n",
    " * Podem conter apenas caracteres alfanuméricos e undescores\n",
    "\n",
    " * São \"case-sensitive\" (idade é diferente de Idade)."
   ]
  },
  {
   "cell_type": "code",
   "execution_count": null,
   "metadata": {},
   "outputs": [],
   "source": [
    "# Atribuição em Python\n",
    "nome_completo = \"Maria Eduarda Souza Silva\"  # string\n",
    "idade = 26  # integer\n",
    "altura = 1.65  # float\n",
    "eh_estudante = True  # boolean\n",
    "\n",
    "print(f\"Nome: {nome_completo}\")\n",
    "print(f\"Idade: {idade} anos\")\n",
    "print(f\"Altura: {altura}m\")\n",
    "print(f\"É estudante? {eh_estudante}\")\n"
   ]
  },
  {
   "cell_type": "code",
   "execution_count": null,
   "metadata": {},
   "outputs": [],
   "source": [
    "# Exemplo de código mais legível com variáveis\n",
    "pi = 3.14\n",
    "raio = 5\n",
    "raio_ao_quadrado = raio ** 2\n",
    "area_circulo = pi * raio_ao_quadrado\n",
    "\n",
    "print(f\"Cálculo da área de um círculo com raio 5: {area_circulo}\")\n",
    "print(f\"Exemplo de cálculo (22-10)*3: {(22 - 10) * 3}\")\n"
   ]
  },
  {
   "cell_type": "markdown",
   "metadata": {},
   "source": [
    " ## --- Tópico 1.3: Variáveis e Constantes (Convenção) ---\n",
    "\n",
    " O python vai entender ambos como variáveis, mas por convenção, variáveis\n",
    "\n",
    " em maiúsculas são tratadas como constantes. Isso somente o programador\n",
    "\n",
    " pode garantir que o valor não será alterado."
   ]
  },
  {
   "cell_type": "code",
   "execution_count": null,
   "metadata": {},
   "outputs": [],
   "source": [
    "nome, idade, país = \"Ana\", 30, \"Brasil\"\n",
    "PI = 3.14  # Constante (por convenção)\n",
    "LIMITE_DE_VELOCIDADE = 80  # Constante (por convenção)\n",
    "print(nome, idade, país, PI)\n",
    "\n",
    "limite_de_velocidade = 80  # Variável\n",
    "print(limite_de_velocidade)\n"
   ]
  },
  {
   "cell_type": "markdown",
   "metadata": {},
   "source": [
    " ## --- Tópico 1.4: Tipos de Dados Primitivos e Funções type() e isinstance() ---\n",
    "\n",
    " Tipos de dados definem o tipo de valor que uma variável pode armazenar.\n",
    "\n",
    " A função `type()` retorna o tipo de um objeto.\n",
    "\n",
    " A função `isinstance()` verifica se um objeto é de um determinado tipo."
   ]
  },
  {
   "cell_type": "code",
   "execution_count": null,
   "metadata": {},
   "outputs": [],
   "source": [
    "# Integer \n",
    "numero_inteiro = 100\n",
    "print(f\"Valor: {numero_inteiro}, Tipo: {type(numero_inteiro)}\")\n",
    "\n",
    "# Float (numéro decimal)\n",
    "numero_decimal = 19.22\n",
    "print(f\"Valor: {numero_decimal}, Tipo: {type(numero_decimal)}\")\n",
    "\n",
    "# String (texto)\n",
    "texto = \"Python é o máximo!\"\n",
    "print(f\"Valor: '{texto}', Tipo : {type(texto)}\")\n",
    "\n",
    "# Boolean (booleano)\n",
    "verdadeiro = True\n",
    "falso = False\n",
    "print(f\"Valor:{verdadeiro}, Tipo {type(verdadeiro)}\")\n",
    "print(f\"Valor:{falso}, tipo {type(falso)}\")\n"
   ]
  },
  {
   "cell_type": "code",
   "execution_count": null,
   "metadata": {},
   "outputs": [],
   "source": [
    "# Verificando tipos\n",
    "x = 10\n",
    "y1 = 10\n",
    "y2 = \"10\"\n",
    "print(f\"O tipo de x é: {type(x)}\")\n",
    "print(f\"O tipo de y1 é: {type(y1)}\")\n",
    "print(f\"O tipo de y2 é: {type(y2)}\")\n"
   ]
  },
  {
   "cell_type": "code",
   "execution_count": null,
   "metadata": {},
   "outputs": [],
   "source": [
    "# Exemplo isinstance()\n",
    "carros = ('gol')\n",
    "print(f\"'carros' é uma tupla? {isinstance(carros, tuple)}\") # Retorna False, 'gol' é string\n",
    "carros_tupla = ('gol',) # Adicionar a vírgula transforma em tupla\n",
    "print(f\"'carros_tupla' é uma tupla? {isinstance(carros_tupla, tuple)}\") # Retorna True\n"
   ]
  },
  {
   "cell_type": "markdown",
   "metadata": {},
   "source": [
    " ## --- Tópico 1.5: A Função input() ---\n",
    "\n",
    " A função `input()` permite capturar dados digitados pelo usuário no console.\n",
    "\n",
    " Ela não precisa de nenhum argumento, mas pode receber uma string que\n",
    "\n",
    " será exibida como prompt.\n",
    "\n",
    "\n",
    "\n",
    " **Nota:** `input()` SEMPRE retorna uma string."
   ]
  },
  {
   "cell_type": "code",
   "execution_count": null,
   "metadata": {},
   "outputs": [],
   "source": [
    "# Exemplo 1: input simples\n",
    "print(\"Digite algo:\")\n",
    "x = input()\n",
    "print(f\"Você digitou: {x}\")\n"
   ]
  },
  {
   "cell_type": "code",
   "execution_count": null,
   "metadata": {},
   "outputs": [],
   "source": [
    "# Exemplo 2: input com prompt (recomendado)\n",
    "nome_usuario = input(\"Digite seu nome: \")\n",
    "print(f\"Olá, {nome_usuario}!\")\n"
   ]
  },
  {
   "cell_type": "markdown",
   "metadata": {},
   "source": [
    " ==============================================================================\n",
    "\n",
    " # CADERNO 02: OPERADORES\n",
    "\n",
    " =============================================================================="
   ]
  },
  {
   "cell_type": "markdown",
   "metadata": {},
   "source": [
    " ## --- Tópico 2.1: Operadores Aritméticos ---\n",
    "\n",
    " Usados para realizar operações matemáticas."
   ]
  },
  {
   "cell_type": "code",
   "execution_count": null,
   "metadata": {},
   "outputs": [],
   "source": [
    "# Definição de variáveis \n",
    "a = 10\n",
    "b = 3\n",
    "\n",
    "# Usando operadores aritméticos\n",
    "soma = a + b \n",
    "subtracao = a - b\n",
    "divisao = a / b  # divisão com decimais \n",
    "divisao_inteira = a // b  # arredonda \n",
    "multiplicacao = a * b \n",
    "potencia = a ** b \n",
    "modulo = a % b  # resto da divisão\n",
    "\n",
    "print(f\"{a} + {b} = {soma}\")\n",
    "print(f\"{a} - {b} = {subtracao}\")\n",
    "print(f\"{a} / {b} = {divisao:.4f}\")  # :.4f formata para 4 casas decimais\n",
    "print(f\"{a} // {b} = {divisao_inteira}\")\n",
    "print(f\"{a} * {b} = {multiplicacao}\")\n",
    "print(f\"{a} ** {b} = {potencia}\")\n",
    "print(f\"{a} % {b} = {modulo}\") \n"
   ]
  },
  {
   "cell_type": "markdown",
   "metadata": {},
   "source": [
    " ## --- Tópico 2.2: Operadores de Atribuição ---\n",
    "\n",
    " Usados para atribuir valores a variáveis."
   ]
  },
  {
   "cell_type": "code",
   "execution_count": null,
   "metadata": {},
   "outputs": [],
   "source": [
    "x = 10  # Atribuição simples\n",
    "print(f\"Valor inicial de x: {x}\")\n",
    "\n",
    "x += 5  # Adição e atribuição (equivalente a x = x + 5)\n",
    "print(f\"Após x += 5: {x}\")\n",
    "\n",
    "x -= 3  # Subtração e atribuição (equivalente a x = x - 3)\n",
    "print(f\"Após x -= 3: {x}\")\n",
    "\n",
    "x *= 2  # Multiplicação e atribuição (equivalente a x = x * 2)\n",
    "print(f\"Após x *= 2: {x}\")\n",
    "\n",
    "x /= 4  # Divisão e atribuição (equivalente a x = x / 4)\n",
    "print(f\"Após x /= 4: {x}\")\n"
   ]
  },
  {
   "cell_type": "markdown",
   "metadata": {},
   "source": [
    " ## --- Tópico 2.3: Operadores de Comparação ---\n",
    "\n",
    " Usados para comparar valores.\n",
    "\n",
    " O resultado é sempre um Boolean (True ou False)."
   ]
  },
  {
   "cell_type": "code",
   "execution_count": null,
   "metadata": {},
   "outputs": [],
   "source": [
    "# Exemplo 1\n",
    "x = 5\n",
    "y = 10\n",
    "print(f\"{x} > {y} ? {x > y} | (maior que)\")\n",
    "print(f\"{x} < {y} ? {x < y} | (menor que)\")\n",
    "print(f\"{x} == {y} ? {x == y} | (igual a)\")\n",
    "print(f\"{x} != {y} ? {x != y} | (diferente de)\")\n",
    "print(f\"{x} >= 5 ? {x >= 5} | (maior ou igual a)\")\n",
    "print(f\"{x} <= {y} ? {x <= y} | (menor ou igual a)\")\n"
   ]
  },
  {
   "cell_type": "code",
   "execution_count": null,
   "metadata": {},
   "outputs": [],
   "source": [
    "# Exemplo 2\n",
    "saldo_comp = 200\n",
    "saque_comp = 200\n",
    "print(f\"\\nSaldo: {saldo_comp}, Saque: {saque_comp}\")\n",
    "print(f\"Saldo == Saque? {saldo_comp == saque_comp}\")\n",
    "print(f\"Saldo != Saque? {saldo_comp != saque_comp}\")\n",
    "print(f\"Saldo > Saque? {saldo_comp > saque_comp}\")\n",
    "print(f\"Saldo >= Saque? {saldo_comp >= saque_comp}\")\n",
    "print(f\"Saldo < Saque? {saldo_comp < saque_comp}\")\n",
    "print(f\"Saldo <= Saque? {saldo_comp <= saque_comp}\")\n"
   ]
  },
  {
   "cell_type": "markdown",
   "metadata": {},
   "source": [
    " ## --- Tópico 2.4: Operadores Lógicos ---\n",
    "\n",
    " Usados para combinar expressões booleanas (True/False).\n",
    "\n",
    " - `and`: Retorna True se TODAS as condições forem verdadeiras.\n",
    "\n",
    " - `or`: Retorna True se PELO MENOS UMA das condições for verdadeira.\n",
    "\n",
    " - `not`: Inverte o valor lógico de uma condição."
   ]
  },
  {
   "cell_type": "code",
   "execution_count": null,
   "metadata": {},
   "outputs": [],
   "source": [
    "# Exemplo 1: Viagem\n",
    "tem_dinheiro = True\n",
    "tem_tempo = False\n",
    "\n",
    "print(f\"\\nO cliente pode viajar (AND)? {tem_dinheiro and tem_tempo}\")\n",
    "print(f\"O cliente pode viajar (OR)? {tem_dinheiro or tem_tempo}\") \n",
    "print(f\"O cliente pode viajar (NOT)? {tem_dinheiro and not tem_tempo}\")\n"
   ]
  },
  {
   "cell_type": "code",
   "execution_count": null,
   "metadata": {},
   "outputs": [],
   "source": [
    "# Exemplo 2: Banco\n",
    "saldo = 1000\n",
    "saque = 200\n",
    "limite = 100\n",
    "\n",
    "print(f'\\nOperador AND (Banco): {saldo >= saque and saque <= limite}')\n",
    "print(f'Operador OR (Banco): {saldo >= saque or saque <= limite}') \n",
    "print(f'Operador AND com parênteses: {(saldo >= saque) and (saque <= limite)}')\n",
    "print(f'Operador OR com parênteses: {(saldo >= saque) or (saque <= limite)}')\n"
   ]
  },
  {
   "cell_type": "markdown",
   "metadata": {},
   "source": [
    " ## --- Tópico 2.5: Exercício - Atribuindo Blocos de Comparação a Variáveis ---\n",
    "\n",
    " Crie um programa em Python que:\n",
    "\n",
    " 1. Solicite ao usuário dois números inteiros (a e b).\n",
    "\n",
    " 2. Crie três variáveis lógicas:\n",
    "\n",
    "  * comparacao1: a > b\n",
    "\n",
    "  * comparacao2: a == b\n",
    "\n",
    "  * comparacao3: a != b\n",
    "\n",
    " 3. Crie resultado_final: se Pelo menos uma das comparações é verdadeira E a for maior que zero.\n",
    "\n",
    " 4. Exiba todas as variáveis lógicas."
   ]
  },
  {
   "cell_type": "code",
   "execution_count": null,
   "metadata": {},
   "outputs": [],
   "source": [
    "print(\"\\n--- Exercício Operadores Lógicos ---\")\n",
    "a_ex = int(input(\"Digite o primeiro número inteiro (a): \"))\n",
    "b_ex = int(input(\"Digite o segundo número inteiro (b): \"))\n",
    "\n",
    "# Cria variáveis lógicas para as comparações\n",
    "comparacao1 = a_ex > b_ex\n",
    "comparacao2 = a_ex == b_ex\n",
    "comparacao3 = a_ex != b_ex\n",
    "\n",
    "# Cria a variável resultado_final usando operadores lógicos\n",
    "# (pelo menos uma das comparações é verdadeira) AND (a > 0)\n",
    "resultado_final = (comparacao1 or comparacao2 or comparacao3) and (a_ex > 0)\n",
    "\n",
    "# Exibe os resultados\n",
    "print(f'Comparação 1 (a > b): {comparacao1}')\n",
    "print(f'Comparação 2 (a == b): {comparacao2}')\n",
    "print(f'Comparação 3 (a != b): {comparacao3}')\n",
    "print(f'Resultado Final ((comp1 or comp2 or comp3) and (a > 0)): {resultado_final}')\n"
   ]
  },
  {
   "cell_type": "markdown",
   "metadata": {},
   "source": [
    " ## --- Tópico 2.6: Operadores de Identidade (is, is not) ---\n",
    "\n",
    " Usados para comparar a identidade de dois objetos, ou seja,\n",
    "\n",
    " se eles são o *mesmo objeto* na memória."
   ]
  },
  {
   "cell_type": "code",
   "execution_count": null,
   "metadata": {},
   "outputs": [],
   "source": [
    "saldo_id = 1000\n",
    "limite_id = 1000\n",
    "saldo_id_2 = saldo_id\n",
    "\n",
    "print(f\"\\nsaldo_id ({saldo_id}) is limite_id ({limite_id})? {saldo_id is limite_id}\") # False (em CPython, inteiros pequenos podem ser 'True', mas não é garantido)\n",
    "print(f\"saldo_id ({saldo_id}) is saldo_id_2 ({saldo_id_2})? {saldo_id is saldo_id_2}\") # True\n",
    "print(f\"saldo_id is not limite_id? {saldo_id is not limite_id}\") # True\n"
   ]
  },
  {
   "cell_type": "markdown",
   "metadata": {},
   "source": [
    " ## --- Tópico 2.7: Operadores de Associação (in, not in) ---\n",
    "\n",
    " Usados para verificar a presença de um valor em uma sequência\n",
    "\n",
    " (como listas, tuplas ou strings)."
   ]
  },
  {
   "cell_type": "code",
   "execution_count": null,
   "metadata": {},
   "outputs": [],
   "source": [
    "frutas_assoc = [\"limao\", \"uva\"]\n",
    "curso_assoc = \"Curso de python\"\n",
    "print(f\"\\n'laranja' not in frutas_assoc? {'laranja' not in frutas_assoc}\")\n",
    "print(f\"'limao' in frutas_assoc? {'limao' in frutas_assoc}\")\n",
    "print(f\"'Python' in curso_assoc? {'Python' in curso_assoc}\") # False (Case-sensitive)\n",
    "print(f\"'python' in curso_assoc? {'python' in curso_assoc}\") # True\n",
    "print(f\"'Python' not in frutas_assoc? {'Python' not in frutas_assoc}\")\n"
   ]
  },
  {
   "cell_type": "markdown",
   "metadata": {},
   "source": [
    " ==============================================================================\n",
    "\n",
    " # CADERNO 03: STRINGS (MANIPULAÇÃO E MÉTODOS)\n",
    "\n",
    " =============================================================================="
   ]
  },
  {
   "cell_type": "markdown",
   "metadata": {},
   "source": [
    " ## --- Tópico 3.1: Criando Strings ---\n",
    "\n",
    " Strings são sequências de caracteres.\n",
    "\n",
    " Para criarmos strings, podemos usar aspas simples (' ') ou aspas duplas (\" \")."
   ]
  },
  {
   "cell_type": "code",
   "execution_count": null,
   "metadata": {},
   "outputs": [],
   "source": [
    "'Olá mundo!'  # aspas simples\n",
    "\"Olá mundo!\"  # aspas duplas\n",
    "print('Olá mundo!')\n",
    "print(\"Olá mundo!\")\n"
   ]
  },
  {
   "cell_type": "markdown",
   "metadata": {},
   "source": [
    " ## --- Tópico 3.2: Concatenação (+) e Multiplicação (*) de Strings ---\n",
    "\n",
    " Strings também aceitam outros operadores, como multiplicação e indexação."
   ]
  },
  {
   "cell_type": "code",
   "execution_count": null,
   "metadata": {},
   "outputs": [],
   "source": [
    "print('Python' * 3)\n",
    "print('Python' + ' é ' + 'legal!')\n",
    "print('Du' + 'da')\n",
    "print('8' + 's')  # Isso pode! Não é soma, é concatenação\n"
   ]
  },
  {
   "cell_type": "markdown",
   "metadata": {},
   "source": [
    " ## --- Tópico 3.3: Strings e Números (Conversão de Tipo) ---\n",
    "\n",
    " Uma string sempre representa texto, ainda que contenha apenas números.\n",
    "\n",
    " É *impossível* realizar operações matemáticas diretamente com strings numéricas\n",
    "\n",
    " e números (int/float)."
   ]
  },
  {
   "cell_type": "code",
   "execution_count": null,
   "metadata": {},
   "outputs": [],
   "source": [
    "# print('50' + 50) # aqui da erro (TypeError)\n",
    "\n",
    "# Para realizarmos a operação acima, é preciso converter o texto em um número, \n",
    "# usando a função int() ou float().\n",
    "print(int('50') + 50)\n",
    "print(float('50') + 50)\n"
   ]
  },
  {
   "cell_type": "code",
   "execution_count": null,
   "metadata": {},
   "outputs": [],
   "source": [
    "# Também podemos converter números para strings\n",
    "idade_str = str(30) # Converte o inteiro 30 para a string \"30\"\n",
    "print(f\"Tipo da idade_str: {type(idade_str)}\")\n"
   ]
  },
  {
   "cell_type": "markdown",
   "metadata": {},
   "source": [
    " ## --- Tópico 3.4: Função len() ---\n",
    "\n",
    " A função `len()` retorna o tamanho (número de caracteres) de uma string.\n",
    "\n",
    " *Incluindo pontuação e espaços.*"
   ]
  },
  {
   "cell_type": "code",
   "execution_count": null,
   "metadata": {},
   "outputs": [],
   "source": [
    "print(f\"Tamanho de 'Python': {len('Python')}\")\n",
    "print(f\"Tamanho de 'Um texto maior...': {len('Um texto maior com espaços para teste')}\")\n"
   ]
  },
  {
   "cell_type": "markdown",
   "metadata": {},
   "source": [
    " ## --- Tópico 3.5: Métodos de String (upper, lower, title, strip, replace, center, join) ---\n",
    "\n",
    " Existem métodos que te ajudam a manipular strings."
   ]
  },
  {
   "cell_type": "code",
   "execution_count": null,
   "metadata": {},
   "outputs": [],
   "source": [
    "texto = \"   Python é o máximo!   \"\n",
    "print(f\"\\nTexto original: '{texto}'\")\n",
    "\n",
    "# Maiúsculas, Minúsculas e Título\n",
    "nome_metodo = \"gUIlherME\"\n",
    "print(f\"Original: {nome_metodo}\")\n",
    "print(f'Maiúsculas: {nome_metodo.upper()}')  # Tudo maiúsculo\n",
    "print(f'Minúsculas: {nome_metodo.lower()}')  # Tudo minúsculo\n",
    "print(f'Título: {nome_metodo.title()}')  # Primeira Letra Maiúscula\n"
   ]
  },
  {
   "cell_type": "code",
   "execution_count": null,
   "metadata": {},
   "outputs": [],
   "source": [
    "# Remoção de espaços\n",
    "texto_strip = \"   Olá mundo!     \"\n",
    "print(f\"Original: '{texto_strip + '.'}'\")\n",
    "print(f'Sem espaços (strip): \"{texto_strip.strip() + '.'}\"')  # Remove espaços no ínicio e no fim\n",
    "print(f'Sem espaços (rstrip): \"{texto_strip.rstrip() + '.'}\"')  # Remove espaços à direita\n",
    "print(f'Sem espaços (lstrip): \"{texto_strip.lstrip() + '.'}\"')  # Remove espaços à esquerda\n"
   ]
  },
  {
   "cell_type": "code",
   "execution_count": null,
   "metadata": {},
   "outputs": [],
   "source": [
    "# Substituir texto\n",
    "print(f'Substituir: {texto.replace(\"o máximo\", \"incrível\")}')  # Substitui \"o máximo\" por \"incrível\"\n"
   ]
  },
  {
   "cell_type": "code",
   "execution_count": null,
   "metadata": {},
   "outputs": [],
   "source": [
    "# Centralização e Junção\n",
    "menu = \"Python\"\n",
    "print(f\"\\nMenu original: {menu}\")\n",
    "print(f\"Menu center(14): '{menu.center(14)}'\")\n",
    "print(f\"Menu center(14, '#'): '{menu.center(14, '#')}'\")\n",
    "print(f\"Menu join('-'): '{'-'.join(menu)}'\")\n"
   ]
  },
  {
   "cell_type": "markdown",
   "metadata": {},
   "source": [
    " ## --- Tópico 3.6: Fatiamento de Strings (Slicing) ---\n",
    "\n",
    " Fatiamento (slicing) permite extrair partes de uma string.\n",
    "\n",
    " Formato: `string[inicio:fim:passo]`\n",
    "\n",
    " - O índice 'inicio' é incluído.\n",
    "\n",
    " - O índice 'fim' NÃO é incluído.\n",
    "\n",
    " - 'passo' (opcional) define o intervalo. O valor padrão é 1."
   ]
  },
  {
   "cell_type": "code",
   "execution_count": null,
   "metadata": {},
   "outputs": [],
   "source": [
    "texto_fatiar = \"Guilherme Arthur de Carvalho\"\n",
    "# Índices: 0123456789...\n",
    "print(f'\\nTexto para fatiar: {texto_fatiar}')\n",
    "\n",
    "print(f'Índice 0: {texto_fatiar[0]}')\n",
    "print(f'Índice -2 (penúltimo): {texto_fatiar[-2]}')\n",
    "print(f'Fatiamento (índice 0 a 8): {texto_fatiar[:9]}')  # Caracteres do início até o 8\n",
    "print(f'Fatiamento (índice 10 até o fim): {texto_fatiar[10:]}')\n",
    "print(f'Fatiamento (índice 10 ao 15): {texto_fatiar[10:16]}')\n",
    "print(f'Fatiamento (índice 10 ao 15, passo 2): {texto_fatiar[10:16:2]}')\n",
    "print(f'Fatiamento (completo): {texto_fatiar[:]}')\n",
    "print(f'Fatiamento (invertido): {texto_fatiar[::-1]}')\n"
   ]
  },
  {
   "cell_type": "markdown",
   "metadata": {},
   "source": [
    " ## --- Tópico 3.7: Interpolação de Strings (%, .format, f-strings) ---\n",
    "\n",
    " A interpolação de strings permite inserir valores de variáveis\n",
    "\n",
    " dentro de uma string de forma dinâmica."
   ]
  },
  {
   "cell_type": "code",
   "execution_count": null,
   "metadata": {},
   "outputs": [],
   "source": [
    "nome = \"Guilherme\"\n",
    "idade = 28\n",
    "profissao = \"Progamador\"\n",
    "linguagem = \"Python\"\n",
    "saldo = 45.435\n",
    "dados = {\"nome\": \"Guilherme\", \"idade\": 28}\n",
    "\n",
    "print(f\"\\n--- Interpolação de Strings ---\")\n",
    "# Método 1: % (Antigo)\n",
    "print(\"Método %: Nome: %s Idade: %d\" % (nome, idade))\n",
    "\n",
    "# Método 2: .format()\n",
    "print(\"Método .format(): Nome: {} Idade: {}\".format(nome, idade))\n",
    "print(\"Método .format() (índice): Nome: {1} Idade: {0}\".format(idade, nome))\n",
    "print(\"Método .format() (nome): Nome: {name} Idade: {age}\".format(age=idade, name=nome))\n",
    "print(\"Método .format() (dicionário): Nome: {nome} Idade: {idade}\".format(**dados))\n",
    "\n",
    "# Método 3: f-strings (Moderno e Recomendado - Python 3.6+)\n",
    "print(f\"Método f-string: Nome: {nome} Idade: {idade}\")\n",
    "# Formatação em f-strings\n",
    "print(f\"f-string (formatação): Nome: {nome} Idade: {idade} Saldo: {saldo:.2f}\")\n",
    "print(f\"f-string (formatação): Nome: {nome} Idade: {idade} Saldo: {saldo:10.1f}\")\n"
   ]
  },
  {
   "cell_type": "markdown",
   "metadata": {},
   "source": [
    " ## --- Tópico 3.8: Strings Multilinha ---\n",
    "\n",
    " Elas preservam quebras de linha e espaços em branco."
   ]
  },
  {
   "cell_type": "code",
   "execution_count": null,
   "metadata": {},
   "outputs": [],
   "source": [
    "print(f\"\\n--- Strings Multilinha ---\")\n",
    "mensagem_multi = f\"\"\"\n",
    "    Olá meu nome é {nome},\n",
    " Eu estou aprendendo Python.\n",
    "    Essa mensagem tem diferentes recuos.\n",
    "\"\"\"\n",
    "print(mensagem_multi)\n"
   ]
  },
  {
   "cell_type": "code",
   "execution_count": null,
   "metadata": {},
   "outputs": [],
   "source": [
    "print(\n",
    "    \"\"\"\n",
    "    ============= MENU =============\n",
    "\n",
    "    1 - Depositar\n",
    "    2 - Sacar\n",
    "    0 - Sair\n",
    "\n",
    "    ================================\n",
    "\n",
    "            Obrigado por usar nosso sistema!!!!\n",
    "\"\"\"\n",
    ")\n"
   ]
  },
  {
   "cell_type": "markdown",
   "metadata": {},
   "source": [
    " ==============================================================================\n",
    "\n",
    " # CADERNO 04: CONTROLE DE FLUXO (CONDICIONAIS IF, ELIF, ELSE)\n",
    "\n",
    " =============================================================================="
   ]
  },
  {
   "cell_type": "markdown",
   "metadata": {},
   "source": [
    " ## --- Tópico 4.0: Indentação e Blocos de Código ---\n",
    "\n",
    " Em Python, a indentação (espaços no início da linha) é usada para definir\n",
    "\n",
    " blocos de código.\n",
    "\n",
    "\n",
    "\n",
    " Diferente de outras linguagens que usam chaves `{}`, Python utiliza a\n",
    "\n",
    " indentação para indicar quais linhas de código pertencem a um\n",
    "\n",
    " determinado bloco (if, else, for, while, def, class, etc.)."
   ]
  },
  {
   "cell_type": "code",
   "execution_count": null,
   "metadata": {},
   "outputs": [],
   "source": [
    "# Exemplo de função (que será visto no CADERNO 08)\n",
    "def sacar(valor_saque):\n",
    "    # Início do bloco da função 'sacar' (Nível 1 de indentação)\n",
    "    saldo_bloco = 500\n",
    "    \n",
    "    if saldo_bloco >= valor_saque:\n",
    "        # Início do bloco 'if' (Nível 2 de indentação)\n",
    "        print(\"Valor sacado!\")\n",
    "        print(\"Retire o seu dinheiro na boca do caixa.\")\n",
    "    \n",
    "    # Esta linha está fora do 'if', mas dentro da função 'sacar' (Nível 1)\n",
    "    print(\"Obrigado por ser nosso cliente, tenha um bom dia!\") \n",
    "\n",
    "# Esta linha está fora de qualquer bloco (Nível 0)\n",
    "print(\"Olá! Seja bem-vindo ao nosso banco.\")\n",
    "sacar(100) # Chamando a função para testar\n"
   ]
  },
  {
   "cell_type": "markdown",
   "metadata": {},
   "source": [
    " ## --- Tópico 4.1: Estruturas Condicionais (if, else, elif) ---\n",
    "\n",
    " Estruturas condicionais permitem que o programa tome decisões com base\n",
    "\n",
    " em condições específicas.\n",
    "\n",
    "\n",
    "\n",
    " - `if`: Se esta condição for verdadeira, execute o bloco.\n",
    "\n",
    " - `elif`: (Senão, se) Se a primeira condição for falsa, teste esta nova condição.\n",
    "\n",
    " - `else`: (Senão) Se NENHUMA das condições anteriores for verdadeira, execute este bloco."
   ]
  },
  {
   "cell_type": "code",
   "execution_count": null,
   "metadata": {},
   "outputs": [],
   "source": [
    "# Exemplo 1: Média\n",
    "nota = 8.5\n",
    "if nota >= 7:\n",
    "    print('\\nAluno Aprovado!')\n",
    "else:\n",
    "    print('\\nAluno Reprovado.')\n"
   ]
  },
  {
   "cell_type": "code",
   "execution_count": null,
   "metadata": {},
   "outputs": [],
   "source": [
    "# Exemplo 2: Idade (várias condições)\n",
    "MAIOR_IDADE = 18\n",
    "IDADE_ESPECIAL = 17\n",
    "\n",
    "idade_input = int(input(\"Informe sua idade: \"))\n",
    "\n",
    "if idade_input >= MAIOR_IDADE:\n",
    "    print(\"Maior de idade, pode tirar a CHN.\")\n",
    "elif idade_input == IDADE_ESPECIAL:\n",
    "    print(\"Pode fazer aulas teóricas, mas não pode fazer aulas práticas.\")\n",
    "else:\n",
    "    print(\"Ainda não pode tirar a CNH.\")\n"
   ]
  },
  {
   "cell_type": "markdown",
   "metadata": {},
   "source": [
    " ## --- Tópico 4.2: Condicionais Aninhadas (if dentro de if) ---\n",
    "\n",
    " Podemos colocar estruturas 'if' dentro de outras para criar lógicas mais complexas."
   ]
  },
  {
   "cell_type": "code",
   "execution_count": null,
   "metadata": {},
   "outputs": [],
   "source": [
    "print('\\n--- Exemplo de Condicional Aninhada (Banco) ---')\n",
    "conta_normal = False\n",
    "conta_universitaria = False\n",
    "conta_especial = True\n",
    "\n",
    "saldo = 2000\n",
    "saque = 1500\n",
    "cheque_especial = 450\n",
    "\n",
    "if conta_normal:\n",
    "    if saldo >= saque:\n",
    "        print(\"Saque realizado com sucesso!\")\n",
    "    elif saque <= (saldo + cheque_especial):\n",
    "        print(\"Saque realizado com uso do cheque especial!\")\n",
    "    else:\n",
    "        print(\"Não foi possivel realizar o saque, saldo insuficiente!\")\n",
    "\n",
    "elif conta_universitaria:\n",
    "    if saldo >= saque:\n",
    "        print(\"Saque realizado com sucesso!\")\n",
    "    else:\n",
    "        print(\"Saldo insuficiente!\")\n",
    "\n",
    "elif conta_especial:\n",
    "    print(\"Conta especial selecionada! Saque de R$1500 realizado.\")\n",
    "\n",
    "else:\n",
    "    print(\"Sistema não reconheceu seu tipo de conta, entre em contato com o seu gerente.\")\n"
   ]
  },
  {
   "cell_type": "markdown",
   "metadata": {},
   "source": [
    " ## --- Tópico 4.3: Condicional Ternária ---\n",
    "\n",
    " A estrutura condicional ternária é uma forma concisa de escrever\n",
    "\n",
    " uma declaração `if-else` em uma única linha.\n",
    "\n",
    " É útil para atribuir valores a variáveis com base em uma condição.\n",
    "\n",
    "\n",
    "\n",
    " **Formato:** `valor_se_verdadeiro IF condicao ELSE valor_se_falso`"
   ]
  },
  {
   "cell_type": "code",
   "execution_count": null,
   "metadata": {},
   "outputs": [],
   "source": [
    "print('\\n--- Exemplo de Condicional Ternária ---')\n",
    "saldo_ternario = 2000\n",
    "saque_ternario = 2500\n",
    "\n",
    "status = \"Sucesso\" if saldo_ternario >= saque_ternario else \"Falha\"\n",
    "\n",
    "print(f\"Status da operação: {status} ao realizar o saque!\")\n"
   ]
  },
  {
   "cell_type": "markdown",
   "metadata": {},
   "source": [
    " ==============================================================================\n",
    "\n",
    " # CADERNO 05: ESTRUTURAS DE DADOS (LISTAS E TUPLAS)\n",
    "\n",
    " =============================================================================="
   ]
  },
  {
   "cell_type": "markdown",
   "metadata": {},
   "source": [
    " ## --- Tópico 5.1: Listas (List) - Criação ---\n",
    "\n",
    " Listas são estruturas que mantêm informações relevantes dentro de colchetes `[ ]`\n",
    "\n",
    " e separadas por vírgulas.\n",
    "\n",
    " - Podem conter qualquer tipo de dado, inclusive outras listas.\n",
    "\n",
    " - São **MUTÁVEIS** (podem ser alteradas após a criação)."
   ]
  },
  {
   "cell_type": "code",
   "execution_count": null,
   "metadata": {},
   "outputs": [],
   "source": [
    "# Criação de Listas\n",
    "lista_inteiros = [1, 2, 3, 4, 5]\n",
    "lista_strings = ['a', 'b', 'c', 'd']\n",
    "lista_mista = [1, 'a', 2.5, True]\n",
    "lista_vazia = []\n",
    "print(f\"Tipo da lista_mista: {type(lista_mista)}\")\n",
    "print(f\"Tamanho da lista_mista: {len(lista_mista)}\")\n"
   ]
  },
  {
   "cell_type": "code",
   "execution_count": null,
   "metadata": {},
   "outputs": [],
   "source": [
    "# Criando listas com construtores\n",
    "letras_lista = list(\"python\") # Pede um argumento iterável\n",
    "print(f\"Lista de 'python': {letras_lista}\")\n",
    "numeros_lista = list(range(10))\n",
    "print(f\"Lista de range(10): {numeros_lista}\")\n"
   ]
  },
  {
   "cell_type": "code",
   "execution_count": null,
   "metadata": {},
   "outputs": [],
   "source": [
    "# Exemplo de lista complexa\n",
    "carro = [\"Ferrari\", \"F8\", 4200000, 2020, 2900, \"São Paulo\", True]\n",
    "print(f\"Lista carro: {carro}\")\n"
   ]
  },
  {
   "cell_type": "markdown",
   "metadata": {},
   "source": [
    " ## --- Tópico 5.2: Indexação de Listas (Acesso e Matrizes) ---\n",
    "\n",
    " Para indexação, o primeiro elemento começa no índice 0, o segundo no índice 1.\n",
    "\n",
    " O último elemento pode ser acessado com o índice -1, o penúltimo com -2."
   ]
  },
  {
   "cell_type": "code",
   "execution_count": null,
   "metadata": {},
   "outputs": [],
   "source": [
    "lista = [10, 20, 30, 40, 50]\n",
    "print(f\"\\nPrimeiro elemento: {lista[0]}\")   # Primeiro elemento (índice 0)\n",
    "print(f\"Segundo elemento: {lista[1]}\")    # Segundo elemento (índice 1)\n",
    "print(f\"Último elemento: {lista[-1]}\")    # Último elemento\n",
    "print(f\"Penúltimo elemento: {lista[-2]}\")  # Penúltimo elemento\n"
   ]
  },
  {
   "cell_type": "code",
   "execution_count": null,
   "metadata": {},
   "outputs": [],
   "source": [
    "# Matriz (Listas Aninhadas)\n",
    "matriz = [\n",
    "    [1, \"a\", 2],\n",
    "    [\"b\", 3, 4],\n",
    "    [6, 5, \"c\"]\n",
    "]\n",
    "print(f\"\\nMatriz (linha 0): {matriz[0]}\")\n",
    "print(f\"Matriz (linha 0, coluna 0): {matriz[0][0]}\")\n",
    "print(f\"Matriz (linha 0, coluna -1): {matriz[0][-1]}\")\n",
    "print(f\"Matriz (linha -1, coluna -1): {matriz[-1][-1]}\")\n"
   ]
  },
  {
   "cell_type": "markdown",
   "metadata": {},
   "source": [
    " ## --- Tópico 5.3: Mutabilidade de Listas ---\n",
    "\n",
    " Listas são mutáveis, ou seja, podemos alterar seus elementos."
   ]
  },
  {
   "cell_type": "code",
   "execution_count": null,
   "metadata": {},
   "outputs": [],
   "source": [
    "alunos_mutavel = ['Ana', 'Bruno', 'Carlos']\n",
    "print(f\"\\nLista original: {alunos_mutavel}\")\n",
    "alunos_mutavel[0] = 'Diana'  # alterando o primeiro elemento\n",
    "print(f\"Após alteração: {alunos_mutavel}\")\n",
    "del alunos_mutavel[0]  # deletando o primeiro elemento\n",
    "print(f\"Após deletar o índice 0: {alunos_mutavel}\")\n"
   ]
  },
  {
   "cell_type": "markdown",
   "metadata": {},
   "source": [
    " ## --- Tópico 5.4: Fatiamento de Listas (Slicing) ---\n",
    "\n",
    " Funciona da mesma forma que o fatiamento de strings.\n",
    "\n",
    " Formato: `lista[inicio:fim:passo]`"
   ]
  },
  {
   "cell_type": "code",
   "execution_count": null,
   "metadata": {},
   "outputs": [],
   "source": [
    "lista_slice = [\"p\", \"y\", \"t\", \"h\", \"o\", \"n\"]\n",
    "print(f\"\\nLista para fatiar: {lista_slice}\")\n",
    "print(f\"Fatiamento (índice 2 até o fim): {lista_slice[2:]}\")\n",
    "print(f\"Fatiamento (início até índice 2): {lista_slice[:2]}\")\n",
    "print(f\"Fatiamento (índice 1 ao 3): {lista_slice[1:3]}\")\n",
    "print(f\"Fatiamento (índice 0 ao 3, passo 2): {lista_slice[0:3:2]}\")\n",
    "print(f\"Fatiamento (completo): {lista_slice[::]}\")\n",
    "print(f\"Fatiamento (invertido): {lista_slice[::-1]}\")\n"
   ]
  },
  {
   "cell_type": "markdown",
   "metadata": {},
   "source": [
    " ## --- Tópico 5.5: Iteração em Listas (for e enumerate) ---\n",
    "\n",
    " Você pode iterar sobre os elementos de uma lista usando um loop 'for'.\n",
    "\n",
    " A função `enumerate` retorna o índice e o valor."
   ]
  },
  {
   "cell_type": "code",
   "execution_count": null,
   "metadata": {},
   "outputs": [],
   "source": [
    "carros_iter = [\"gol\", \"celta\", \"palio\"]\n",
    "print(\"\\nIterando lista (só valor):\")\n",
    "for carro in carros_iter:\n",
    "    print(carro)\n",
    "\n",
    "print(\"\\nIterando lista (com enumerate - índice e valor):\")\n",
    "for indice, carro in enumerate(carros_iter):\n",
    "    print(f\"Índice {indice}: {carro}\")\n"
   ]
  },
  {
   "cell_type": "markdown",
   "metadata": {},
   "source": [
    " ## --- Tópico 5.6: List Comprehension (Compreensão de Listas) ---\n",
    "\n",
    " Usada quando queremos criar uma lista nova baseada em uma lista existente, de forma concisa (em uma linha)."
   ]
  },
  {
   "cell_type": "code",
   "execution_count": null,
   "metadata": {},
   "outputs": [],
   "source": [
    "print(\"\\n--- List Comprehension ---\")\n",
    "numeros_comp = [1, 30, 21, 2, 9, 65, 34]\n",
    "print(f\"Lista original: {numeros_comp}\")\n",
    "\n",
    "# Exemplo 1: Filtrar lista (só números pares)\n",
    "pares = [numero for numero in numeros_comp if numero % 2 == 0]\n",
    "print(f\"Lista de pares: {pares}\")\n",
    "\n",
    "# Exemplo 2: Modificar valores (calcular o quadrado)\n",
    "quadrado = [numero**2 for numero in numeros_comp]\n",
    "print(f\"Lista dos quadrados: {quadrado}\")\n"
   ]
  },
  {
   "cell_type": "markdown",
   "metadata": {},
   "source": [
    " ## --- Tópico 5.7: Métodos de Listas ---\n",
    "\n",
    " Funções úteis que podem ser chamadas a partir de um objeto lista."
   ]
  },
  {
   "cell_type": "code",
   "execution_count": null,
   "metadata": {},
   "outputs": [],
   "source": [
    "print(\"\\n--- Métodos de Listas ---\")\n",
    "\n",
    "# .append() - Adiciona um item ao final da lista\n",
    "lista_metodos = []\n",
    "lista_metodos.append(1)\n",
    "lista_metodos.append(\"Python\")\n",
    "lista_metodos.append([40, 30, 20])\n",
    "print(f\".append(): {lista_metodos}\")\n"
   ]
  },
  {
   "cell_type": "code",
   "execution_count": null,
   "metadata": {},
   "outputs": [],
   "source": [
    "# .clear() - Limpa todos os itens da lista\n",
    "lista_metodos.clear()\n",
    "print(f\".clear(): {lista_metodos}\")\n"
   ]
  },
  {
   "cell_type": "code",
   "execution_count": null,
   "metadata": {},
   "outputs": [],
   "source": [
    "# .copy() - Retorna uma cópia \"rasa\" (shallow copy) da lista\n",
    "lista_a = [1, \"Python\", [40, 30, 20]]\n",
    "lista_b = lista_a.copy()\n",
    "lista_c = lista_a # Isso NÃO é uma cópia, é uma referência\n",
    "\n",
    "lista_b.append(99) # Modifica só B\n",
    "lista_c.append(100) # Modifica C e A\n",
    "print(f\"Lista A (original, mas afetada por C): {lista_a}\")\n",
    "print(f\"Lista B (cópia): {lista_b}\")\n",
    "print(f\"Lista C (referência): {lista_c}\")\n"
   ]
  },
  {
   "cell_type": "code",
   "execution_count": null,
   "metadata": {},
   "outputs": [],
   "source": [
    "# .count() - Conta quantas vezes um elemento aparece\n",
    "cores_count = [\"vermelho\", \"azul\", \"verde\", \"azul\"]\n",
    "print(f\"\\n.count('azul'): {cores_count.count('azul')}\")\n"
   ]
  },
  {
   "cell_type": "code",
   "execution_count": null,
   "metadata": {},
   "outputs": [],
   "source": [
    "# .extend() - Adiciona os elementos de outra lista (ou iterável) ao final\n",
    "linguagens_ext = [\"python\", \"js\", \"c\"]\n",
    "print(f\"\\n.extend() - Antes: {linguagens_ext}\")\n",
    "linguagens_ext.extend([\"java\", \"csharp\"])\n",
    "print(f\".extend() - Depois: {linguagens_ext}\")\n"
   ]
  },
  {
   "cell_type": "code",
   "execution_count": null,
   "metadata": {},
   "outputs": [],
   "source": [
    "# .index() - Retorna o índice da *primeira* ocorrência do elemento\n",
    "print(f\"\\n.index('java'): {linguagens_ext.index('java')}\")\n"
   ]
  },
  {
   "cell_type": "code",
   "execution_count": null,
   "metadata": {},
   "outputs": [],
   "source": [
    "# .pop() - Remove e retorna um elemento pelo índice (padrão: -1, o último)\n",
    "print(f\"\\n.pop() - Antes: {linguagens_ext}\")\n",
    "item_removido = linguagens_ext.pop() # Remove 'csharp'\n",
    "print(f\"Item removido (pop()): {item_removido}\")\n",
    "item_removido_indice = linguagens_ext.pop(0) # Remove 'python'\n",
    "print(f\"Item removido (pop(0)): {item_removido_indice}\")\n",
    "print(f\".pop() - Depois: {linguagens_ext}\")\n"
   ]
  },
  {
   "cell_type": "code",
   "execution_count": null,
   "metadata": {},
   "outputs": [],
   "source": [
    "# .remove() - Remove a *primeira* ocorrência do *valor* especificado\n",
    "linguagens_rem = [\"python\", \"js\", \"c\", \"java\", \"csharp\", \"c\"]\n",
    "print(f\"\\n.remove() - Antes: {linguagens_rem}\")\n",
    "linguagens_rem.remove(\"c\") # Remove apenas o primeiro \"c\"\n",
    "print(f\".remove() - Depois: {linguagens_rem}\")\n"
   ]
  },
  {
   "cell_type": "code",
   "execution_count": null,
   "metadata": {},
   "outputs": [],
   "source": [
    "# .reverse() - Inverte os elementos da lista (modifica a própria lista)\n",
    "linguagens_rev = [\"python\", \"js\", \"c\", \"java\", \"csharp\"]\n",
    "print(f\"\\n.reverse() - Antes: {linguagens_rev}\")\n",
    "linguagens_rev.reverse()\n",
    "print(f\".reverse() - Depois: {linguagens_rev}\")\n"
   ]
  },
  {
   "cell_type": "code",
   "execution_count": null,
   "metadata": {},
   "outputs": [],
   "source": [
    "# .sort() - Ordena a lista (modifica a própria lista)\n",
    "linguagens_sort = [\"python\", \"js\", \"c\", \"java\", \"csharp\"]\n",
    "print(f\"\\n.sort() - Original: {linguagens_sort}\")\n",
    "\n",
    "linguagens_sort.sort() # Ordem alfabética\n",
    "print(f\".sort() (alfabética): {linguagens_sort}\")\n",
    "\n",
    "linguagens_sort.sort(reverse=True) # Ordem alfabética inversa\n",
    "print(f\".sort(reverse=True): {linguagens_sort}\")\n"
   ]
  },
  {
   "cell_type": "code",
   "execution_count": null,
   "metadata": {},
   "outputs": [],
   "source": [
    "# .sort() por tamanho (usando 'key' com função lambda)\n",
    "linguagens_sort.sort(key=lambda x: len(x)) # Do menor para o maior\n",
    "print(f\".sort(key=len): {linguagens_sort}\")\n",
    "\n",
    "linguagens_sort.sort(key=lambda x: len(x), reverse=True) # Do maior para o menor\n",
    "print(f\".sort(key=len, reverse=True): {linguagens_sort}\")\n"
   ]
  },
  {
   "cell_type": "code",
   "execution_count": null,
   "metadata": {},
   "outputs": [],
   "source": [
    "# len() - Não é um método, mas uma função. Retorna o tamanho.\n",
    "print(f\"\\nFunção len(): {len(linguagens_sort)}\")\n"
   ]
  },
  {
   "cell_type": "markdown",
   "metadata": {},
   "source": [
    " ## --- Tópico 5.8: Tuplas (Tuple) ---\n",
    "\n",
    " Tuplas são estruturas de dados **IMUTÁVEIS**, ou seja, não podem ser\n",
    "\n",
    " alteradas após a criação.\n",
    "\n",
    " - São definidas com parênteses `( )`.\n",
    "\n",
    " - Podem conter qualquer tipo de dado."
   ]
  },
  {
   "cell_type": "code",
   "execution_count": null,
   "metadata": {},
   "outputs": [],
   "source": [
    "tupla = (1, 2, 3, 'a', 'b', 'c')\n",
    "print(f\"\\nTupla: {tupla}\")\n",
    "print(f\"Tipo: {type(tupla)}\")\n",
    "print(f\"Tamanho: {len(tupla)}\")\n"
   ]
  },
  {
   "cell_type": "code",
   "execution_count": null,
   "metadata": {},
   "outputs": [],
   "source": [
    "# Indexação de Tuplas (igual às listas)\n",
    "print(f'Valores: {tupla[0]}, {tupla[1]}, {tupla[2]}')  # Acessando elementos\n",
    "print(f'Último valor: {tupla[-1]}')  # Acessando o último elemento\n"
   ]
  },
  {
   "cell_type": "code",
   "execution_count": null,
   "metadata": {},
   "outputs": [],
   "source": [
    "# Tentativa de alteração (resultará em erro!)\n",
    "# tupla[0] = 10  # Isso gera um TypeError, pois tuplas são imutáveis\n"
   ]
  },
  {
   "cell_type": "markdown",
   "metadata": {},
   "source": [
    " ==============================================================================\n",
    "\n",
    " # CADERNO 06: ESTRUTURAS DE DADOS (DICIONÁRIOS)\n",
    "\n",
    " =============================================================================="
   ]
  },
  {
   "cell_type": "markdown",
   "metadata": {},
   "source": [
    " ## --- Tópico 6.1: Criando Dicionários (dict) ---\n",
    "\n",
    " Dicionários em Python são coleções não ordenadas (em Python < 3.7)\n",
    "\n",
    " de pares **chave-valor** `{}`.\n",
    "\n",
    " - São mutáveis.\n",
    "\n",
    " - As chaves devem ser únicas e imutáveis (strings, números, tuplas).\n",
    "\n",
    " - Os valores podem ser de qualquer tipo."
   ]
  },
  {
   "cell_type": "code",
   "execution_count": null,
   "metadata": {},
   "outputs": [],
   "source": [
    "print(\"\\n--- Criando Dicionários ---\")\n",
    "# Forma 1: Usando chaves {}\n",
    "pessoa = {\"nome\": \"Guilherme\", \"idade\": 28}\n",
    "print(pessoa)\n",
    "\n",
    "# Forma 2: Usando a função dict()\n",
    "pessoa = dict(nome=\"Guilherme\", idade=28)\n",
    "print(pessoa)\n",
    "\n",
    "# Adicionando um novo par chave-valor\n",
    "pessoa[\"telefone\"] = \"3333-1234\"\n",
    "print(f\"Adicionando telefone: {pessoa}\")\n"
   ]
  },
  {
   "cell_type": "markdown",
   "metadata": {},
   "source": [
    " ## --- Tópico 6.2: Acessando e Modificando Dados ---"
   ]
  },
  {
   "cell_type": "code",
   "execution_count": null,
   "metadata": {},
   "outputs": [],
   "source": [
    "print(\"\\n--- Acessando Dicionários ---\")\n",
    "dados = {\"nome\": \"Guilherme\", \"idade\": 28, \"telefone\": \"3333-1234\"}\n",
    "\n",
    "# Acessando valores\n",
    "print(f\"Nome: {dados['nome']}\")\n",
    "print(f\"Idade: {dados['idade']}\")\n",
    "\n",
    "# Modificando valores\n",
    "dados[\"nome\"] = \"Maria\"\n",
    "dados[\"idade\"] = 18\n",
    "dados[\"telefone\"] = \"9988-1781\"\n",
    "print(f\"Dados modificados: {dados}\")\n"
   ]
  },
  {
   "cell_type": "markdown",
   "metadata": {},
   "source": [
    " ## --- Tópico 6.3: Dicionários Aninhados ---\n",
    "\n",
    " Dicionários aninhados são dicionários que contêm outros\n",
    "\n",
    " dicionários como valores."
   ]
  },
  {
   "cell_type": "code",
   "execution_count": null,
   "metadata": {},
   "outputs": [],
   "source": [
    "print(\"\\n--- Dicionários Aninhados ---\")\n",
    "contatos = {\n",
    "    \"guilherme@gmail.com\": {\"nome\": \"Guilherme\", \"telefone\": \"3333-2221\"},\n",
    "    \"giovanna@gmail.com\": {\"nome\": \"Giovanna\", \"telefone\": \"3443-2121\"},\n",
    "    \"chappie@gmail.com\": {\"nome\": \"Chappie\", \"telefone\": \"3344-9871\"},\n",
    "    \"melaine@gmail.com\": {\"nome\": \"Melaine\", \"telefone\": \"3333-7766\"},\n",
    "}\n",
    "# Acessando um valor aninhado\n",
    "telefone = contatos[\"giovanna@gmail.com\"][\"telefone\"]\n",
    "print(f\"Telefone da Giovanna: {telefone}\")\n"
   ]
  },
  {
   "cell_type": "markdown",
   "metadata": {},
   "source": [
    " ## --- Tópico 6.4: Iterando Dicionários ---"
   ]
  },
  {
   "cell_type": "code",
   "execution_count": null,
   "metadata": {},
   "outputs": [],
   "source": [
    "print(\"\\n--- Iterando Dicionários ---\")\n",
    "# Iterar sobre as chaves (padrão)\n",
    "print(\"Iterando Chaves:\")\n",
    "for chave in contatos:\n",
    "    print(f\"Chave: {chave} | Valor: {contatos[chave]}\")\n"
   ]
  },
  {
   "cell_type": "code",
   "execution_count": null,
   "metadata": {},
   "outputs": [],
   "source": [
    "print(\"\\nIterando Itens (.items()):\")\n",
    "# Iterar sobre chave e valor (método .items())\n",
    "for chave, valor in contatos.items():\n",
    "    print(f\"Chave: {chave} | Valor: {valor}\")\n"
   ]
  },
  {
   "cell_type": "markdown",
   "metadata": {},
   "source": [
    " ## --- Tópico 6.5: Métodos de Dicionários ---"
   ]
  },
  {
   "cell_type": "code",
   "execution_count": null,
   "metadata": {},
   "outputs": [],
   "source": [
    "print(\"\\n--- Métodos de Dicionários ---\")\n",
    "contatos_metodos = {\n",
    "    \"guilherme@gmail.com\": {\"nome\": \"Guilherme\", \"telefone\": \"3333-2221\"}\n",
    "}\n",
    "\n",
    "# .copy() - Retorna uma cópia \"rasa\"\n",
    "copia = contatos_metodos.copy()\n",
    "copia[\"guilherme@gmail.com\"] = {\"nome\": \"Gui\"}\n",
    "print(f\"Original: {contatos_metodos}\")\n",
    "print(f\"Cópia modificada: {copia}\")\n"
   ]
  },
  {
   "cell_type": "code",
   "execution_count": null,
   "metadata": {},
   "outputs": [],
   "source": [
    "# .fromkeys() - Cria um novo dicionário com chaves de um iterável\n",
    "chaves = [\"nome\", \"telefone\"]\n",
    "novo_dict = dict.fromkeys(chaves, \"vazio\") # Valor padrão \"vazio\"\n",
    "print(f\"\\n.fromkeys(): {novo_dict}\")\n"
   ]
  },
  {
   "cell_type": "code",
   "execution_count": null,
   "metadata": {},
   "outputs": [],
   "source": [
    "# .get() - Acessa um valor sem dar erro (KeyError) se a chave não existir\n",
    "print(f\"\\n.get('chave_inexistente'): {contatos_metodos.get('chave_inexistente')}\") # Retorna None\n",
    "print(f\".get('chave', {{}}): {contatos_metodos.get('chave', {})}\") # Retorna valor padrão {}\n",
    "print(f\".get('guilherme...'): {contatos_metodos.get('guilherme@gmail.com')}\")\n"
   ]
  },
  {
   "cell_type": "code",
   "execution_count": null,
   "metadata": {},
   "outputs": [],
   "source": [
    "# .keys() - Retorna uma visão das chaves\n",
    "print(f\"\\n.keys(): {contatos_metodos.keys()}\")\n",
    "\n",
    "# .values() - Retorna uma visão dos valores\n",
    "print(f\"\\n.values(): {contatos_metodos.values()}\")\n",
    "\n",
    "# .items() - Retorna uma visão dos pares (chave, valor)\n",
    "print(f\"\\n.items(): {contatos_metodos.items()}\")\n"
   ]
  },
  {
   "cell_type": "code",
   "execution_count": null,
   "metadata": {},
   "outputs": [],
   "source": [
    "# .pop() - Remove uma chave e retorna o valor.\n",
    "valor_pop = contatos_metodos.pop(\"guilherme@gmail.com\", \"Não achou\")\n",
    "print(f\"\\n.pop() - Valor removido: {valor_pop}\")\n",
    "print(f\"Dicionário após pop: {contatos_metodos}\")\n",
    "valor_pop_default = contatos_metodos.pop(\"chave_inexistente\", \"Valor Padrão\")\n",
    "print(f\"Pop com default: {valor_pop_default}\")\n"
   ]
  },
  {
   "cell_type": "code",
   "execution_count": null,
   "metadata": {},
   "outputs": [],
   "source": [
    "# .popitem() - Remove e retorna o último par (chave, valor) inserido (LIFO)\n",
    "contatos_popitem = {\"a@gmail.com\": 1, \"b@gmail.com\": 2}\n",
    "print(f\"\\n.popitem() - Dicionário antes: {contatos_popitem}\")\n",
    "item_removido = contatos_popitem.popitem()\n",
    "print(f\"Item removido: {item_removido}\")\n",
    "print(f\"Dicionário depois: {contatos_popitem}\")\n"
   ]
  },
  {
   "cell_type": "code",
   "execution_count": null,
   "metadata": {},
   "outputs": [],
   "source": [
    "# .setdefault() - Insere chave com valor se a chave não existir. Retorna o valor.\n",
    "contato_set = {\"nome\": \"Guilherme\", \"telefone\": \"3333-2221\"}\n",
    "print(f\"\\n.setdefault() - Dicionário: {contato_set}\")\n",
    "# 'nome' já existe, então retorna o valor atual e não modifica\n",
    "contato_set.setdefault(\"nome\", \"Giovanna\") \n",
    "print(f\"Após setdefault('nome'): {contato_set}\")\n",
    "# 'idade' não existe, então insere e retorna o valor\n",
    "contato_set.setdefault(\"idade\", 28)\n",
    "print(f\"Após setdefault('idade'): {contato_set}\")\n"
   ]
  },
  {
   "cell_type": "code",
   "execution_count": null,
   "metadata": {},
   "outputs": [],
   "source": [
    "# .update() - Atualiza o dicionário com pares de outro dicionário\n",
    "contatos_update = {\"guilherme@gmail.com\": {\"nome\": \"Guilherme\"}}\n",
    "print(f\"\\n.update() - Antes: {contatos_update}\")\n",
    "# Atualiza/sobrescreve o valor\n",
    "contatos_update.update({\"guilherme@gmail.com\": {\"nome\": \"Gui\"}})\n",
    "# Adiciona novo par\n",
    "contatos_update.update({\"giovanna@gmail.com\": {\"nome\": \"Giovanna\"}})\n",
    "print(f\"Depois de update: {contatos_update}\")\n"
   ]
  },
  {
   "cell_type": "code",
   "execution_count": null,
   "metadata": {},
   "outputs": [],
   "source": [
    "# 'in' (Operador de Associação) - Verifica se a CHAVE existe\n",
    "print(f\"\\nOperador 'in': 'giovanna@gmail.com' in contatos_update? {'giovanna@gmail.com' in contatos_update}\")\n",
    "print(f\"Operador 'in': 'idade' in contato_set? {'idade' in contato_set}\")\n"
   ]
  },
  {
   "cell_type": "code",
   "execution_count": null,
   "metadata": {},
   "outputs": [],
   "source": [
    "# del - Remove um par chave-valor\n",
    "print(f\"\\n'del' - Antes: {contatos_update}\")\n",
    "del contatos_update[\"giovanna@gmail.com\"] # Removi o que adicionei com update\n",
    "print(f\"'del' - Depois: {contatos_update}\")\n"
   ]
  },
  {
   "cell_type": "code",
   "execution_count": null,
   "metadata": {},
   "outputs": [],
   "source": [
    "# .clear() - Limpa o dicionário\n",
    "contatos_update.clear()\n",
    "print(f\"\\n.clear(): {contatos_update}\")\n"
   ]
  },
  {
   "cell_type": "markdown",
   "metadata": {},
   "source": [
    " ==============================================================================\n",
    "\n",
    " # CADERNO 07: LAÇOS DE REPETIÇÃO (LOOPS FOR E WHILE)\n",
    "\n",
    " =============================================================================="
   ]
  },
  {
   "cell_type": "markdown",
   "metadata": {},
   "source": [
    " ## --- Tópico 7.1: Loop 'for' e a Função range() ---\n",
    "\n",
    " O loop `for` é usado para iterar sobre uma sequência (como uma lista, tupla,\n",
    "\n",
    " string, dicionário ou um 'range').\n",
    "\n",
    "\n",
    "\n",
    " A função `range()` gera uma sequência de números:\n",
    "\n",
    " - `range(stop)`: De 0 até stop-1.\n",
    "\n",
    " - `range(start, stop)`: De start até stop-1.\n",
    "\n",
    " - `range(start, stop, step)`: De start até stop-1, pulando de 'step' em 'step'."
   ]
  },
  {
   "cell_type": "code",
   "execution_count": null,
   "metadata": {},
   "outputs": [],
   "source": [
    "# Usando a função range()\n",
    "print(f'\\nExemplo 1 (range(10)): {list(range(10))}')\n",
    "print(f'Exemplo 2 (range(5, 12)): {list(range(5, 12))}')\n",
    "print(f'Exemplo 3 (range(2, 21, 2)): {list(range(2, 21, 2))}')\n",
    "print(f'Exemplo 4 (range(10, 0, -1)): {list(range(10, 0, -1))}')\n",
    "print(f'Exemplo 5 (Tabuada do 5): {list(range(0, 51, 5))}')\n"
   ]
  },
  {
   "cell_type": "code",
   "execution_count": null,
   "metadata": {},
   "outputs": [],
   "source": [
    "# Loop 'for' com range\n",
    "print(\"\\nLoop for com range(10):\")\n",
    "for n in range(10):\n",
    "    print(f'O valor de n é: {n}')\n"
   ]
  },
  {
   "cell_type": "code",
   "execution_count": null,
   "metadata": {},
   "outputs": [],
   "source": [
    "# Loop 'for' para iterar sobre uma string (Ex: Vogais)\n",
    "texto_vogais = input('\\nInforme um texto: ')\n",
    "VOGAIS = 'AEIOU'\n",
    "print(\"Vogais encontradas:\")\n",
    "for letra in texto_vogais: \n",
    "    if letra.upper() in VOGAIS:\n",
    "        print (letra, end = \" \") # 'end=\" \"' impede a quebra de linha\n",
    "else: \n",
    "    # O 'else' do 'for' executa se o loop terminar *sem* um 'break'.\n",
    "    print('\\n(Fim da busca por vogais)')\n"
   ]
  },
  {
   "cell_type": "markdown",
   "metadata": {},
   "source": [
    " ## --- Tópico 7.2: Loop 'while' ---\n",
    "\n",
    " Quando não sabemos o número exato de repetições, usamos o loop `while`.\n",
    "\n",
    " Ele continua executando ENQUANTO uma condição for verdadeira. Além de usar uma condição booleana, podemos usar variáveis de controle.\n",
    "\n",
    "    Exemplo em pseudocódigo:\n",
    "    INÍCIO\n",
    "        DEFINA contador = 0\n",
    "        ENQUANTO contador < 5 FAÇA\n",
    "            ESCREVA \"Contador é:\", contador\n",
    "            contador = contador + 1\n",
    "        FIM ENQUANTO\n",
    "    \n",
    "    INICIO\n",
    "    Enquanto não chegar na maça\n",
    "        se chão\n",
    "            passo  \n",
    "        se buraco\n",
    "            pule\n",
    "        se moeda\n",
    "            pegue\n",
    "    FIM "
   ]
  },
  {
   "cell_type": "code",
   "execution_count": null,
   "metadata": {},
   "outputs": [],
   "source": [
    "# Exemplo 1: Contagem\n",
    "print(\"\\nContagem de 0 a 9 (com while):\")\n",
    "n_while = 0  # 1. Inicializar\n",
    "while n_while < 10:  # 2. Condição\n",
    "    print(f'O valor de n é: {n_while}')\n",
    "    n_while += 1  # 3. Incrementar (para evitar loop infinito)\n",
    "print('Fim!')\n"
   ]
  },
  {
   "cell_type": "code",
   "execution_count": null,
   "metadata": {},
   "outputs": [],
   "source": [
    "# Exemplo 2: Menu Interativo\n",
    "print(\"\\n--- Menu Interativo (while) ---\")\n",
    "opcao = -1 \n",
    "while opcao != 0: \n",
    "    opcao = int(input(\"[1] Sacar \\n[2] Extrato \\n[0] Sair \\n\"))\n",
    "    \n",
    "    if opcao == 1: \n",
    "        print('Sacando ....')\n",
    "    elif opcao == 2: \n",
    "        print ('Exibindo o extrato...')\n",
    "else: \n",
    "    # O 'else' do 'while' executa se o loop terminar porque a condição se tornou 'False'\n",
    "    print ('Obrigada por utilizar nosso banco')\n"
   ]
  },
  {
   "cell_type": "code",
   "execution_count": null,
   "metadata": {},
   "outputs": [],
   "source": [
    "# Exemplo 3: Programa usando for \n",
    "# for c in range (1,10):\n",
    "    # print(c)\n",
    "# print('Fim')\n",
    "\n",
    "# Com while \n",
    "c = 1\n",
    "while c < 10:\n",
    "    print(c)\n",
    "    c += 1\n",
    "print('Fim')"
   ]
  },
  {
   "cell_type": "code",
   "execution_count": null,
   "metadata": {},
   "outputs": [],
   "source": [
    "# Exemplo 4: \n",
    "n = 1\n",
    "while n != 0: # condição de parada\n",
    "    n = int(input('Digite um número '))\n",
    "print('Fim')"
   ]
  },
  {
   "cell_type": "code",
   "execution_count": null,
   "metadata": {},
   "outputs": [],
   "source": [
    "# Exemplo 5:\n",
    "r = 'S'\n",
    "while r =='S':\n",
    "    n = int(input('Digite um número '))\n",
    "    r = input('Quer continuar? [S/N/]').upper()\n",
    "print('Fim')"
   ]
  },
  {
   "cell_type": "code",
   "execution_count": 27,
   "metadata": {},
   "outputs": [
    {
     "name": "stdout",
     "output_type": "stream",
     "text": [
      "Você digitou 1 números pares e 1 números ímpares.\n"
     ]
    }
   ],
   "source": [
    "# Exemplo 6: \n",
    "n = 1 \n",
    "par = 0 \n",
    "impar = 0\n",
    "while n != 0:\n",
    "    n = int(input('Digite um número: '))\n",
    "    if n % 2 == 0:\n",
    "        if n != 0:\n",
    "            par += 1\n",
    "        else: \n",
    "            impar += 1\n",
    "print(f'Você digitou {par} números pares e {impar} números ímpares.')"
   ]
  },
  {
   "cell_type": "markdown",
   "metadata": {},
   "source": [
    " ## --- Tópico 7.3: Comandos de Controle (break, continue) ---\n",
    "\n",
    " - `break`: Interrompe (quebra) o loop imediatamente.\n",
    "\n",
    " - `continue`: Pula para a próxima iteração do loop."
   ]
  },
  {
   "cell_type": "code",
   "execution_count": null,
   "metadata": {},
   "outputs": [],
   "source": [
    "print(\"\\n--- Exemplo de 'break' ---\")\n",
    "# 'break' para o loop 'for' quando encontrar 10\n",
    "for numero in range(100):\n",
    "    if numero == 10:\n",
    "        break # Para o loop\n",
    "    print(numero, end=\" \")\n",
    "print(\"\\n(Encontrou o 10 e parou)\")\n"
   ]
  },
  {
   "cell_type": "code",
   "execution_count": null,
   "metadata": {},
   "outputs": [],
   "source": [
    "# 'break' para o loop 'while True' (loop infinito)\n",
    "print(\"\\n--- Exemplo de 'while True' com 'break' ---\")\n",
    "while True: \n",
    "    numero_break = int(input('Informe um número (10 para sair): '))\n",
    "    if numero_break == 10:\n",
    "        break # Quebra o loop infinito\n",
    "    print (f\"Você digitou: {numero_break}\")\n",
    "print(\"(Saiu do loop 'while True')\")\n"
   ]
  },
  {
   "cell_type": "code",
   "execution_count": null,
   "metadata": {},
   "outputs": [],
   "source": [
    "print(\"\\n--- Exemplo de 'continue' ---\")\n",
    "# 'continue' pula os números pares\n",
    "for numero_cont in range(20):\n",
    "    if numero_cont % 2 == 0:\n",
    "        continue # Pula para a próxima iteração\n",
    "    print (numero_cont, end=\" \")\n",
    "print(\"\\n(Mostrou apenas os ímpares)\")\n"
   ]
  },
  {
   "cell_type": "markdown",
   "metadata": {},
   "source": [
    " ==============================================================================\n",
    "\n",
    " # CADERNO 08: FUNÇÕES E ESCOPO\n",
    "\n",
    " =============================================================================="
   ]
  },
  {
   "cell_type": "markdown",
   "metadata": {},
   "source": [
    " ## --- Tópico 8.1: Escopo de Variáveis (Global vs. Local) ---\n",
    "\n",
    " O escopo de uma variável define onde ela pode ser acessada no código.\n",
    "\n",
    "\n",
    "\n",
    " - **Variáveis Globais:** Declaradas fora de qualquer função.\n",
    "\n",
    " - **Variáveis Locais:** Declaradas dentro de uma função. Só podem ser acessadas\n",
    "\n",
    "   DENTRO daquela função."
   ]
  },
  {
   "cell_type": "code",
   "execution_count": null,
   "metadata": {},
   "outputs": [],
   "source": [
    "# Variável Global\n",
    "saudacao = \"Olá, mundo!\"\n",
    "nome_escopo = \"Aluno DSA\"  # Variável Global\n",
    "\n",
    "# Função (def)\n",
    "def funcao_dsa(): \n",
    "    # Variável Local (só existe dentro de 'funcao_dsa')\n",
    "    nome_escopo = \"Duda\" \n",
    "    print(f\"\\nDentro da função (local): {nome_escopo}\")\n",
    "    print(f\"Acessando a variável global de dentro da função: {saudacao}\")\n"
   ]
  },
  {
   "cell_type": "markdown",
   "metadata": {},
   "source": [
    " ## --- Tópico 8.2: Chamando a Função ---\n",
    "\n",
    " Para executar o código dentro de uma função, precisamos \"chamá-la\"."
   ]
  },
  {
   "cell_type": "code",
   "execution_count": null,
   "metadata": {},
   "outputs": [],
   "source": [
    "funcao_dsa()  # Aqui o código da função é executado\n",
    "\n",
    "print(f\"\\nFora da função (global): {saudacao}\")\n",
    "print(f\"Fora da função (global): {nome_escopo}\")  # Imprime o valor global\n"
   ]
  },
  {
   "cell_type": "markdown",
   "metadata": {},
   "source": [
    " ==============================================================================\n",
    "\n",
    " # CADERNO 09: FERRAMENTAS PYTHON (DIR E HELP)\n",
    "\n",
    " =============================================================================="
   ]
  },
  {
   "cell_type": "markdown",
   "metadata": {},
   "source": [
    " ## --- Tópico 9.1: Modo Interativo ---\n",
    "\n",
    " (Conceito)\n",
    "\n",
    " Interpretador Python permite o usuário a executar comandos diretamente,\n",
    "\n",
    " linha por linha, e ver os resultados imediatamente.\n",
    "\n",
    " Isso é útil para testes rápidos, experimentação e aprendizado."
   ]
  },
  {
   "cell_type": "markdown",
   "metadata": {},
   "source": [
    " ## --- Tópico 9.2: Função dir() ---\n",
    "\n",
    " A função `dir()` é usada para listar os atributos e métodos disponíveis\n",
    "\n",
    " para um objeto específico. Se nenhum objeto for fornecido, `dir()`\n",
    "\n",
    " retornará a lista de nomes no escopo atual."
   ]
  },
  {
   "cell_type": "code",
   "execution_count": null,
   "metadata": {},
   "outputs": [],
   "source": [
    "print(f\"\\n--- Função dir() ---\")\n",
    "# Descomente as linhas abaixo para testar\n",
    "# print(dir()) # Mostra nomes no escopo atual\n",
    "# print(dir(100)) # Mostra métodos e atributos de um inteiro\n",
    "# print(dir(\"texto\")) # Mostra métodos e atributos de uma string\n"
   ]
  },
  {
   "cell_type": "markdown",
   "metadata": {},
   "source": [
    " ## --- Tópico 9.3: Função help() ---\n",
    "\n",
    " A função `help()` é usada para exibir a documentação de um objeto,\n",
    "\n",
    " módulo, função ou classe."
   ]
  },
  {
   "cell_type": "code",
   "execution_count": null,
   "metadata": {},
   "outputs": [],
   "source": [
    "print(f\"\\n--- Função help() ---\")\n",
    "# Para usar o help() de forma interativa, descomente a linha abaixo.\n",
    "# (No modo interativo, pressione 'q' para sair da ajuda).\n",
    "# help(print)\n",
    "# help(list.sort)\n"
   ]
  },
  {
   "cell_type": "markdown",
   "metadata": {},
   "source": [
    " ==============================================================================\n",
    "\n",
    " # CADERNO 10: DESAFIOS E PROJETOS (APLICANDO CONCEITOS)\n",
    "\n",
    " =============================================================================="
   ]
  },
  {
   "cell_type": "markdown",
   "metadata": {},
   "source": [
    " ## --- Tópico 10.1: Desafio Módulo 1 (Nome e Idade) ---\n",
    "\n",
    " Crie um programa que:\n",
    "\n",
    " * Pede pelo seu nome e idade\n",
    "\n",
    " * Da oi para você\n",
    "\n",
    " * Conta quantas letras seu nome possui\n",
    "\n",
    " * Fala quantos anos você terá daqui a 5 anos."
   ]
  },
  {
   "cell_type": "code",
   "execution_count": null,
   "metadata": {},
   "outputs": [],
   "source": [
    "print(\"\\n--- Desafio Módulo 1 (Executar se desejar) ---\")\n",
    "# Descomente as linhas abaixo para executar o desafio\n",
    "# nome_desafio1 = input(\"Qual o seu nome?\\nDigite aqui: \")\n",
    "# idade_desafio1 = int(input('Qual a sua idade?\\nDigite aqui: '))\n",
    "# tamanho_nome = len(nome_desafio1)\n",
    "# idade_futura = idade_desafio1 + 5\n",
    "# print('-' * 10)\n",
    "# print(f'Olá, {nome_desafio1}! Seu nome possui {tamanho_nome} letras.')\n",
    "# print(f'Daqui 5 anos, você terá {idade_futura} anos.')\n"
   ]
  },
  {
   "cell_type": "markdown",
   "metadata": {},
   "source": [
    " ## --- Tópico 10.2: Desafio Módulo 2 (Login e Senha) ---\n",
    "\n",
    " Crie um programa que:\n",
    "\n",
    " * Peça ao usuário para digitar um nome de usuário e uma senha.\n",
    "\n",
    " * Se ambos forem corretos, exibe uma mensagem de sucesso.\n",
    "\n",
    " * Caso contrário, exibe uma mensagem de erro diferente\n",
    "\n",
    "   para usuário ou senha incorretos."
   ]
  },
  {
   "cell_type": "code",
   "execution_count": null,
   "metadata": {},
   "outputs": [],
   "source": [
    "print(\"\\n--- Desafio Módulo 2 (Login - Executar se desejar) ---\")\n",
    "# Descomente as linhas abaixo para executar o desafio\n",
    "# usuario_correto_d2 = \"admin\"\n",
    "# senha_correta_d2 = \"12345\"\n",
    "# usuario_d2 = input('Nome de usuário: ')\n",
    "# senha_d2 = input('Senha: ')\n",
    "# \n",
    "# if usuario_d2 == usuario_correto_d2:\n",
    "#     if senha_d2 == senha_correta_d2:\n",
    "#         print(f\"Login bem-sucedido!, seja bem-vindo {usuario_d2}\")\n",
    "#     else:\n",
    "#         print('Senha incorreta.')\n",
    "# else:\n",
    "#     print(f'Usuário {usuario_d2} não cadastrado no sistema.')\n"
   ]
  },
  {
   "cell_type": "markdown",
   "metadata": {},
   "source": [
    " ## --- Tópico 10.3: Desafio Módulo 2 (Acerte o Número - Versão com Loop 'for') ---"
   ]
  },
  {
   "cell_type": "code",
   "execution_count": null,
   "metadata": {},
   "outputs": [],
   "source": [
    "print(\"\\n--- Desafio (Acerte o Número - Versão com Loop 'for') ---\")\n",
    "# Descomente as linhas abaixo para executar o desafio\n",
    "# numero_secreto_d3_loop = 13\n",
    "# usuario_d3 = input('Qual o seu nome? ')\n",
    "# print(f' Olá {usuario_d3}, 3 tentativas para adivinhar o número (1-20).\\n')\n",
    "# \n",
    "# acertou = False # Flag\n",
    "# \n",
    "# for tentativa in range(3):\n",
    "#     palpite = int(input(f'Qual é o número secreto? (Tentativa {tentativa + 1}/3) '))\n",
    "#     \n",
    "#     if palpite == numero_secreto_d3_loop:\n",
    "#         print(f' Parabéns {usuario_d3}! Você acertou!')\n",
    "#         acertou = True\n",
    "#         break  # Interrompe o loop\n",
    "#     elif palpite < numero_secreto_d3_loop:\n",
    "#         print('Errado! O número secreto é maior.')\n",
    "#     else: # palpite > numero_secreto_d3_loop\n",
    "#         print('Errado! O número secreto é menor.')\n",
    "# \n",
    "# # Verificação final\n",
    "# if not acertou:\n",
    "#     print(f'Que pena {usuario_d3}, você não acertou. :(')\n",
    "#     print(f'O número secreto era {numero_secreto_d3_loop}.')\n"
   ]
  },
  {
   "cell_type": "markdown",
   "metadata": {},
   "source": [
    " ## --- Tópico 10.4: Estudo de Caso (Pedra, Papel e Tesoura) ---"
   ]
  },
  {
   "cell_type": "code",
   "execution_count": null,
   "metadata": {},
   "outputs": [],
   "source": [
    "print(\"\\n--- Estudo de Caso (Pedra, Papel e Tesoura) ---\")\n",
    "# Descomente as linhas abaixo para executar o desafio\n",
    "# print(\"--- Jogo Pedra, Papel e Tesoura (2 Jogadores) ---\")\n",
    "# opcoes_validas = (\"pedra\", \"papel\", \"tesoura\")\n",
    "# print(f\"Opções válidas: {opcoes_validas}\")\n",
    "# print(\"-\" * 25) \n",
    "# \n",
    "# jogada_jogador1_inicial = input(\"Jogador 1, digite sua jogada: \")\n",
    "# jogada_jogador2_inicial = input(\"Jogador 2, digite sua jogada: \")\n",
    "# \n",
    "# # Tratamento dos Dados de Entrada\n",
    "# jogada_jogador1 = jogada_jogador1_inicial.lower().strip()\n",
    "# jogada_jogador2 = jogada_jogador2_inicial.lower().strip()\n",
    "# print(\"-\" * 25)\n",
    "# \n",
    "# # Lógica do Jogo\n",
    "# if jogada_jogador1 not in opcoes_validas or jogada_jogador2 not in opcoes_validas:\n",
    "#     print(\"Jogada inválida! Use apenas 'pedra', 'papel' ou 'tesoura'.\")\n",
    "# elif jogada_jogador1 == jogada_jogador2:\n",
    "#     print(\"Resultado: É um empate!\")\n",
    "# elif (jogada_jogador1 == \"pedra\" and jogada_jogador2 == \"tesoura\") or \\\n",
    "#      (jogada_jogador1 == \"tesoura\" and jogada_jogador2 == \"papel\") or \\\n",
    "#      (jogada_jogador1 == \"papel\" and jogada_jogador2 == \"pedra\"):\n",
    "#     print(\"Resultado: Jogador 1 venceu! Parabéns!\")\n",
    "# else:\n",
    "#     print(\"Resultado: Jogador 2 venceu! Parabéns!\")\n",
    "# print(\"\\n--- Fim de Jogo ---\")"
   ]
  }
 ],
 "metadata": {
  "kernelspec": {
   "display_name": "Python 3",
   "language": "python",
   "name": "python3"
  },
  "language_info": {
   "codemirror_mode": {
    "name": "ipython",
    "version": 3
   },
   "file_extension": ".py",
   "mimetype": "text/x-python",
   "name": "python",
   "nbconvert_exporter": "python",
   "pygments_lexer": "ipython3",
   "version": "3.13.3"
  }
 },
 "nbformat": 4,
 "nbformat_minor": 2
}
